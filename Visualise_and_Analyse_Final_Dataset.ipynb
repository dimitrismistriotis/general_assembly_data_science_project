{
 "cells": [
  {
   "cell_type": "markdown",
   "metadata": {},
   "source": [
    "# Visualise and Analyse Final Dataset"
   ]
  },
  {
   "cell_type": "code",
   "execution_count": 1,
   "metadata": {
    "collapsed": true
   },
   "outputs": [],
   "source": [
    "%matplotlib inline"
   ]
  },
  {
   "cell_type": "code",
   "execution_count": 2,
   "metadata": {
    "collapsed": true
   },
   "outputs": [],
   "source": [
    "import pandas as pd\n",
    "import matplotlib.pyplot as plt\n",
    "import seaborn as sns\n",
    "import numpy as np\n",
    "from scipy.stats import mode\n",
    "\n",
    "import statsmodels.formula.api as smf"
   ]
  },
  {
   "cell_type": "markdown",
   "metadata": {},
   "source": [
    "The lastest year with most data available is **2014**. Whenever a year is to be chosen, analysis will be conducted for  this year. Will use a range if it is necessary to generalise, acquire more results, this is another reason that a variable is used instead of hard coding."
   ]
  },
  {
   "cell_type": "code",
   "execution_count": 3,
   "metadata": {
    "collapsed": true
   },
   "outputs": [],
   "source": [
    "magic_year = 2014"
   ]
  },
  {
   "cell_type": "code",
   "execution_count": 4,
   "metadata": {},
   "outputs": [
    {
     "data": {
      "text/html": [
       "<div>\n",
       "<style>\n",
       "    .dataframe thead tr:only-child th {\n",
       "        text-align: right;\n",
       "    }\n",
       "\n",
       "    .dataframe thead th {\n",
       "        text-align: left;\n",
       "    }\n",
       "\n",
       "    .dataframe tbody tr th {\n",
       "        vertical-align: top;\n",
       "    }\n",
       "</style>\n",
       "<table border=\"1\" class=\"dataframe\">\n",
       "  <thead>\n",
       "    <tr style=\"text-align: right;\">\n",
       "      <th></th>\n",
       "      <th>country_name</th>\n",
       "      <th>country_code</th>\n",
       "      <th>gdp_2004</th>\n",
       "      <th>gdp_2005</th>\n",
       "      <th>gdp_2006</th>\n",
       "      <th>gdp_2007</th>\n",
       "      <th>gdp_2008</th>\n",
       "      <th>gdp_2009</th>\n",
       "      <th>gdp_2010</th>\n",
       "      <th>gdp_2011</th>\n",
       "      <th>...</th>\n",
       "      <th>economic_freedom_index_2011</th>\n",
       "      <th>economic_freedom_index_2012</th>\n",
       "      <th>economic_freedom_index_2013</th>\n",
       "      <th>economic_freedom_index_2014</th>\n",
       "      <th>democracy_score_2016</th>\n",
       "      <th>democracy_score_2011</th>\n",
       "      <th>democracy_score_2012</th>\n",
       "      <th>democracy_score_2013</th>\n",
       "      <th>democracy_score_2014</th>\n",
       "      <th>democracy_score_2015</th>\n",
       "    </tr>\n",
       "  </thead>\n",
       "  <tbody>\n",
       "    <tr>\n",
       "      <th>0</th>\n",
       "      <td>Angola</td>\n",
       "      <td>AGO</td>\n",
       "      <td>1041.086844</td>\n",
       "      <td>1443.991929</td>\n",
       "      <td>2062.415149</td>\n",
       "      <td>2878.837144</td>\n",
       "      <td>3868.578883</td>\n",
       "      <td>3347.844850</td>\n",
       "      <td>3529.053482</td>\n",
       "      <td>4299.012889</td>\n",
       "      <td>...</td>\n",
       "      <td>5.13</td>\n",
       "      <td>5.32</td>\n",
       "      <td>5.21</td>\n",
       "      <td>5.08</td>\n",
       "      <td>3.40</td>\n",
       "      <td>3.32</td>\n",
       "      <td>3.35</td>\n",
       "      <td>3.35</td>\n",
       "      <td>3.35</td>\n",
       "      <td>3.35</td>\n",
       "    </tr>\n",
       "    <tr>\n",
       "      <th>1</th>\n",
       "      <td>Albania</td>\n",
       "      <td>ALB</td>\n",
       "      <td>2416.588235</td>\n",
       "      <td>2709.142931</td>\n",
       "      <td>3005.012903</td>\n",
       "      <td>3603.013685</td>\n",
       "      <td>4370.539647</td>\n",
       "      <td>4114.136545</td>\n",
       "      <td>4094.358832</td>\n",
       "      <td>4437.178068</td>\n",
       "      <td>...</td>\n",
       "      <td>7.25</td>\n",
       "      <td>7.21</td>\n",
       "      <td>7.27</td>\n",
       "      <td>7.40</td>\n",
       "      <td>5.91</td>\n",
       "      <td>5.81</td>\n",
       "      <td>5.67</td>\n",
       "      <td>5.67</td>\n",
       "      <td>5.67</td>\n",
       "      <td>5.91</td>\n",
       "    </tr>\n",
       "    <tr>\n",
       "      <th>2</th>\n",
       "      <td>United Arab Emirates</td>\n",
       "      <td>ARE</td>\n",
       "      <td>36161.170607</td>\n",
       "      <td>39439.801968</td>\n",
       "      <td>42372.221662</td>\n",
       "      <td>42672.613229</td>\n",
       "      <td>45758.905536</td>\n",
       "      <td>33072.575166</td>\n",
       "      <td>35049.148317</td>\n",
       "      <td>40462.312090</td>\n",
       "      <td>...</td>\n",
       "      <td>8.06</td>\n",
       "      <td>8.08</td>\n",
       "      <td>8.11</td>\n",
       "      <td>7.98</td>\n",
       "      <td>2.75</td>\n",
       "      <td>2.58</td>\n",
       "      <td>2.58</td>\n",
       "      <td>2.52</td>\n",
       "      <td>2.64</td>\n",
       "      <td>2.75</td>\n",
       "    </tr>\n",
       "    <tr>\n",
       "      <th>3</th>\n",
       "      <td>Argentina</td>\n",
       "      <td>ARG</td>\n",
       "      <td>4251.574348</td>\n",
       "      <td>5076.883829</td>\n",
       "      <td>5878.761027</td>\n",
       "      <td>7193.617640</td>\n",
       "      <td>8953.359275</td>\n",
       "      <td>8161.306966</td>\n",
       "      <td>10276.260498</td>\n",
       "      <td>12726.908359</td>\n",
       "      <td>...</td>\n",
       "      <td>5.67</td>\n",
       "      <td>5.15</td>\n",
       "      <td>5.01</td>\n",
       "      <td>4.81</td>\n",
       "      <td>6.96</td>\n",
       "      <td>6.84</td>\n",
       "      <td>6.84</td>\n",
       "      <td>6.84</td>\n",
       "      <td>6.84</td>\n",
       "      <td>7.02</td>\n",
       "    </tr>\n",
       "    <tr>\n",
       "      <th>4</th>\n",
       "      <td>Armenia</td>\n",
       "      <td>ARM</td>\n",
       "      <td>1191.961920</td>\n",
       "      <td>1643.758397</td>\n",
       "      <td>2158.002909</td>\n",
       "      <td>3138.808703</td>\n",
       "      <td>4010.026997</td>\n",
       "      <td>2993.832531</td>\n",
       "      <td>3218.381655</td>\n",
       "      <td>3526.978143</td>\n",
       "      <td>...</td>\n",
       "      <td>7.71</td>\n",
       "      <td>7.75</td>\n",
       "      <td>7.70</td>\n",
       "      <td>7.71</td>\n",
       "      <td>3.88</td>\n",
       "      <td>4.09</td>\n",
       "      <td>4.09</td>\n",
       "      <td>4.02</td>\n",
       "      <td>4.13</td>\n",
       "      <td>4.00</td>\n",
       "    </tr>\n",
       "  </tbody>\n",
       "</table>\n",
       "<p>5 rows × 32 columns</p>\n",
       "</div>"
      ],
      "text/plain": [
       "           country_name country_code      gdp_2004      gdp_2005  \\\n",
       "0                Angola          AGO   1041.086844   1443.991929   \n",
       "1               Albania          ALB   2416.588235   2709.142931   \n",
       "2  United Arab Emirates          ARE  36161.170607  39439.801968   \n",
       "3             Argentina          ARG   4251.574348   5076.883829   \n",
       "4               Armenia          ARM   1191.961920   1643.758397   \n",
       "\n",
       "       gdp_2006      gdp_2007      gdp_2008      gdp_2009      gdp_2010  \\\n",
       "0   2062.415149   2878.837144   3868.578883   3347.844850   3529.053482   \n",
       "1   3005.012903   3603.013685   4370.539647   4114.136545   4094.358832   \n",
       "2  42372.221662  42672.613229  45758.905536  33072.575166  35049.148317   \n",
       "3   5878.761027   7193.617640   8953.359275   8161.306966  10276.260498   \n",
       "4   2158.002909   3138.808703   4010.026997   2993.832531   3218.381655   \n",
       "\n",
       "       gdp_2011          ...           economic_freedom_index_2011  \\\n",
       "0   4299.012889          ...                                  5.13   \n",
       "1   4437.178068          ...                                  7.25   \n",
       "2  40462.312090          ...                                  8.06   \n",
       "3  12726.908359          ...                                  5.67   \n",
       "4   3526.978143          ...                                  7.71   \n",
       "\n",
       "   economic_freedom_index_2012  economic_freedom_index_2013  \\\n",
       "0                         5.32                         5.21   \n",
       "1                         7.21                         7.27   \n",
       "2                         8.08                         8.11   \n",
       "3                         5.15                         5.01   \n",
       "4                         7.75                         7.70   \n",
       "\n",
       "   economic_freedom_index_2014  democracy_score_2016  democracy_score_2011  \\\n",
       "0                         5.08                  3.40                  3.32   \n",
       "1                         7.40                  5.91                  5.81   \n",
       "2                         7.98                  2.75                  2.58   \n",
       "3                         4.81                  6.96                  6.84   \n",
       "4                         7.71                  3.88                  4.09   \n",
       "\n",
       "   democracy_score_2012  democracy_score_2013  democracy_score_2014  \\\n",
       "0                  3.35                  3.35                  3.35   \n",
       "1                  5.67                  5.67                  5.67   \n",
       "2                  2.58                  2.52                  2.64   \n",
       "3                  6.84                  6.84                  6.84   \n",
       "4                  4.09                  4.02                  4.13   \n",
       "\n",
       "   democracy_score_2015  \n",
       "0                  3.35  \n",
       "1                  5.91  \n",
       "2                  2.75  \n",
       "3                  7.02  \n",
       "4                  4.00  \n",
       "\n",
       "[5 rows x 32 columns]"
      ]
     },
     "execution_count": 4,
     "metadata": {},
     "output_type": "execute_result"
    }
   ],
   "source": [
    "ds = pd.read_csv(\"project_data.csv\")\n",
    "\n",
    "ds.head()"
   ]
  },
  {
   "cell_type": "markdown",
   "metadata": {},
   "source": [
    "## Visualise and Describe Democracy, GDP, and a Financial Liberties values for a single year"
   ]
  },
  {
   "cell_type": "markdown",
   "metadata": {},
   "source": [
    "### GDP"
   ]
  },
  {
   "cell_type": "code",
   "execution_count": 5,
   "metadata": {},
   "outputs": [
    {
     "data": {
      "image/png": "[encoded data removed]",
      "text/plain": [
       "<matplotlib.figure.Figure at 0x7f202df82490>"
      ]
     },
     "metadata": {},
     "output_type": "display_data"
    }
   ],
   "source": [
    "gdp_column = \"gdp_%s\" % magic_year\n",
    "\n",
    "gdp_data = ds[gdp_column].dropna()\n",
    "\n",
    "# gdp_data\n",
    "\n",
    "plt.figure()\n",
    "plt.boxplot([gdp_data / 1000], 0, 'gD', 0, labels=[\"GDP pca\"])\n",
    "plt.title(\"GDP per capita in $1,000 for %s\" % magic_year)\n",
    "plt.show()"
   ]
  },
  {
   "cell_type": "code",
   "execution_count": 6,
   "metadata": {},
   "outputs": [
    {
     "data": {
      "text/plain": [
       "count       134.000000\n",
       "mean      16224.437678\n",
       "std       22316.913842\n",
       "min         312.748979\n",
       "25%        1474.134603\n",
       "50%        6234.432671\n",
       "75%       20329.203029\n",
       "max      119172.741757\n",
       "Name: gdp_2014, dtype: float64"
      ]
     },
     "execution_count": 6,
     "metadata": {},
     "output_type": "execute_result"
    }
   ],
   "source": [
    "gdp_data.describe()"
   ]
  },
  {
   "cell_type": "code",
   "execution_count": 7,
   "metadata": {},
   "outputs": [
    {
     "data": {
      "text/plain": [
       "498044643.4290505"
      ]
     },
     "execution_count": 7,
     "metadata": {},
     "output_type": "execute_result"
    }
   ],
   "source": [
    "gdp_data.var()"
   ]
  },
  {
   "cell_type": "code",
   "execution_count": 8,
   "metadata": {},
   "outputs": [
    {
     "data": {
      "text/plain": [
       "ModeResult(mode=array([0]), count=array([20]))"
      ]
     },
     "execution_count": 8,
     "metadata": {},
     "output_type": "execute_result"
    }
   ],
   "source": [
    "kgdp = map(int, gdp_data / 1000)\n",
    "# print(kgdp)\n",
    "mode(kgdp)"
   ]
  },
  {
   "cell_type": "code",
   "execution_count": 9,
   "metadata": {},
   "outputs": [
    {
     "data": {
      "text/plain": [
       "<matplotlib.axes._subplots.AxesSubplot at 0x7f202ab3b050>"
      ]
     },
     "execution_count": 9,
     "metadata": {},
     "output_type": "execute_result"
    },
    {
     "data": {
      "image/png": "[encoded data removed]",
      "text/plain": [
       "<matplotlib.figure.Figure at 0x7f202ab68a90>"
      ]
     },
     "metadata": {},
     "output_type": "display_data"
    }
   ],
   "source": [
    "sns.stripplot(data=(gdp_data / 1000), jitter=True, color=\"g\")"
   ]
  },
  {
   "cell_type": "markdown",
   "metadata": {},
   "source": [
    "### Economic Freedom"
   ]
  },
  {
   "cell_type": "code",
   "execution_count": 10,
   "metadata": {},
   "outputs": [
    {
     "data": {
      "image/png": "[encoded data removed]",
      "text/plain": [
       "<matplotlib.figure.Figure at 0x7f202abd9ad0>"
      ]
     },
     "metadata": {},
     "output_type": "display_data"
    }
   ],
   "source": [
    "freedom_column = \"economic_freedom_index_%s\" % magic_year\n",
    "\n",
    "economic_freedom = ds[freedom_column].dropna()\n",
    "\n",
    "# econ_freedom_data\n",
    "\n",
    "plt.figure()\n",
    "plt.boxplot([economic_freedom], 0, 'cD', 0, labels=[\"Economic Freedom\"])\n",
    "plt.title(\"Economic Freedom Index for %s\" % magic_year)\n",
    "plt.show()"
   ]
  },
  {
   "cell_type": "code",
   "execution_count": 11,
   "metadata": {},
   "outputs": [
    {
     "data": {
      "text/plain": [
       "<matplotlib.axes._subplots.AxesSubplot at 0x7f202aa1edd0>"
      ]
     },
     "execution_count": 11,
     "metadata": {},
     "output_type": "execute_result"
    },
    {
     "data": {
      "image/png": "[encoded data removed]",
      "text/plain": [
       "<matplotlib.figure.Figure at 0x7f202aa4e910>"
      ]
     },
     "metadata": {},
     "output_type": "display_data"
    }
   ],
   "source": [
    "sns.stripplot(data=economic_freedom, jitter=True, color=\"c\", marker=\"d\")"
   ]
  },
  {
   "cell_type": "code",
   "execution_count": 12,
   "metadata": {},
   "outputs": [
    {
     "data": {
      "text/plain": [
       "count    135.000000\n",
       "mean       6.892667\n",
       "std        0.805859\n",
       "min        4.580000\n",
       "25%        6.425000\n",
       "50%        7.040000\n",
       "75%        7.465000\n",
       "max        8.710000\n",
       "Name: economic_freedom_index_2014, dtype: float64"
      ]
     },
     "execution_count": 12,
     "metadata": {},
     "output_type": "execute_result"
    }
   ],
   "source": [
    "economic_freedom.describe()"
   ]
  },
  {
   "cell_type": "code",
   "execution_count": 13,
   "metadata": {},
   "outputs": [
    {
     "data": {
      "text/plain": [
       "0.6494092537313432"
      ]
     },
     "execution_count": 13,
     "metadata": {},
     "output_type": "execute_result"
    }
   ],
   "source": [
    "economic_freedom.var()"
   ]
  },
  {
   "cell_type": "code",
   "execution_count": 14,
   "metadata": {},
   "outputs": [
    {
     "data": {
      "text/plain": [
       "ModeResult(mode=array([7]), count=array([68]))"
      ]
     },
     "execution_count": 14,
     "metadata": {},
     "output_type": "execute_result"
    }
   ],
   "source": [
    "economic_freedom_ints = map(int, economic_freedom)\n",
    "# print(economic_freedom_ints)\n",
    "mode(economic_freedom_ints)"
   ]
  },
  {
   "cell_type": "markdown",
   "metadata": {},
   "source": [
    "## Civil Freedom"
   ]
  },
  {
   "cell_type": "code",
   "execution_count": 15,
   "metadata": {},
   "outputs": [
    {
     "data": {
      "image/png": "[encoded data removed]",
      "text/plain": [
       "<matplotlib.figure.Figure at 0x7f202aa11d10>"
      ]
     },
     "metadata": {},
     "output_type": "display_data"
    }
   ],
   "source": [
    "civil_freedom_column = \"democracy_score_%s\" % magic_year\n",
    "\n",
    "civil_freedom = ds[civil_freedom_column].dropna()\n",
    "\n",
    "# civil_freedom_data\n",
    "\n",
    "plt.figure()\n",
    "plt.boxplot([civil_freedom], 0, 'bD', 0, labels=[\"Civil/democratic Freedom\"])\n",
    "plt.title(\"Freedom Index for %s\" % magic_year)\n",
    "plt.show()"
   ]
  },
  {
   "cell_type": "code",
   "execution_count": 16,
   "metadata": {},
   "outputs": [
    {
     "data": {
      "text/plain": [
       "<matplotlib.axes._subplots.AxesSubplot at 0x7f202a9c73d0>"
      ]
     },
     "execution_count": 16,
     "metadata": {},
     "output_type": "execute_result"
    },
    {
     "data": {
      "image/png": "[encoded data removed]",
      "text/plain": [
       "<matplotlib.figure.Figure at 0x7f202a9914d0>"
      ]
     },
     "metadata": {},
     "output_type": "display_data"
    }
   ],
   "source": [
    "sns.stripplot(data=civil_freedom, jitter=True, color=\"b\", marker=\"v\")"
   ]
  },
  {
   "cell_type": "code",
   "execution_count": 17,
   "metadata": {},
   "outputs": [
    {
     "data": {
      "text/plain": [
       "count    135.000000\n",
       "mean       5.954963\n",
       "std        2.024466\n",
       "min        1.490000\n",
       "25%        4.150000\n",
       "50%        6.150000\n",
       "75%        7.555000\n",
       "max        9.930000\n",
       "Name: democracy_score_2014, dtype: float64"
      ]
     },
     "execution_count": 17,
     "metadata": {},
     "output_type": "execute_result"
    }
   ],
   "source": [
    "civil_freedom.describe()"
   ]
  },
  {
   "cell_type": "code",
   "execution_count": 18,
   "metadata": {},
   "outputs": [
    {
     "data": {
      "text/plain": [
       "4.09846249861802"
      ]
     },
     "execution_count": 18,
     "metadata": {},
     "output_type": "execute_result"
    }
   ],
   "source": [
    "civil_freedom.var()"
   ]
  },
  {
   "cell_type": "code",
   "execution_count": 19,
   "metadata": {},
   "outputs": [
    {
     "data": {
      "text/plain": [
       "ModeResult(mode=array([6]), count=array([27]))"
      ]
     },
     "execution_count": 19,
     "metadata": {},
     "output_type": "execute_result"
    }
   ],
   "source": [
    "civil_freedom_ints = map(int, civil_freedom)\n",
    "# print(civil_freedom_ints)\n",
    "mode(civil_freedom_ints)"
   ]
  },
  {
   "cell_type": "markdown",
   "metadata": {},
   "source": [
    "## Visualise relationships"
   ]
  },
  {
   "cell_type": "code",
   "execution_count": 20,
   "metadata": {},
   "outputs": [
    {
     "data": {
      "text/html": [
       "<div>\n",
       "<style>\n",
       "    .dataframe thead tr:only-child th {\n",
       "        text-align: right;\n",
       "    }\n",
       "\n",
       "    .dataframe thead th {\n",
       "        text-align: left;\n",
       "    }\n",
       "\n",
       "    .dataframe tbody tr th {\n",
       "        vertical-align: top;\n",
       "    }\n",
       "</style>\n",
       "<table border=\"1\" class=\"dataframe\">\n",
       "  <thead>\n",
       "    <tr style=\"text-align: right;\">\n",
       "      <th></th>\n",
       "      <th>gdp</th>\n",
       "      <th>financial_freedom</th>\n",
       "      <th>civil_freedom</th>\n",
       "    </tr>\n",
       "  </thead>\n",
       "  <tbody>\n",
       "    <tr>\n",
       "      <th>0</th>\n",
       "      <td>4.709312</td>\n",
       "      <td>5.08</td>\n",
       "      <td>3.35</td>\n",
       "    </tr>\n",
       "    <tr>\n",
       "      <th>1</th>\n",
       "      <td>4.575764</td>\n",
       "      <td>7.40</td>\n",
       "      <td>5.67</td>\n",
       "    </tr>\n",
       "    <tr>\n",
       "      <th>2</th>\n",
       "      <td>44.449740</td>\n",
       "      <td>7.98</td>\n",
       "      <td>2.64</td>\n",
       "    </tr>\n",
       "    <tr>\n",
       "      <th>3</th>\n",
       "      <td>12.245256</td>\n",
       "      <td>4.81</td>\n",
       "      <td>6.84</td>\n",
       "    </tr>\n",
       "    <tr>\n",
       "      <th>4</th>\n",
       "      <td>3.994712</td>\n",
       "      <td>7.71</td>\n",
       "      <td>4.13</td>\n",
       "    </tr>\n",
       "  </tbody>\n",
       "</table>\n",
       "</div>"
      ],
      "text/plain": [
       "         gdp  financial_freedom  civil_freedom\n",
       "0   4.709312               5.08           3.35\n",
       "1   4.575764               7.40           5.67\n",
       "2  44.449740               7.98           2.64\n",
       "3  12.245256               4.81           6.84\n",
       "4   3.994712               7.71           4.13"
      ]
     },
     "execution_count": 20,
     "metadata": {},
     "output_type": "execute_result"
    }
   ],
   "source": [
    "df_viz1 = ds[[gdp_column, freedom_column, civil_freedom_column]].rename(\n",
    "    columns={gdp_column: \"gdp\", freedom_column: 'financial_freedom', civil_freedom_column: \"civil_freedom\"}).dropna()\n",
    "\n",
    "# Per usual divide GDP w. 1000\n",
    "df_viz1['gdp'] = df_viz1['gdp'] / 1000\n",
    "\n",
    "df_viz1.head()"
   ]
  },
  {
   "cell_type": "code",
   "execution_count": 21,
   "metadata": {},
   "outputs": [
    {
     "data": {
      "text/plain": [
       "<seaborn.axisgrid.FacetGrid at 0x7f202df25f50>"
      ]
     },
     "execution_count": 21,
     "metadata": {},
     "output_type": "execute_result"
    },
    {
     "data": {
      "image/png": "[encoded data removed]",
      "text/plain": [
       "<matplotlib.figure.Figure at 0x7f202df25dd0>"
      ]
     },
     "metadata": {},
     "output_type": "display_data"
    }
   ],
   "source": [
    "df_viz1['color'] = 'cyan'\n",
    "\n",
    "sns.lmplot('gdp', 'financial_freedom', df_viz1, line_kws={'color': 'cyan'}, markers=[\"d\"],\n",
    "           hue=\"color\", palette=dict(cyan=\"cyan\"))"
   ]
  },
  {
   "cell_type": "code",
   "execution_count": 22,
   "metadata": {},
   "outputs": [
    {
     "data": {
      "text/plain": [
       "<seaborn.axisgrid.FacetGrid at 0x7f202a9b7d50>"
      ]
     },
     "execution_count": 22,
     "metadata": {},
     "output_type": "execute_result"
    },
    {
     "data": {
      "image/png": "[encoded data removed]",
      "text/plain": [
       "<matplotlib.figure.Figure at 0x7f202a9b7e10>"
      ]
     },
     "metadata": {},
     "output_type": "display_data"
    }
   ],
   "source": [
    "df_viz1['color'] = 'blue'\n",
    "\n",
    "sns.lmplot('gdp', 'civil_freedom', df_viz1, line_kws={'color': 'blue'}, markers=[\"v\"],\n",
    "           hue=\"color\", palette=dict(blue=\"blue\"))"
   ]
  },
  {
   "cell_type": "code",
   "execution_count": 23,
   "metadata": {},
   "outputs": [
    {
     "data": {
      "text/plain": [
       "<seaborn.axisgrid.FacetGrid at 0x7f202aaf72d0>"
      ]
     },
     "execution_count": 23,
     "metadata": {},
     "output_type": "execute_result"
    },
    {
     "data": {
      "image/png": "[encoded data removed]",
      "text/plain": [
       "<matplotlib.figure.Figure at 0x7f202a92ce90>"
      ]
     },
     "metadata": {},
     "output_type": "display_data"
    }
   ],
   "source": [
    "sns.lmplot('financial_freedom', 'civil_freedom', df_viz1)"
   ]
  },
  {
   "cell_type": "markdown",
   "metadata": {},
   "source": [
    "### Correlation Heatmap"
   ]
  },
  {
   "cell_type": "code",
   "execution_count": 24,
   "metadata": {},
   "outputs": [
    {
     "data": {
      "text/plain": [
       "<matplotlib.axes._subplots.AxesSubplot at 0x7f202a945050>"
      ]
     },
     "execution_count": 24,
     "metadata": {},
     "output_type": "execute_result"
    },
    {
     "data": {
      "image/png": "[encoded data removed]",
      "text/plain": [
       "<matplotlib.figure.Figure at 0x7f202a391bd0>"
      ]
     },
     "metadata": {},
     "output_type": "display_data"
    }
   ],
   "source": [
    "correlations = df_viz1[['gdp', 'civil_freedom', 'financial_freedom']].corr()\n",
    "sns.heatmap(correlations)"
   ]
  },
  {
   "cell_type": "markdown",
   "metadata": {},
   "source": [
    "## Relationships summaries"
   ]
  },
  {
   "cell_type": "code",
   "execution_count": 25,
   "metadata": {},
   "outputs": [
    {
     "data": {
      "text/html": [
       "<table class=\"simpletable\">\n",
       "<caption>OLS Regression Results</caption>\n",
       "<tr>\n",
       "  <th>Dep. Variable:</th>           <td>gdp</td>       <th>  R-squared:         </th> <td>   0.379</td>\n",
       "</tr>\n",
       "<tr>\n",
       "  <th>Model:</th>                   <td>OLS</td>       <th>  Adj. R-squared:    </th> <td>   0.370</td>\n",
       "</tr>\n",
       "<tr>\n",
       "  <th>Method:</th>             <td>Least Squares</td>  <th>  F-statistic:       </th> <td>   40.01</td>\n",
       "</tr>\n",
       "<tr>\n",
       "  <th>Date:</th>             <td>Mon, 21 Aug 2017</td> <th>  Prob (F-statistic):</th> <td>2.73e-14</td>\n",
       "</tr>\n",
       "<tr>\n",
       "  <th>Time:</th>                 <td>16:24:07</td>     <th>  Log-Likelihood:    </th> <td> -573.81</td>\n",
       "</tr>\n",
       "<tr>\n",
       "  <th>No. Observations:</th>      <td>   134</td>      <th>  AIC:               </th> <td>   1154.</td>\n",
       "</tr>\n",
       "<tr>\n",
       "  <th>Df Residuals:</th>          <td>   131</td>      <th>  BIC:               </th> <td>   1162.</td>\n",
       "</tr>\n",
       "<tr>\n",
       "  <th>Df Model:</th>              <td>     2</td>      <th>                     </th>     <td> </td>   \n",
       "</tr>\n",
       "<tr>\n",
       "  <th>Covariance Type:</th>      <td>nonrobust</td>    <th>                     </th>     <td> </td>   \n",
       "</tr>\n",
       "</table>\n",
       "<table class=\"simpletable\">\n",
       "<tr>\n",
       "          <td></td>             <th>coef</th>     <th>std err</th>      <th>t</th>      <th>P>|t|</th>  <th>[0.025</th>    <th>0.975]</th>  \n",
       "</tr>\n",
       "<tr>\n",
       "  <th>Intercept</th>         <td>  -78.7916</td> <td>   14.033</td> <td>   -5.615</td> <td> 0.000</td> <td> -106.552</td> <td>  -51.032</td>\n",
       "</tr>\n",
       "<tr>\n",
       "  <th>civil_freedom</th>     <td>    3.6230</td> <td>    0.902</td> <td>    4.015</td> <td> 0.000</td> <td>    1.838</td> <td>    5.408</td>\n",
       "</tr>\n",
       "<tr>\n",
       "  <th>financial_freedom</th> <td>   10.6200</td> <td>    2.330</td> <td>    4.557</td> <td> 0.000</td> <td>    6.010</td> <td>   15.230</td>\n",
       "</tr>\n",
       "</table>\n",
       "<table class=\"simpletable\">\n",
       "<tr>\n",
       "  <th>Omnibus:</th>       <td>62.856</td> <th>  Durbin-Watson:     </th> <td>   2.116</td>\n",
       "</tr>\n",
       "<tr>\n",
       "  <th>Prob(Omnibus):</th> <td> 0.000</td> <th>  Jarque-Bera (JB):  </th> <td> 209.067</td>\n",
       "</tr>\n",
       "<tr>\n",
       "  <th>Skew:</th>          <td> 1.779</td> <th>  Prob(JB):          </th> <td>4.00e-46</td>\n",
       "</tr>\n",
       "<tr>\n",
       "  <th>Kurtosis:</th>      <td> 7.978</td> <th>  Cond. No.          </th> <td>    86.7</td>\n",
       "</tr>\n",
       "</table>"
      ],
      "text/plain": [
       "<class 'statsmodels.iolib.summary.Summary'>\n",
       "\"\"\"\n",
       "                            OLS Regression Results                            \n",
       "==============================================================================\n",
       "Dep. Variable:                    gdp   R-squared:                       0.379\n",
       "Model:                            OLS   Adj. R-squared:                  0.370\n",
       "Method:                 Least Squares   F-statistic:                     40.01\n",
       "Date:                Mon, 21 Aug 2017   Prob (F-statistic):           2.73e-14\n",
       "Time:                        16:24:07   Log-Likelihood:                -573.81\n",
       "No. Observations:                 134   AIC:                             1154.\n",
       "Df Residuals:                     131   BIC:                             1162.\n",
       "Df Model:                           2                                         \n",
       "Covariance Type:            nonrobust                                         \n",
       "=====================================================================================\n",
       "                        coef    std err          t      P>|t|      [0.025      0.975]\n",
       "-------------------------------------------------------------------------------------\n",
       "Intercept           -78.7916     14.033     -5.615      0.000    -106.552     -51.032\n",
       "civil_freedom         3.6230      0.902      4.015      0.000       1.838       5.408\n",
       "financial_freedom    10.6200      2.330      4.557      0.000       6.010      15.230\n",
       "==============================================================================\n",
       "Omnibus:                       62.856   Durbin-Watson:                   2.116\n",
       "Prob(Omnibus):                  0.000   Jarque-Bera (JB):              209.067\n",
       "Skew:                           1.779   Prob(JB):                     4.00e-46\n",
       "Kurtosis:                       7.978   Cond. No.                         86.7\n",
       "==============================================================================\n",
       "\n",
       "Warnings:\n",
       "[1] Standard Errors assume that the covariance matrix of the errors is correctly specified.\n",
       "\"\"\""
      ]
     },
     "execution_count": 25,
     "metadata": {},
     "output_type": "execute_result"
    }
   ],
   "source": [
    "lm = smf.ols(formula='gdp ~ civil_freedom + financial_freedom', data=df_viz1).fit()\n",
    "\n",
    "lm.summary()"
   ]
  },
  {
   "cell_type": "markdown",
   "metadata": {},
   "source": [
    "## Assemble dataframe from different years\n",
    "\n",
    "Decided to unify metrics from last X years to one dataframe so that there would be a plethora of datapoints."
   ]
  },
  {
   "cell_type": "code",
   "execution_count": 31,
   "metadata": {
    "collapsed": true
   },
   "outputs": [],
   "source": [
    "years = range(2011, 2014 + 1) # +1 to indicate that the range includes last one"
   ]
  },
  {
   "cell_type": "code",
   "execution_count": 32,
   "metadata": {},
   "outputs": [
    {
     "data": {
      "text/plain": [
       "[2011, 2012, 2013, 2014]"
      ]
     },
     "execution_count": 32,
     "metadata": {},
     "output_type": "execute_result"
    }
   ],
   "source": [
    "years"
   ]
  },
  {
   "cell_type": "code",
   "execution_count": 43,
   "metadata": {},
   "outputs": [
    {
     "data": {
      "text/html": [
       "<div>\n",
       "<style>\n",
       "    .dataframe thead tr:only-child th {\n",
       "        text-align: right;\n",
       "    }\n",
       "\n",
       "    .dataframe thead th {\n",
       "        text-align: left;\n",
       "    }\n",
       "\n",
       "    .dataframe tbody tr th {\n",
       "        vertical-align: top;\n",
       "    }\n",
       "</style>\n",
       "<table border=\"1\" class=\"dataframe\">\n",
       "  <thead>\n",
       "    <tr style=\"text-align: right;\">\n",
       "      <th></th>\n",
       "      <th>gdp</th>\n",
       "      <th>financial_freedom</th>\n",
       "      <th>civil_freedom</th>\n",
       "    </tr>\n",
       "  </thead>\n",
       "  <tbody>\n",
       "    <tr>\n",
       "      <th>0</th>\n",
       "      <td>4299.012889</td>\n",
       "      <td>5.13</td>\n",
       "      <td>3.32</td>\n",
       "    </tr>\n",
       "    <tr>\n",
       "      <th>1</th>\n",
       "      <td>4437.178068</td>\n",
       "      <td>7.25</td>\n",
       "      <td>5.81</td>\n",
       "    </tr>\n",
       "    <tr>\n",
       "      <th>2</th>\n",
       "      <td>40462.312090</td>\n",
       "      <td>8.06</td>\n",
       "      <td>2.58</td>\n",
       "    </tr>\n",
       "    <tr>\n",
       "      <th>3</th>\n",
       "      <td>12726.908359</td>\n",
       "      <td>5.67</td>\n",
       "      <td>6.84</td>\n",
       "    </tr>\n",
       "    <tr>\n",
       "      <th>4</th>\n",
       "      <td>3526.978143</td>\n",
       "      <td>7.71</td>\n",
       "      <td>4.09</td>\n",
       "    </tr>\n",
       "    <tr>\n",
       "      <th>5</th>\n",
       "      <td>62245.100292</td>\n",
       "      <td>7.93</td>\n",
       "      <td>9.22</td>\n",
       "    </tr>\n",
       "    <tr>\n",
       "      <th>6</th>\n",
       "      <td>51126.741392</td>\n",
       "      <td>7.57</td>\n",
       "      <td>8.49</td>\n",
       "    </tr>\n",
       "    <tr>\n",
       "      <th>7</th>\n",
       "      <td>7189.691229</td>\n",
       "      <td>6.19</td>\n",
       "      <td>3.15</td>\n",
       "    </tr>\n",
       "    <tr>\n",
       "      <th>8</th>\n",
       "      <td>260.479907</td>\n",
       "      <td>5.30</td>\n",
       "      <td>4.01</td>\n",
       "    </tr>\n",
       "    <tr>\n",
       "      <th>9</th>\n",
       "      <td>47702.774145</td>\n",
       "      <td>7.31</td>\n",
       "      <td>8.05</td>\n",
       "    </tr>\n",
       "    <tr>\n",
       "      <th>10</th>\n",
       "      <td>825.942785</td>\n",
       "      <td>6.05</td>\n",
       "      <td>6.06</td>\n",
       "    </tr>\n",
       "    <tr>\n",
       "      <th>11</th>\n",
       "      <td>666.840278</td>\n",
       "      <td>5.95</td>\n",
       "      <td>3.59</td>\n",
       "    </tr>\n",
       "    <tr>\n",
       "      <th>12</th>\n",
       "      <td>835.789340</td>\n",
       "      <td>6.41</td>\n",
       "      <td>5.86</td>\n",
       "    </tr>\n",
       "    <tr>\n",
       "      <th>13</th>\n",
       "      <td>7813.803499</td>\n",
       "      <td>7.38</td>\n",
       "      <td>6.78</td>\n",
       "    </tr>\n",
       "    <tr>\n",
       "      <th>14</th>\n",
       "      <td>22810.102419</td>\n",
       "      <td>7.76</td>\n",
       "      <td>2.92</td>\n",
       "    </tr>\n",
       "    <tr>\n",
       "      <th>15</th>\n",
       "      <td>2377.675918</td>\n",
       "      <td>6.39</td>\n",
       "      <td>5.84</td>\n",
       "    </tr>\n",
       "    <tr>\n",
       "      <th>16</th>\n",
       "      <td>13167.472892</td>\n",
       "      <td>6.58</td>\n",
       "      <td>7.12</td>\n",
       "    </tr>\n",
       "    <tr>\n",
       "      <th>18</th>\n",
       "      <td>7645.214609</td>\n",
       "      <td>7.23</td>\n",
       "      <td>7.63</td>\n",
       "    </tr>\n",
       "    <tr>\n",
       "      <th>19</th>\n",
       "      <td>494.330678</td>\n",
       "      <td>5.32</td>\n",
       "      <td>1.82</td>\n",
       "    </tr>\n",
       "    <tr>\n",
       "      <th>20</th>\n",
       "      <td>52082.210760</td>\n",
       "      <td>7.87</td>\n",
       "      <td>9.08</td>\n",
       "    </tr>\n",
       "    <tr>\n",
       "      <th>21</th>\n",
       "      <td>87998.444685</td>\n",
       "      <td>8.23</td>\n",
       "      <td>9.09</td>\n",
       "    </tr>\n",
       "    <tr>\n",
       "      <th>22</th>\n",
       "      <td>14705.692421</td>\n",
       "      <td>7.94</td>\n",
       "      <td>7.54</td>\n",
       "    </tr>\n",
       "    <tr>\n",
       "      <th>23</th>\n",
       "      <td>5633.796106</td>\n",
       "      <td>6.32</td>\n",
       "      <td>3.14</td>\n",
       "    </tr>\n",
       "    <tr>\n",
       "      <th>24</th>\n",
       "      <td>1295.649726</td>\n",
       "      <td>6.33</td>\n",
       "      <td>3.41</td>\n",
       "    </tr>\n",
       "    <tr>\n",
       "      <th>25</th>\n",
       "      <td>7227.739680</td>\n",
       "      <td>6.60</td>\n",
       "      <td>6.63</td>\n",
       "    </tr>\n",
       "    <tr>\n",
       "      <th>26</th>\n",
       "      <td>9186.596390</td>\n",
       "      <td>7.61</td>\n",
       "      <td>8.10</td>\n",
       "    </tr>\n",
       "    <tr>\n",
       "      <th>27</th>\n",
       "      <td>32233.839425</td>\n",
       "      <td>7.69</td>\n",
       "      <td>7.29</td>\n",
       "    </tr>\n",
       "    <tr>\n",
       "      <th>28</th>\n",
       "      <td>21717.457939</td>\n",
       "      <td>7.23</td>\n",
       "      <td>8.19</td>\n",
       "    </tr>\n",
       "    <tr>\n",
       "      <th>29</th>\n",
       "      <td>46810.327959</td>\n",
       "      <td>7.60</td>\n",
       "      <td>8.34</td>\n",
       "    </tr>\n",
       "    <tr>\n",
       "      <th>30</th>\n",
       "      <td>61753.660072</td>\n",
       "      <td>7.64</td>\n",
       "      <td>9.52</td>\n",
       "    </tr>\n",
       "    <tr>\n",
       "      <th>...</th>\n",
       "      <td>...</td>\n",
       "      <td>...</td>\n",
       "      <td>...</td>\n",
       "    </tr>\n",
       "    <tr>\n",
       "      <th>105</th>\n",
       "      <td>86852.710189</td>\n",
       "      <td>7.91</td>\n",
       "      <td>3.18</td>\n",
       "    </tr>\n",
       "    <tr>\n",
       "      <th>106</th>\n",
       "      <td>10020.277332</td>\n",
       "      <td>7.66</td>\n",
       "      <td>6.68</td>\n",
       "    </tr>\n",
       "    <tr>\n",
       "      <th>107</th>\n",
       "      <td>706.569952</td>\n",
       "      <td>7.38</td>\n",
       "      <td>3.25</td>\n",
       "    </tr>\n",
       "    <tr>\n",
       "      <th>108</th>\n",
       "      <td>24575.403037</td>\n",
       "      <td>6.95</td>\n",
       "      <td>1.82</td>\n",
       "    </tr>\n",
       "    <tr>\n",
       "      <th>109</th>\n",
       "      <td>1052.443873</td>\n",
       "      <td>6.42</td>\n",
       "      <td>6.15</td>\n",
       "    </tr>\n",
       "    <tr>\n",
       "      <th>110</th>\n",
       "      <td>56336.072341</td>\n",
       "      <td>8.71</td>\n",
       "      <td>6.03</td>\n",
       "    </tr>\n",
       "    <tr>\n",
       "      <th>111</th>\n",
       "      <td>708.439476</td>\n",
       "      <td>5.92</td>\n",
       "      <td>4.56</td>\n",
       "    </tr>\n",
       "    <tr>\n",
       "      <th>112</th>\n",
       "      <td>3988.771871</td>\n",
       "      <td>7.40</td>\n",
       "      <td>6.53</td>\n",
       "    </tr>\n",
       "    <tr>\n",
       "      <th>113</th>\n",
       "      <td>6200.173221</td>\n",
       "      <td>6.68</td>\n",
       "      <td>6.71</td>\n",
       "    </tr>\n",
       "    <tr>\n",
       "      <th>114</th>\n",
       "      <td>9564.406383</td>\n",
       "      <td>6.73</td>\n",
       "      <td>6.77</td>\n",
       "    </tr>\n",
       "    <tr>\n",
       "      <th>115</th>\n",
       "      <td>24020.672856</td>\n",
       "      <td>6.73</td>\n",
       "      <td>7.57</td>\n",
       "    </tr>\n",
       "    <tr>\n",
       "      <th>116</th>\n",
       "      <td>59180.198978</td>\n",
       "      <td>7.46</td>\n",
       "      <td>9.73</td>\n",
       "    </tr>\n",
       "    <tr>\n",
       "      <th>117</th>\n",
       "      <td>3464.035169</td>\n",
       "      <td>6.77</td>\n",
       "      <td>3.09</td>\n",
       "    </tr>\n",
       "    <tr>\n",
       "      <th>118</th>\n",
       "      <td>1025.998515</td>\n",
       "      <td>5.12</td>\n",
       "      <td>1.50</td>\n",
       "    </tr>\n",
       "    <tr>\n",
       "      <th>119</th>\n",
       "      <td>620.131849</td>\n",
       "      <td>5.89</td>\n",
       "      <td>3.45</td>\n",
       "    </tr>\n",
       "    <tr>\n",
       "      <th>120</th>\n",
       "      <td>5941.840710</td>\n",
       "      <td>6.56</td>\n",
       "      <td>5.39</td>\n",
       "    </tr>\n",
       "    <tr>\n",
       "      <th>121</th>\n",
       "      <td>1104.459019</td>\n",
       "      <td>6.97</td>\n",
       "      <td>2.37</td>\n",
       "    </tr>\n",
       "    <tr>\n",
       "      <th>122</th>\n",
       "      <td>1153.515708</td>\n",
       "      <td>6.14</td>\n",
       "      <td>7.24</td>\n",
       "    </tr>\n",
       "    <tr>\n",
       "      <th>123</th>\n",
       "      <td>19325.242828</td>\n",
       "      <td>6.77</td>\n",
       "      <td>6.99</td>\n",
       "    </tr>\n",
       "    <tr>\n",
       "      <th>124</th>\n",
       "      <td>4271.681702</td>\n",
       "      <td>6.54</td>\n",
       "      <td>6.31</td>\n",
       "    </tr>\n",
       "    <tr>\n",
       "      <th>125</th>\n",
       "      <td>12127.225215</td>\n",
       "      <td>6.86</td>\n",
       "      <td>5.12</td>\n",
       "    </tr>\n",
       "    <tr>\n",
       "      <th>126</th>\n",
       "      <td>950.374314</td>\n",
       "      <td>6.84</td>\n",
       "      <td>5.77</td>\n",
       "    </tr>\n",
       "    <tr>\n",
       "      <th>127</th>\n",
       "      <td>719.172669</td>\n",
       "      <td>7.34</td>\n",
       "      <td>5.22</td>\n",
       "    </tr>\n",
       "    <tr>\n",
       "      <th>128</th>\n",
       "      <td>3104.658296</td>\n",
       "      <td>6.00</td>\n",
       "      <td>5.42</td>\n",
       "    </tr>\n",
       "    <tr>\n",
       "      <th>129</th>\n",
       "      <td>16737.898270</td>\n",
       "      <td>7.08</td>\n",
       "      <td>8.17</td>\n",
       "    </tr>\n",
       "    <tr>\n",
       "      <th>130</th>\n",
       "      <td>54598.550689</td>\n",
       "      <td>7.75</td>\n",
       "      <td>8.11</td>\n",
       "    </tr>\n",
       "    <tr>\n",
       "      <th>131</th>\n",
       "      <td>2052.319084</td>\n",
       "      <td>6.43</td>\n",
       "      <td>3.41</td>\n",
       "    </tr>\n",
       "    <tr>\n",
       "      <th>132</th>\n",
       "      <td>6479.625659</td>\n",
       "      <td>6.64</td>\n",
       "      <td>7.82</td>\n",
       "    </tr>\n",
       "    <tr>\n",
       "      <th>133</th>\n",
       "      <td>1738.088202</td>\n",
       "      <td>7.04</td>\n",
       "      <td>6.39</td>\n",
       "    </tr>\n",
       "    <tr>\n",
       "      <th>134</th>\n",
       "      <td>1027.407462</td>\n",
       "      <td>5.28</td>\n",
       "      <td>2.78</td>\n",
       "    </tr>\n",
       "  </tbody>\n",
       "</table>\n",
       "<p>529 rows × 3 columns</p>\n",
       "</div>"
      ],
      "text/plain": [
       "              gdp  financial_freedom  civil_freedom\n",
       "0     4299.012889               5.13           3.32\n",
       "1     4437.178068               7.25           5.81\n",
       "2    40462.312090               8.06           2.58\n",
       "3    12726.908359               5.67           6.84\n",
       "4     3526.978143               7.71           4.09\n",
       "5    62245.100292               7.93           9.22\n",
       "6    51126.741392               7.57           8.49\n",
       "7     7189.691229               6.19           3.15\n",
       "8      260.479907               5.30           4.01\n",
       "9    47702.774145               7.31           8.05\n",
       "10     825.942785               6.05           6.06\n",
       "11     666.840278               5.95           3.59\n",
       "12     835.789340               6.41           5.86\n",
       "13    7813.803499               7.38           6.78\n",
       "14   22810.102419               7.76           2.92\n",
       "15    2377.675918               6.39           5.84\n",
       "16   13167.472892               6.58           7.12\n",
       "18    7645.214609               7.23           7.63\n",
       "19     494.330678               5.32           1.82\n",
       "20   52082.210760               7.87           9.08\n",
       "21   87998.444685               8.23           9.09\n",
       "22   14705.692421               7.94           7.54\n",
       "23    5633.796106               6.32           3.14\n",
       "24    1295.649726               6.33           3.41\n",
       "25    7227.739680               6.60           6.63\n",
       "26    9186.596390               7.61           8.10\n",
       "27   32233.839425               7.69           7.29\n",
       "28   21717.457939               7.23           8.19\n",
       "29   46810.327959               7.60           8.34\n",
       "30   61753.660072               7.64           9.52\n",
       "..            ...                ...            ...\n",
       "105  86852.710189               7.91           3.18\n",
       "106  10020.277332               7.66           6.68\n",
       "107    706.569952               7.38           3.25\n",
       "108  24575.403037               6.95           1.82\n",
       "109   1052.443873               6.42           6.15\n",
       "110  56336.072341               8.71           6.03\n",
       "111    708.439476               5.92           4.56\n",
       "112   3988.771871               7.40           6.53\n",
       "113   6200.173221               6.68           6.71\n",
       "114   9564.406383               6.73           6.77\n",
       "115  24020.672856               6.73           7.57\n",
       "116  59180.198978               7.46           9.73\n",
       "117   3464.035169               6.77           3.09\n",
       "118   1025.998515               5.12           1.50\n",
       "119    620.131849               5.89           3.45\n",
       "120   5941.840710               6.56           5.39\n",
       "121   1104.459019               6.97           2.37\n",
       "122   1153.515708               6.14           7.24\n",
       "123  19325.242828               6.77           6.99\n",
       "124   4271.681702               6.54           6.31\n",
       "125  12127.225215               6.86           5.12\n",
       "126    950.374314               6.84           5.77\n",
       "127    719.172669               7.34           5.22\n",
       "128   3104.658296               6.00           5.42\n",
       "129  16737.898270               7.08           8.17\n",
       "130  54598.550689               7.75           8.11\n",
       "131   2052.319084               6.43           3.41\n",
       "132   6479.625659               6.64           7.82\n",
       "133   1738.088202               7.04           6.39\n",
       "134   1027.407462               5.28           2.78\n",
       "\n",
       "[529 rows x 3 columns]"
      ]
     },
     "execution_count": 43,
     "metadata": {},
     "output_type": "execute_result"
    }
   ],
   "source": [
    "aggregated_ds = pd.DataFrame()\n",
    "\n",
    "for year in years:\n",
    "    gdp_column = \"gdp_%s\" % year\n",
    "    freedom_column = \"economic_freedom_index_%s\" % year\n",
    "    civil_freedom_column = \"democracy_score_%s\" % year\n",
    "\n",
    "    if len(aggregated_ds) == 0:\n",
    "        # print(\"Initialise from current year, %s\" % year)\n",
    "        aggregated_ds = ds[[gdp_column, freedom_column,civil_freedom_column]].rename(\n",
    "            columns={\n",
    "                gdp_column: \"gdp\",\n",
    "                freedom_column: \"financial_freedom\",\n",
    "                civil_freedom_column: \"civil_freedom\"\n",
    "            }\n",
    "        )\n",
    "    else:\n",
    "        # print(\"Will merge %s with existing dataset\" % year)\n",
    "        append_ds = ds[[gdp_column, freedom_column,civil_freedom_column]].rename(\n",
    "            columns={\n",
    "                gdp_column: \"gdp\",\n",
    "                freedom_column: \"financial_freedom\",\n",
    "                civil_freedom_column: \"civil_freedom\"\n",
    "            }\n",
    "        )\n",
    "        aggregated_ds = aggregated_ds.append(append_ds)\n",
    "\n",
    "    # print(len(aggregated_ds))\n",
    "\n",
    "aggregated_ds.dropna(inplace=True)\n",
    "\n",
    "aggregated_ds"
   ]
  },
  {
   "cell_type": "code",
   "execution_count": 44,
   "metadata": {},
   "outputs": [
    {
     "data": {
      "text/html": [
       "<table class=\"simpletable\">\n",
       "<caption>OLS Regression Results</caption>\n",
       "<tr>\n",
       "  <th>Dep. Variable:</th>           <td>gdp</td>       <th>  R-squared:         </th> <td>   0.368</td> \n",
       "</tr>\n",
       "<tr>\n",
       "  <th>Model:</th>                   <td>OLS</td>       <th>  Adj. R-squared:    </th> <td>   0.365</td> \n",
       "</tr>\n",
       "<tr>\n",
       "  <th>Method:</th>             <td>Least Squares</td>  <th>  F-statistic:       </th> <td>   153.0</td> \n",
       "</tr>\n",
       "<tr>\n",
       "  <th>Date:</th>             <td>Mon, 21 Aug 2017</td> <th>  Prob (F-statistic):</th> <td>4.19e-53</td> \n",
       "</tr>\n",
       "<tr>\n",
       "  <th>Time:</th>                 <td>17:49:29</td>     <th>  Log-Likelihood:    </th> <td> -5922.0</td> \n",
       "</tr>\n",
       "<tr>\n",
       "  <th>No. Observations:</th>      <td>   529</td>      <th>  AIC:               </th> <td>1.185e+04</td>\n",
       "</tr>\n",
       "<tr>\n",
       "  <th>Df Residuals:</th>          <td>   526</td>      <th>  BIC:               </th> <td>1.186e+04</td>\n",
       "</tr>\n",
       "<tr>\n",
       "  <th>Df Model:</th>              <td>     2</td>      <th>                     </th>     <td> </td>    \n",
       "</tr>\n",
       "<tr>\n",
       "  <th>Covariance Type:</th>      <td>nonrobust</td>    <th>                     </th>     <td> </td>    \n",
       "</tr>\n",
       "</table>\n",
       "<table class=\"simpletable\">\n",
       "<tr>\n",
       "          <td></td>             <th>coef</th>     <th>std err</th>      <th>t</th>      <th>P>|t|</th>  <th>[0.025</th>    <th>0.975]</th>  \n",
       "</tr>\n",
       "<tr>\n",
       "  <th>Intercept</th>         <td>-7.762e+04</td> <td> 7181.048</td> <td>  -10.809</td> <td> 0.000</td> <td>-9.17e+04</td> <td>-6.35e+04</td>\n",
       "</tr>\n",
       "<tr>\n",
       "  <th>civil_freedom</th>     <td> 3544.9193</td> <td>  451.048</td> <td>    7.859</td> <td> 0.000</td> <td> 2658.842</td> <td> 4430.997</td>\n",
       "</tr>\n",
       "<tr>\n",
       "  <th>financial_freedom</th> <td> 1.056e+04</td> <td> 1197.603</td> <td>    8.817</td> <td> 0.000</td> <td> 8206.562</td> <td> 1.29e+04</td>\n",
       "</tr>\n",
       "</table>\n",
       "<table class=\"simpletable\">\n",
       "<tr>\n",
       "  <th>Omnibus:</th>       <td>208.385</td> <th>  Durbin-Watson:     </th> <td>   2.081</td> \n",
       "</tr>\n",
       "<tr>\n",
       "  <th>Prob(Omnibus):</th> <td> 0.000</td>  <th>  Jarque-Bera (JB):  </th> <td> 807.699</td> \n",
       "</tr>\n",
       "<tr>\n",
       "  <th>Skew:</th>          <td> 1.797</td>  <th>  Prob(JB):          </th> <td>4.08e-176</td>\n",
       "</tr>\n",
       "<tr>\n",
       "  <th>Kurtosis:</th>      <td> 7.871</td>  <th>  Cond. No.          </th> <td>    88.3</td> \n",
       "</tr>\n",
       "</table>"
      ],
      "text/plain": [
       "<class 'statsmodels.iolib.summary.Summary'>\n",
       "\"\"\"\n",
       "                            OLS Regression Results                            \n",
       "==============================================================================\n",
       "Dep. Variable:                    gdp   R-squared:                       0.368\n",
       "Model:                            OLS   Adj. R-squared:                  0.365\n",
       "Method:                 Least Squares   F-statistic:                     153.0\n",
       "Date:                Mon, 21 Aug 2017   Prob (F-statistic):           4.19e-53\n",
       "Time:                        17:49:29   Log-Likelihood:                -5922.0\n",
       "No. Observations:                 529   AIC:                         1.185e+04\n",
       "Df Residuals:                     526   BIC:                         1.186e+04\n",
       "Df Model:                           2                                         \n",
       "Covariance Type:            nonrobust                                         \n",
       "=====================================================================================\n",
       "                        coef    std err          t      P>|t|      [0.025      0.975]\n",
       "-------------------------------------------------------------------------------------\n",
       "Intercept         -7.762e+04   7181.048    -10.809      0.000   -9.17e+04   -6.35e+04\n",
       "civil_freedom      3544.9193    451.048      7.859      0.000    2658.842    4430.997\n",
       "financial_freedom  1.056e+04   1197.603      8.817      0.000    8206.562    1.29e+04\n",
       "==============================================================================\n",
       "Omnibus:                      208.385   Durbin-Watson:                   2.081\n",
       "Prob(Omnibus):                  0.000   Jarque-Bera (JB):              807.699\n",
       "Skew:                           1.797   Prob(JB):                    4.08e-176\n",
       "Kurtosis:                       7.871   Cond. No.                         88.3\n",
       "==============================================================================\n",
       "\n",
       "Warnings:\n",
       "[1] Standard Errors assume that the covariance matrix of the errors is correctly specified.\n",
       "\"\"\""
      ]
     },
     "execution_count": 44,
     "metadata": {},
     "output_type": "execute_result"
    }
   ],
   "source": [
    "lm = smf.ols(formula='gdp ~ civil_freedom + financial_freedom',\n",
    "             data=aggregated_ds).fit()\n",
    "\n",
    "lm.summary()"
   ]
  },
  {
   "cell_type": "code",
   "execution_count": null,
   "metadata": {
    "collapsed": true
   },
   "outputs": [],
   "source": []
  }
 ],
 "metadata": {
  "kernelspec": {
   "display_name": "Python 2",
   "language": "python",
   "name": "python2"
  },
  "language_info": {
   "codemirror_mode": {
    "name": "ipython",
    "version": 2
   },
   "file_extension": ".py",
   "mimetype": "text/x-python",
   "name": "python",
   "nbconvert_exporter": "python",
   "pygments_lexer": "ipython2",
   "version": "2.7.13"
  }
 },
 "nbformat": 4,
 "nbformat_minor": 2
}
