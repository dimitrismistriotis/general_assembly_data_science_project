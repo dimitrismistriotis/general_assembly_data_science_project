{
 "cells": [
  {
   "cell_type": "markdown",
   "metadata": {},
   "source": [
    "# Visualise and Analyse Final Dataset"
   ]
  },
  {
   "cell_type": "code",
   "execution_count": 1,
   "metadata": {
    "collapsed": true
   },
   "outputs": [],
   "source": [
    "%matplotlib inline"
   ]
  },
  {
   "cell_type": "code",
   "execution_count": 4,
   "metadata": {
    "collapsed": true
   },
   "outputs": [],
   "source": [
    "import pandas as pd\n",
    "import matplotlib.pyplot as plt\n",
    "import seaborn as sns\n",
    "import numpy as np"
   ]
  },
  {
   "cell_type": "markdown",
   "metadata": {},
   "source": [
    "The lastest year with most data available is **2014**. Whenever a year is to be chosen, analysis will be conducted for  this year. Will use a range if it is necessary to generalise, acquire more results, this is another reason that a variable is used instead of hard coding."
   ]
  },
  {
   "cell_type": "code",
   "execution_count": 5,
   "metadata": {
    "collapsed": true
   },
   "outputs": [],
   "source": [
    "magic_year = 2014"
   ]
  },
  {
   "cell_type": "code",
   "execution_count": 6,
   "metadata": {},
   "outputs": [
    {
     "data": {
      "text/html": [
       "<div>\n",
       "<style>\n",
       "    .dataframe thead tr:only-child th {\n",
       "        text-align: right;\n",
       "    }\n",
       "\n",
       "    .dataframe thead th {\n",
       "        text-align: left;\n",
       "    }\n",
       "\n",
       "    .dataframe tbody tr th {\n",
       "        vertical-align: top;\n",
       "    }\n",
       "</style>\n",
       "<table border=\"1\" class=\"dataframe\">\n",
       "  <thead>\n",
       "    <tr style=\"text-align: right;\">\n",
       "      <th></th>\n",
       "      <th>country_name</th>\n",
       "      <th>country_code</th>\n",
       "      <th>gdp_2004</th>\n",
       "      <th>gdp_2005</th>\n",
       "      <th>gdp_2006</th>\n",
       "      <th>gdp_2007</th>\n",
       "      <th>gdp_2008</th>\n",
       "      <th>gdp_2009</th>\n",
       "      <th>gdp_2010</th>\n",
       "      <th>gdp_2011</th>\n",
       "      <th>...</th>\n",
       "      <th>economic_freedom_index_2011</th>\n",
       "      <th>economic_freedom_index_2012</th>\n",
       "      <th>economic_freedom_index_2013</th>\n",
       "      <th>economic_freedom_index_2014</th>\n",
       "      <th>democracy_score_2016</th>\n",
       "      <th>democracy_score_2011</th>\n",
       "      <th>democracy_score_2012</th>\n",
       "      <th>democracy_score_2013</th>\n",
       "      <th>democracy_score_2014</th>\n",
       "      <th>democracy_score_2015</th>\n",
       "    </tr>\n",
       "  </thead>\n",
       "  <tbody>\n",
       "    <tr>\n",
       "      <th>0</th>\n",
       "      <td>Angola</td>\n",
       "      <td>AGO</td>\n",
       "      <td>1041.086844</td>\n",
       "      <td>1443.991929</td>\n",
       "      <td>2062.415149</td>\n",
       "      <td>2878.837144</td>\n",
       "      <td>3868.578883</td>\n",
       "      <td>3347.844850</td>\n",
       "      <td>3529.053482</td>\n",
       "      <td>4299.012889</td>\n",
       "      <td>...</td>\n",
       "      <td>5.13</td>\n",
       "      <td>5.32</td>\n",
       "      <td>5.21</td>\n",
       "      <td>5.08</td>\n",
       "      <td>3.40</td>\n",
       "      <td>3.32</td>\n",
       "      <td>3.35</td>\n",
       "      <td>3.35</td>\n",
       "      <td>3.35</td>\n",
       "      <td>3.35</td>\n",
       "    </tr>\n",
       "    <tr>\n",
       "      <th>1</th>\n",
       "      <td>Albania</td>\n",
       "      <td>ALB</td>\n",
       "      <td>2416.588235</td>\n",
       "      <td>2709.142931</td>\n",
       "      <td>3005.012903</td>\n",
       "      <td>3603.013685</td>\n",
       "      <td>4370.539647</td>\n",
       "      <td>4114.136545</td>\n",
       "      <td>4094.358832</td>\n",
       "      <td>4437.178068</td>\n",
       "      <td>...</td>\n",
       "      <td>7.25</td>\n",
       "      <td>7.21</td>\n",
       "      <td>7.27</td>\n",
       "      <td>7.40</td>\n",
       "      <td>5.91</td>\n",
       "      <td>5.81</td>\n",
       "      <td>5.67</td>\n",
       "      <td>5.67</td>\n",
       "      <td>5.67</td>\n",
       "      <td>5.91</td>\n",
       "    </tr>\n",
       "    <tr>\n",
       "      <th>2</th>\n",
       "      <td>United Arab Emirates</td>\n",
       "      <td>ARE</td>\n",
       "      <td>36161.170607</td>\n",
       "      <td>39439.801968</td>\n",
       "      <td>42372.221662</td>\n",
       "      <td>42672.613229</td>\n",
       "      <td>45758.905536</td>\n",
       "      <td>33072.575166</td>\n",
       "      <td>35049.148317</td>\n",
       "      <td>40462.312090</td>\n",
       "      <td>...</td>\n",
       "      <td>8.06</td>\n",
       "      <td>8.08</td>\n",
       "      <td>8.11</td>\n",
       "      <td>7.98</td>\n",
       "      <td>2.75</td>\n",
       "      <td>2.58</td>\n",
       "      <td>2.58</td>\n",
       "      <td>2.52</td>\n",
       "      <td>2.64</td>\n",
       "      <td>2.75</td>\n",
       "    </tr>\n",
       "    <tr>\n",
       "      <th>3</th>\n",
       "      <td>Argentina</td>\n",
       "      <td>ARG</td>\n",
       "      <td>4251.574348</td>\n",
       "      <td>5076.883829</td>\n",
       "      <td>5878.761027</td>\n",
       "      <td>7193.617640</td>\n",
       "      <td>8953.359275</td>\n",
       "      <td>8161.306966</td>\n",
       "      <td>10276.260498</td>\n",
       "      <td>12726.908359</td>\n",
       "      <td>...</td>\n",
       "      <td>5.67</td>\n",
       "      <td>5.15</td>\n",
       "      <td>5.01</td>\n",
       "      <td>4.81</td>\n",
       "      <td>6.96</td>\n",
       "      <td>6.84</td>\n",
       "      <td>6.84</td>\n",
       "      <td>6.84</td>\n",
       "      <td>6.84</td>\n",
       "      <td>7.02</td>\n",
       "    </tr>\n",
       "    <tr>\n",
       "      <th>4</th>\n",
       "      <td>Armenia</td>\n",
       "      <td>ARM</td>\n",
       "      <td>1191.961920</td>\n",
       "      <td>1643.758397</td>\n",
       "      <td>2158.002909</td>\n",
       "      <td>3138.808703</td>\n",
       "      <td>4010.026997</td>\n",
       "      <td>2993.832531</td>\n",
       "      <td>3218.381655</td>\n",
       "      <td>3526.978143</td>\n",
       "      <td>...</td>\n",
       "      <td>7.71</td>\n",
       "      <td>7.75</td>\n",
       "      <td>7.70</td>\n",
       "      <td>7.71</td>\n",
       "      <td>3.88</td>\n",
       "      <td>4.09</td>\n",
       "      <td>4.09</td>\n",
       "      <td>4.02</td>\n",
       "      <td>4.13</td>\n",
       "      <td>4.00</td>\n",
       "    </tr>\n",
       "  </tbody>\n",
       "</table>\n",
       "<p>5 rows × 32 columns</p>\n",
       "</div>"
      ],
      "text/plain": [
       "           country_name country_code      gdp_2004      gdp_2005  \\\n",
       "0                Angola          AGO   1041.086844   1443.991929   \n",
       "1               Albania          ALB   2416.588235   2709.142931   \n",
       "2  United Arab Emirates          ARE  36161.170607  39439.801968   \n",
       "3             Argentina          ARG   4251.574348   5076.883829   \n",
       "4               Armenia          ARM   1191.961920   1643.758397   \n",
       "\n",
       "       gdp_2006      gdp_2007      gdp_2008      gdp_2009      gdp_2010  \\\n",
       "0   2062.415149   2878.837144   3868.578883   3347.844850   3529.053482   \n",
       "1   3005.012903   3603.013685   4370.539647   4114.136545   4094.358832   \n",
       "2  42372.221662  42672.613229  45758.905536  33072.575166  35049.148317   \n",
       "3   5878.761027   7193.617640   8953.359275   8161.306966  10276.260498   \n",
       "4   2158.002909   3138.808703   4010.026997   2993.832531   3218.381655   \n",
       "\n",
       "       gdp_2011          ...           economic_freedom_index_2011  \\\n",
       "0   4299.012889          ...                                  5.13   \n",
       "1   4437.178068          ...                                  7.25   \n",
       "2  40462.312090          ...                                  8.06   \n",
       "3  12726.908359          ...                                  5.67   \n",
       "4   3526.978143          ...                                  7.71   \n",
       "\n",
       "   economic_freedom_index_2012  economic_freedom_index_2013  \\\n",
       "0                         5.32                         5.21   \n",
       "1                         7.21                         7.27   \n",
       "2                         8.08                         8.11   \n",
       "3                         5.15                         5.01   \n",
       "4                         7.75                         7.70   \n",
       "\n",
       "   economic_freedom_index_2014  democracy_score_2016  democracy_score_2011  \\\n",
       "0                         5.08                  3.40                  3.32   \n",
       "1                         7.40                  5.91                  5.81   \n",
       "2                         7.98                  2.75                  2.58   \n",
       "3                         4.81                  6.96                  6.84   \n",
       "4                         7.71                  3.88                  4.09   \n",
       "\n",
       "   democracy_score_2012  democracy_score_2013  democracy_score_2014  \\\n",
       "0                  3.35                  3.35                  3.35   \n",
       "1                  5.67                  5.67                  5.67   \n",
       "2                  2.58                  2.52                  2.64   \n",
       "3                  6.84                  6.84                  6.84   \n",
       "4                  4.09                  4.02                  4.13   \n",
       "\n",
       "   democracy_score_2015  \n",
       "0                  3.35  \n",
       "1                  5.91  \n",
       "2                  2.75  \n",
       "3                  7.02  \n",
       "4                  4.00  \n",
       "\n",
       "[5 rows x 32 columns]"
      ]
     },
     "execution_count": 6,
     "metadata": {},
     "output_type": "execute_result"
    }
   ],
   "source": [
    "ds = pd.read_csv(\"project_data.csv\")\n",
    "\n",
    "ds.head()"
   ]
  },
  {
   "cell_type": "markdown",
   "metadata": {},
   "source": [
    "## Visualise Democracy, GDP, and a Financial Liberties values for a single year"
   ]
  },
  {
   "cell_type": "markdown",
   "metadata": {},
   "source": [
    "### GDP"
   ]
  },
  {
   "cell_type": "code",
   "execution_count": 54,
   "metadata": {},
   "outputs": [
    {
     "data": {
      "image/png": "[encoded data removed]",
      "text/plain": [
       "<matplotlib.figure.Figure at 0x7f7c60d46550>"
      ]
     },
     "metadata": {},
     "output_type": "display_data"
    }
   ],
   "source": [
    "array_element = \"gdp_%s\" % magic_year\n",
    "\n",
    "gdp_data = ds[array_element].dropna()\n",
    "\n",
    "gdp_data\n",
    "\n",
    "plt.figure()\n",
    "plt.boxplot([gdp_data / 1000], 0, 'gD', 0, labels=[\"GDP pca\"])\n",
    "plt.title(\"GDP per capita in $1,000 for %s\" % magic_year)\n",
    "plt.show()"
   ]
  },
  {
   "cell_type": "code",
   "execution_count": 51,
   "metadata": {},
   "outputs": [
    {
     "data": {
      "text/plain": [
       "<matplotlib.axes._subplots.AxesSubplot at 0x7f7c6105e490>"
      ]
     },
     "execution_count": 51,
     "metadata": {},
     "output_type": "execute_result"
    },
    {
     "data": {
      "image/png": "[encoded data removed]",
      "text/plain": [
       "<matplotlib.figure.Figure at 0x7f7c58537810>"
      ]
     },
     "metadata": {},
     "output_type": "display_data"
    }
   ],
   "source": [
    "sns.stripplot(data=(gdp_data / 1000), jitter=True, color=\"g\")"
   ]
  },
  {
   "cell_type": "markdown",
   "metadata": {},
   "source": [
    "### Economic Freedom"
   ]
  },
  {
   "cell_type": "code",
   "execution_count": 53,
   "metadata": {},
   "outputs": [
    {
     "data": {
      "image/png": "[encoded data removed]",
      "text/plain": [
       "<matplotlib.figure.Figure at 0x7f7c60f9d310>"
      ]
     },
     "metadata": {},
     "output_type": "display_data"
    }
   ],
   "source": [
    "array_element = \"economic_freedom_index_%s\" % magic_year\n",
    "\n",
    "econ_freed_data = ds[array_element].dropna()\n",
    "\n",
    "econ_freed_data\n",
    "\n",
    "plt.figure()\n",
    "plt.boxplot([econ_freed_data], 0, 'cD', 0, labels=[\"Economic Freedom\"])\n",
    "plt.title(\"Economic Freedom Index for %s\" % magic_year)\n",
    "plt.show()"
   ]
  },
  {
   "cell_type": "code",
   "execution_count": 55,
   "metadata": {},
   "outputs": [
    {
     "data": {
      "text/plain": [
       "<matplotlib.axes._subplots.AxesSubplot at 0x7f7c612d4950>"
      ]
     },
     "execution_count": 55,
     "metadata": {},
     "output_type": "execute_result"
    },
    {
     "data": {
      "image/png": "[encoded data removed]",
      "text/plain": [
       "<matplotlib.figure.Figure at 0x7f7c613e3190>"
      ]
     },
     "metadata": {},
     "output_type": "display_data"
    }
   ],
   "source": [
    "sns.stripplot(data=econ_freed_data, jitter=True, color=\"c\")"
   ]
  },
  {
   "cell_type": "code",
   "execution_count": null,
   "metadata": {
    "collapsed": true
   },
   "outputs": [],
   "source": []
  }
 ],
 "metadata": {
  "kernelspec": {
   "display_name": "Python 2",
   "language": "python",
   "name": "python2"
  },
  "language_info": {
   "codemirror_mode": {
    "name": "ipython",
    "version": 2
   },
   "file_extension": ".py",
   "mimetype": "text/x-python",
   "name": "python",
   "nbconvert_exporter": "python",
   "pygments_lexer": "ipython2",
   "version": "2.7.13"
  }
 },
 "nbformat": 4,
 "nbformat_minor": 2
}
