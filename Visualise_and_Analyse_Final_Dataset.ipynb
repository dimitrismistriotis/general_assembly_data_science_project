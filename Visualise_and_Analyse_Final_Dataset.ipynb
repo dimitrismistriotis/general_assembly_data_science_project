{
 "cells": [
  {
   "cell_type": "markdown",
   "metadata": {},
   "source": [
    "# Visualise and Analyse Final Dataset"
   ]
  },
  {
   "cell_type": "code",
   "execution_count": 65,
   "metadata": {
    "collapsed": true
   },
   "outputs": [],
   "source": [
    "%matplotlib inline"
   ]
  },
  {
   "cell_type": "code",
   "execution_count": 66,
   "metadata": {
    "collapsed": true
   },
   "outputs": [],
   "source": [
    "import pandas as pd\n",
    "import matplotlib.pyplot as plt\n",
    "import seaborn as sns\n",
    "import numpy as np\n",
    "from scipy.stats import mode\n",
    "\n",
    "import statsmodels.formula.api as smf"
   ]
  },
  {
   "cell_type": "markdown",
   "metadata": {},
   "source": [
    "The lastest year with most data available is **2014**. Whenever a year is to be chosen, analysis will be conducted for  this year. Will use a range if it is necessary to generalise, acquire more results, this is another reason that a variable is used instead of hard coding."
   ]
  },
  {
   "cell_type": "code",
   "execution_count": 67,
   "metadata": {
    "collapsed": true
   },
   "outputs": [],
   "source": [
    "magic_year = 2014"
   ]
  },
  {
   "cell_type": "code",
   "execution_count": 68,
   "metadata": {},
   "outputs": [
    {
     "data": {
      "text/html": [
       "<div>\n",
       "<style>\n",
       "    .dataframe thead tr:only-child th {\n",
       "        text-align: right;\n",
       "    }\n",
       "\n",
       "    .dataframe thead th {\n",
       "        text-align: left;\n",
       "    }\n",
       "\n",
       "    .dataframe tbody tr th {\n",
       "        vertical-align: top;\n",
       "    }\n",
       "</style>\n",
       "<table border=\"1\" class=\"dataframe\">\n",
       "  <thead>\n",
       "    <tr style=\"text-align: right;\">\n",
       "      <th></th>\n",
       "      <th>Country Name</th>\n",
       "      <th>Country Code</th>\n",
       "      <th>Year</th>\n",
       "      <th>GDP</th>\n",
       "      <th>Economic Freedom Index</th>\n",
       "      <th>Democracy Score</th>\n",
       "    </tr>\n",
       "  </thead>\n",
       "  <tbody>\n",
       "    <tr>\n",
       "      <th>0</th>\n",
       "      <td>Aruba</td>\n",
       "      <td>ABW</td>\n",
       "      <td>2011</td>\n",
       "      <td>25324.720363</td>\n",
       "      <td>NaN</td>\n",
       "      <td>NaN</td>\n",
       "    </tr>\n",
       "    <tr>\n",
       "      <th>1</th>\n",
       "      <td>Afghanistan</td>\n",
       "      <td>AFG</td>\n",
       "      <td>2011</td>\n",
       "      <td>603.537023</td>\n",
       "      <td>NaN</td>\n",
       "      <td>2.48</td>\n",
       "    </tr>\n",
       "    <tr>\n",
       "      <th>2</th>\n",
       "      <td>Angola</td>\n",
       "      <td>AGO</td>\n",
       "      <td>2011</td>\n",
       "      <td>4299.012889</td>\n",
       "      <td>5.13</td>\n",
       "      <td>3.32</td>\n",
       "    </tr>\n",
       "    <tr>\n",
       "      <th>3</th>\n",
       "      <td>Albania</td>\n",
       "      <td>ALB</td>\n",
       "      <td>2011</td>\n",
       "      <td>4437.178068</td>\n",
       "      <td>7.25</td>\n",
       "      <td>5.81</td>\n",
       "    </tr>\n",
       "    <tr>\n",
       "      <th>4</th>\n",
       "      <td>Andorra</td>\n",
       "      <td>AND</td>\n",
       "      <td>2011</td>\n",
       "      <td>40919.183279</td>\n",
       "      <td>NaN</td>\n",
       "      <td>NaN</td>\n",
       "    </tr>\n",
       "  </tbody>\n",
       "</table>\n",
       "</div>"
      ],
      "text/plain": [
       "  Country Name Country Code  Year           GDP  Economic Freedom Index  \\\n",
       "0        Aruba          ABW  2011  25324.720363                     NaN   \n",
       "1  Afghanistan          AFG  2011    603.537023                     NaN   \n",
       "2       Angola          AGO  2011   4299.012889                    5.13   \n",
       "3      Albania          ALB  2011   4437.178068                    7.25   \n",
       "4      Andorra          AND  2011  40919.183279                     NaN   \n",
       "\n",
       "   Democracy Score  \n",
       "0              NaN  \n",
       "1             2.48  \n",
       "2             3.32  \n",
       "3             5.81  \n",
       "4              NaN  "
      ]
     },
     "execution_count": 68,
     "metadata": {},
     "output_type": "execute_result"
    }
   ],
   "source": [
    "ds = pd.read_csv(\"project_data.csv\")\n",
    "\n",
    "ds.head()"
   ]
  },
  {
   "cell_type": "code",
   "execution_count": 69,
   "metadata": {},
   "outputs": [
    {
     "data": {
      "text/html": [
       "<div>\n",
       "<style>\n",
       "    .dataframe thead tr:only-child th {\n",
       "        text-align: right;\n",
       "    }\n",
       "\n",
       "    .dataframe thead th {\n",
       "        text-align: left;\n",
       "    }\n",
       "\n",
       "    .dataframe tbody tr th {\n",
       "        vertical-align: top;\n",
       "    }\n",
       "</style>\n",
       "<table border=\"1\" class=\"dataframe\">\n",
       "  <thead>\n",
       "    <tr style=\"text-align: right;\">\n",
       "      <th></th>\n",
       "      <th>Country Name</th>\n",
       "      <th>Country Code</th>\n",
       "      <th>Year</th>\n",
       "      <th>GDP</th>\n",
       "      <th>Economic Freedom Index</th>\n",
       "      <th>Democracy Score</th>\n",
       "    </tr>\n",
       "  </thead>\n",
       "  <tbody>\n",
       "  </tbody>\n",
       "</table>\n",
       "</div>"
      ],
      "text/plain": [
       "Empty DataFrame\n",
       "Columns: [Country Name, Country Code, Year, GDP, Economic Freedom Index, Democracy Score]\n",
       "Index: []"
      ]
     },
     "execution_count": 69,
     "metadata": {},
     "output_type": "execute_result"
    }
   ],
   "source": [
    "ds[ds['Country Name'] == 'OECD members']"
   ]
  },
  {
   "cell_type": "code",
   "execution_count": 70,
   "metadata": {},
   "outputs": [
    {
     "data": {
      "text/plain": [
       "Index([u'Country Name', u'Country Code', u'Year', u'GDP',\n",
       "       u'Economic Freedom Index', u'Democracy Score'],\n",
       "      dtype='object')"
      ]
     },
     "execution_count": 70,
     "metadata": {},
     "output_type": "execute_result"
    }
   ],
   "source": [
    "ds.columns"
   ]
  },
  {
   "cell_type": "markdown",
   "metadata": {},
   "source": [
    "Decided not to include 2015 and 2016"
   ]
  },
  {
   "cell_type": "code",
   "execution_count": 71,
   "metadata": {},
   "outputs": [
    {
     "name": "stdout",
     "output_type": "stream",
     "text": [
      "1344\n",
      "896\n"
     ]
    }
   ],
   "source": [
    "print(len(ds))\n",
    "ds = ds[ds.Year < 2015]\n",
    "print(len(ds))"
   ]
  },
  {
   "cell_type": "markdown",
   "metadata": {},
   "source": [
    "## Visualise and Describe Democracy, GDP, and a Financial Liberties values for a single year"
   ]
  },
  {
   "cell_type": "markdown",
   "metadata": {},
   "source": [
    "### GDP"
   ]
  },
  {
   "cell_type": "code",
   "execution_count": 72,
   "metadata": {},
   "outputs": [
    {
     "data": {
      "image/png": "[encoded data removed]",
      "text/plain": [
       "<matplotlib.figure.Figure at 0x7f9c93b8e250>"
      ]
     },
     "metadata": {},
     "output_type": "display_data"
    }
   ],
   "source": [
    "gdp_data = ds[ds['Year'] == magic_year]['GDP'].dropna()\n",
    "\n",
    "# gdp_data\n",
    "\n",
    "plt.figure()\n",
    "plt.boxplot([gdp_data / 1000], 0, 'gD', 0, labels=[\"GDP pca\"])\n",
    "plt.title(\"GDP per capita in $1,000 for %s\" % magic_year)\n",
    "plt.show()"
   ]
  },
  {
   "cell_type": "code",
   "execution_count": 73,
   "metadata": {},
   "outputs": [
    {
     "data": {
      "text/plain": [
       "count       202.000000\n",
       "mean      15786.665814\n",
       "std       23902.489141\n",
       "min         312.748979\n",
       "25%        2011.630303\n",
       "50%        6350.454330\n",
       "75%       16692.166550\n",
       "max      179478.584828\n",
       "Name: GDP, dtype: float64"
      ]
     },
     "execution_count": 73,
     "metadata": {},
     "output_type": "execute_result"
    }
   ],
   "source": [
    "gdp_data.describe()"
   ]
  },
  {
   "cell_type": "code",
   "execution_count": 74,
   "metadata": {},
   "outputs": [
    {
     "data": {
      "text/plain": [
       "571328987.1207931"
      ]
     },
     "execution_count": 74,
     "metadata": {},
     "output_type": "execute_result"
    }
   ],
   "source": [
    "gdp_data.var()"
   ]
  },
  {
   "cell_type": "code",
   "execution_count": 75,
   "metadata": {},
   "outputs": [
    {
     "data": {
      "text/plain": [
       "ModeResult(mode=array([0]), count=array([25]))"
      ]
     },
     "execution_count": 75,
     "metadata": {},
     "output_type": "execute_result"
    }
   ],
   "source": [
    "kgdp = map(int, gdp_data / 1000)\n",
    "# print(kgdp)\n",
    "mode(kgdp)"
   ]
  },
  {
   "cell_type": "code",
   "execution_count": 76,
   "metadata": {},
   "outputs": [
    {
     "data": {
      "text/plain": [
       "<matplotlib.axes._subplots.AxesSubplot at 0x7f9c88ae1690>"
      ]
     },
     "execution_count": 76,
     "metadata": {},
     "output_type": "execute_result"
    },
    {
     "data": {
      "image/png": "[encoded data removed]",
      "text/plain": [
       "<matplotlib.figure.Figure at 0x7f9c88ae1050>"
      ]
     },
     "metadata": {},
     "output_type": "display_data"
    }
   ],
   "source": [
    "sns.stripplot(data=(gdp_data.values / 1000), jitter=True, color=\"g\")"
   ]
  },
  {
   "cell_type": "markdown",
   "metadata": {},
   "source": [
    "### Economic Freedom"
   ]
  },
  {
   "cell_type": "code",
   "execution_count": 77,
   "metadata": {},
   "outputs": [
    {
     "data": {
      "image/png": "[encoded data removed]",
      "text/plain": [
       "<matplotlib.figure.Figure at 0x7f9c93c1ba50>"
      ]
     },
     "metadata": {},
     "output_type": "display_data"
    }
   ],
   "source": [
    "economic_freedom = ds[ds['Year'] == magic_year]['Economic Freedom Index'].dropna()\n",
    "\n",
    "# econ_freedom_data\n",
    "\n",
    "plt.figure()\n",
    "plt.boxplot([economic_freedom], 0, 'cD', 0, labels=[\"Economic Freedom\"])\n",
    "plt.title(\"Economic Freedom Index for %s\" % magic_year)\n",
    "plt.show()"
   ]
  },
  {
   "cell_type": "code",
   "execution_count": 78,
   "metadata": {},
   "outputs": [
    {
     "data": {
      "text/plain": [
       "<matplotlib.axes._subplots.AxesSubplot at 0x7f9c888ff110>"
      ]
     },
     "execution_count": 78,
     "metadata": {},
     "output_type": "execute_result"
    },
    {
     "data": {
      "image/png": "[encoded data removed]",
      "text/plain": [
       "<matplotlib.figure.Figure at 0x7f9c8bfcd890>"
      ]
     },
     "metadata": {},
     "output_type": "display_data"
    }
   ],
   "source": [
    "sns.stripplot(data=economic_freedom.values, jitter=True, color=\"c\", marker=\"d\")"
   ]
  },
  {
   "cell_type": "code",
   "execution_count": 79,
   "metadata": {},
   "outputs": [
    {
     "data": {
      "text/plain": [
       "count    137.000000\n",
       "mean       6.889343\n",
       "std        0.783723\n",
       "min        4.580000\n",
       "25%        6.420000\n",
       "50%        7.040000\n",
       "75%        7.420000\n",
       "max        8.710000\n",
       "Name: Economic Freedom Index, dtype: float64"
      ]
     },
     "execution_count": 79,
     "metadata": {},
     "output_type": "execute_result"
    }
   ],
   "source": [
    "economic_freedom.describe()"
   ]
  },
  {
   "cell_type": "code",
   "execution_count": 80,
   "metadata": {},
   "outputs": [
    {
     "data": {
      "text/plain": [
       "0.6142223593817091"
      ]
     },
     "execution_count": 80,
     "metadata": {},
     "output_type": "execute_result"
    }
   ],
   "source": [
    "economic_freedom.var()"
   ]
  },
  {
   "cell_type": "code",
   "execution_count": 81,
   "metadata": {},
   "outputs": [
    {
     "data": {
      "text/plain": [
       "ModeResult(mode=array([7]), count=array([69]))"
      ]
     },
     "execution_count": 81,
     "metadata": {},
     "output_type": "execute_result"
    }
   ],
   "source": [
    "economic_freedom_ints = map(int, economic_freedom)\n",
    "# print(economic_freedom_ints)\n",
    "mode(economic_freedom_ints)"
   ]
  },
  {
   "cell_type": "markdown",
   "metadata": {},
   "source": [
    "## Civil Freedom"
   ]
  },
  {
   "cell_type": "code",
   "execution_count": 82,
   "metadata": {},
   "outputs": [
    {
     "data": {
      "image/png": "[encoded data removed]",
      "text/plain": [
       "<matplotlib.figure.Figure at 0x7f9c9082bc10>"
      ]
     },
     "metadata": {},
     "output_type": "display_data"
    }
   ],
   "source": [
    "civil_freedom = ds[ds['Year'] == magic_year]['Democracy Score'].dropna()\n",
    "\n",
    "# civil_freedom_data\n",
    "\n",
    "plt.figure()\n",
    "plt.boxplot([civil_freedom], 0, 'bD', 0, labels=[\"Democracy Score\"])\n",
    "plt.title(\"Freedom Index for %s\" % magic_year)\n",
    "plt.show()"
   ]
  },
  {
   "cell_type": "code",
   "execution_count": 83,
   "metadata": {},
   "outputs": [
    {
     "data": {
      "text/plain": [
       "<matplotlib.axes._subplots.AxesSubplot at 0x7f9c887f5a90>"
      ]
     },
     "execution_count": 83,
     "metadata": {},
     "output_type": "execute_result"
    },
    {
     "data": {
      "image/png": "[encoded data removed]",
      "text/plain": [
       "<matplotlib.figure.Figure at 0x7f9c889bdfd0>"
      ]
     },
     "metadata": {},
     "output_type": "display_data"
    }
   ],
   "source": [
    "sns.stripplot(data=civil_freedom.values, jitter=True, color=\"b\", marker=\"v\")"
   ]
  },
  {
   "cell_type": "code",
   "execution_count": 84,
   "metadata": {},
   "outputs": [
    {
     "data": {
      "text/plain": [
       "count    147.000000\n",
       "mean       5.719728\n",
       "std        2.113611\n",
       "min        1.490000\n",
       "25%        3.790000\n",
       "50%        5.840000\n",
       "75%        7.460000\n",
       "max        9.930000\n",
       "Name: Democracy Score, dtype: float64"
      ]
     },
     "execution_count": 84,
     "metadata": {},
     "output_type": "execute_result"
    }
   ],
   "source": [
    "civil_freedom.describe()"
   ]
  },
  {
   "cell_type": "code",
   "execution_count": 85,
   "metadata": {},
   "outputs": [
    {
     "data": {
      "text/plain": [
       "4.467350610381141"
      ]
     },
     "execution_count": 85,
     "metadata": {},
     "output_type": "execute_result"
    }
   ],
   "source": [
    "civil_freedom.var()"
   ]
  },
  {
   "cell_type": "code",
   "execution_count": 86,
   "metadata": {},
   "outputs": [
    {
     "data": {
      "text/plain": [
       "ModeResult(mode=array([6]), count=array([27]))"
      ]
     },
     "execution_count": 86,
     "metadata": {},
     "output_type": "execute_result"
    }
   ],
   "source": [
    "civil_freedom_ints = map(int, civil_freedom)\n",
    "# print(civil_freedom_ints)\n",
    "mode(civil_freedom_ints)"
   ]
  },
  {
   "cell_type": "markdown",
   "metadata": {},
   "source": [
    "## Visualise relationships"
   ]
  },
  {
   "cell_type": "code",
   "execution_count": 87,
   "metadata": {},
   "outputs": [
    {
     "name": "stderr",
     "output_type": "stream",
     "text": [
      "/home/archon/anaconda2/lib/python2.7/site-packages/ipykernel_launcher.py:4: SettingWithCopyWarning: \n",
      "A value is trying to be set on a copy of a slice from a DataFrame.\n",
      "Try using .loc[row_indexer,col_indexer] = value instead\n",
      "\n",
      "See the caveats in the documentation: http://pandas.pydata.org/pandas-docs/stable/indexing.html#indexing-view-versus-copy\n",
      "  after removing the cwd from sys.path.\n"
     ]
    },
    {
     "data": {
      "text/html": [
       "<div>\n",
       "<style>\n",
       "    .dataframe thead tr:only-child th {\n",
       "        text-align: right;\n",
       "    }\n",
       "\n",
       "    .dataframe thead th {\n",
       "        text-align: left;\n",
       "    }\n",
       "\n",
       "    .dataframe tbody tr th {\n",
       "        vertical-align: top;\n",
       "    }\n",
       "</style>\n",
       "<table border=\"1\" class=\"dataframe\">\n",
       "  <thead>\n",
       "    <tr style=\"text-align: right;\">\n",
       "      <th></th>\n",
       "      <th>Country Name</th>\n",
       "      <th>Country Code</th>\n",
       "      <th>Year</th>\n",
       "      <th>GDP</th>\n",
       "      <th>Economic Freedom Index</th>\n",
       "      <th>Democracy Score</th>\n",
       "    </tr>\n",
       "  </thead>\n",
       "  <tbody>\n",
       "    <tr>\n",
       "      <th>2</th>\n",
       "      <td>Angola</td>\n",
       "      <td>AGO</td>\n",
       "      <td>2011</td>\n",
       "      <td>4.299013</td>\n",
       "      <td>5.13</td>\n",
       "      <td>3.32</td>\n",
       "    </tr>\n",
       "    <tr>\n",
       "      <th>3</th>\n",
       "      <td>Albania</td>\n",
       "      <td>ALB</td>\n",
       "      <td>2011</td>\n",
       "      <td>4.437178</td>\n",
       "      <td>7.25</td>\n",
       "      <td>5.81</td>\n",
       "    </tr>\n",
       "    <tr>\n",
       "      <th>6</th>\n",
       "      <td>Argentina</td>\n",
       "      <td>ARG</td>\n",
       "      <td>2011</td>\n",
       "      <td>12.726908</td>\n",
       "      <td>5.67</td>\n",
       "      <td>6.84</td>\n",
       "    </tr>\n",
       "    <tr>\n",
       "      <th>7</th>\n",
       "      <td>Armenia</td>\n",
       "      <td>ARM</td>\n",
       "      <td>2011</td>\n",
       "      <td>3.526978</td>\n",
       "      <td>7.71</td>\n",
       "      <td>4.09</td>\n",
       "    </tr>\n",
       "    <tr>\n",
       "      <th>10</th>\n",
       "      <td>Australia</td>\n",
       "      <td>AUS</td>\n",
       "      <td>2011</td>\n",
       "      <td>62.245100</td>\n",
       "      <td>7.93</td>\n",
       "      <td>9.22</td>\n",
       "    </tr>\n",
       "  </tbody>\n",
       "</table>\n",
       "</div>"
      ],
      "text/plain": [
       "   Country Name Country Code  Year        GDP  Economic Freedom Index  \\\n",
       "2        Angola          AGO  2011   4.299013                    5.13   \n",
       "3       Albania          ALB  2011   4.437178                    7.25   \n",
       "6     Argentina          ARG  2011  12.726908                    5.67   \n",
       "7       Armenia          ARM  2011   3.526978                    7.71   \n",
       "10    Australia          AUS  2011  62.245100                    7.93   \n",
       "\n",
       "    Democracy Score  \n",
       "2              3.32  \n",
       "3              5.81  \n",
       "6              6.84  \n",
       "7              4.09  \n",
       "10             9.22  "
      ]
     },
     "execution_count": 87,
     "metadata": {},
     "output_type": "execute_result"
    }
   ],
   "source": [
    "df_viz1 = ds.dropna()\n",
    "\n",
    "# Per usual divide GDP w. 1000\n",
    "df_viz1['GDP'] = df_viz1['GDP'] / 1000\n",
    "\n",
    "df_viz1.head()"
   ]
  },
  {
   "cell_type": "code",
   "execution_count": 88,
   "metadata": {},
   "outputs": [
    {
     "name": "stderr",
     "output_type": "stream",
     "text": [
      "/home/archon/anaconda2/lib/python2.7/site-packages/ipykernel_launcher.py:1: SettingWithCopyWarning: \n",
      "A value is trying to be set on a copy of a slice from a DataFrame.\n",
      "Try using .loc[row_indexer,col_indexer] = value instead\n",
      "\n",
      "See the caveats in the documentation: http://pandas.pydata.org/pandas-docs/stable/indexing.html#indexing-view-versus-copy\n",
      "  \"\"\"Entry point for launching an IPython kernel.\n"
     ]
    },
    {
     "data": {
      "text/plain": [
       "<seaborn.axisgrid.FacetGrid at 0x7f9c8bd17750>"
      ]
     },
     "execution_count": 88,
     "metadata": {},
     "output_type": "execute_result"
    },
    {
     "data": {
      "image/png": "[encoded data removed]",
      "text/plain": [
       "<matplotlib.figure.Figure at 0x7f9c8bf78cd0>"
      ]
     },
     "metadata": {},
     "output_type": "display_data"
    }
   ],
   "source": [
    "df_viz1['color'] = 'cyan'\n",
    "\n",
    "sns.lmplot('GDP', 'Economic Freedom Index', df_viz1, line_kws={'color': 'cyan'}, markers=[\"d\"],\n",
    "           hue=\"color\", palette=dict(cyan=\"cyan\"))"
   ]
  },
  {
   "cell_type": "code",
   "execution_count": 89,
   "metadata": {},
   "outputs": [
    {
     "name": "stderr",
     "output_type": "stream",
     "text": [
      "/home/archon/anaconda2/lib/python2.7/site-packages/ipykernel_launcher.py:1: SettingWithCopyWarning: \n",
      "A value is trying to be set on a copy of a slice from a DataFrame.\n",
      "Try using .loc[row_indexer,col_indexer] = value instead\n",
      "\n",
      "See the caveats in the documentation: http://pandas.pydata.org/pandas-docs/stable/indexing.html#indexing-view-versus-copy\n",
      "  \"\"\"Entry point for launching an IPython kernel.\n"
     ]
    },
    {
     "data": {
      "text/plain": [
       "<seaborn.axisgrid.FacetGrid at 0x7f9c88a60fd0>"
      ]
     },
     "execution_count": 89,
     "metadata": {},
     "output_type": "execute_result"
    },
    {
     "data": {
      "image/png": "[encoded data removed]",
      "text/plain": [
       "<matplotlib.figure.Figure at 0x7f9c889bd150>"
      ]
     },
     "metadata": {},
     "output_type": "display_data"
    }
   ],
   "source": [
    "df_viz1['color'] = 'blue'\n",
    "\n",
    "sns.lmplot('GDP', 'Democracy Score', df_viz1,\n",
    "           line_kws={'color': 'blue'}, markers=[\"v\"],\n",
    "           hue=\"color\", palette=dict(blue=\"blue\"))"
   ]
  },
  {
   "cell_type": "code",
   "execution_count": 90,
   "metadata": {},
   "outputs": [
    {
     "data": {
      "text/plain": [
       "<seaborn.axisgrid.FacetGrid at 0x7f9c8bf91bd0>"
      ]
     },
     "execution_count": 90,
     "metadata": {},
     "output_type": "execute_result"
    },
    {
     "data": {
      "image/png": "[encoded data removed]",
      "text/plain": [
       "<matplotlib.figure.Figure at 0x7f9c8893fa10>"
      ]
     },
     "metadata": {},
     "output_type": "display_data"
    }
   ],
   "source": [
    "sns.lmplot('Economic Freedom Index', 'Democracy Score', df_viz1)"
   ]
  },
  {
   "cell_type": "markdown",
   "metadata": {},
   "source": [
    "### Correlation Heatmap"
   ]
  },
  {
   "cell_type": "code",
   "execution_count": 91,
   "metadata": {},
   "outputs": [
    {
     "data": {
      "text/plain": [
       "<matplotlib.axes._subplots.AxesSubplot at 0x7f9c889bde90>"
      ]
     },
     "execution_count": 91,
     "metadata": {},
     "output_type": "execute_result"
    },
    {
     "data": {
      "image/png": "[encoded data removed]",
      "text/plain": [
       "<matplotlib.figure.Figure at 0x7f9c88971ed0>"
      ]
     },
     "metadata": {},
     "output_type": "display_data"
    }
   ],
   "source": [
    "correlations = df_viz1[['GDP', 'Economic Freedom Index', 'Democracy Score']].corr()\n",
    "sns.heatmap(correlations)"
   ]
  },
  {
   "cell_type": "markdown",
   "metadata": {},
   "source": [
    "## Relationships summaries"
   ]
  },
  {
   "cell_type": "code",
   "execution_count": 92,
   "metadata": {},
   "outputs": [
    {
     "data": {
      "text/html": [
       "<table class=\"simpletable\">\n",
       "<caption>OLS Regression Results</caption>\n",
       "<tr>\n",
       "  <th>Dep. Variable:</th>           <td>GDP</td>       <th>  R-squared:         </th> <td>   0.381</td>\n",
       "</tr>\n",
       "<tr>\n",
       "  <th>Model:</th>                   <td>OLS</td>       <th>  Adj. R-squared:    </th> <td>   0.379</td>\n",
       "</tr>\n",
       "<tr>\n",
       "  <th>Method:</th>             <td>Least Squares</td>  <th>  F-statistic:       </th> <td>   155.8</td>\n",
       "</tr>\n",
       "<tr>\n",
       "  <th>Date:</th>             <td>Mon, 28 Aug 2017</td> <th>  Prob (F-statistic):</th> <td>1.93e-53</td>\n",
       "</tr>\n",
       "<tr>\n",
       "  <th>Time:</th>                 <td>16:58:55</td>     <th>  Log-Likelihood:    </th> <td> -2182.3</td>\n",
       "</tr>\n",
       "<tr>\n",
       "  <th>No. Observations:</th>      <td>   509</td>      <th>  AIC:               </th> <td>   4371.</td>\n",
       "</tr>\n",
       "<tr>\n",
       "  <th>Df Residuals:</th>          <td>   506</td>      <th>  BIC:               </th> <td>   4383.</td>\n",
       "</tr>\n",
       "<tr>\n",
       "  <th>Df Model:</th>              <td>     2</td>      <th>                     </th>     <td> </td>   \n",
       "</tr>\n",
       "<tr>\n",
       "  <th>Covariance Type:</th>      <td>nonrobust</td>    <th>                     </th>     <td> </td>   \n",
       "</tr>\n",
       "</table>\n",
       "<table class=\"simpletable\">\n",
       "<tr>\n",
       "            <td></td>              <th>coef</th>     <th>std err</th>      <th>t</th>      <th>P>|t|</th>  <th>[0.025</th>    <th>0.975]</th>  \n",
       "</tr>\n",
       "<tr>\n",
       "  <th>Intercept</th>            <td>  -76.0992</td> <td>    7.435</td> <td>  -10.236</td> <td> 0.000</td> <td>  -90.705</td> <td>  -61.493</td>\n",
       "</tr>\n",
       "<tr>\n",
       "  <th>EconomicFreedomIndex</th> <td>    9.8418</td> <td>    1.249</td> <td>    7.883</td> <td> 0.000</td> <td>    7.389</td> <td>   12.295</td>\n",
       "</tr>\n",
       "<tr>\n",
       "  <th>DemocracyScore</th>       <td>    4.0972</td> <td>    0.471</td> <td>    8.695</td> <td> 0.000</td> <td>    3.171</td> <td>    5.023</td>\n",
       "</tr>\n",
       "</table>\n",
       "<table class=\"simpletable\">\n",
       "<tr>\n",
       "  <th>Omnibus:</th>       <td>207.274</td> <th>  Durbin-Watson:     </th> <td>   2.047</td> \n",
       "</tr>\n",
       "<tr>\n",
       "  <th>Prob(Omnibus):</th> <td> 0.000</td>  <th>  Jarque-Bera (JB):  </th> <td> 837.816</td> \n",
       "</tr>\n",
       "<tr>\n",
       "  <th>Skew:</th>          <td> 1.841</td>  <th>  Prob(JB):          </th> <td>1.18e-182</td>\n",
       "</tr>\n",
       "<tr>\n",
       "  <th>Kurtosis:</th>      <td> 8.094</td>  <th>  Cond. No.          </th> <td>    89.7</td> \n",
       "</tr>\n",
       "</table>"
      ],
      "text/plain": [
       "<class 'statsmodels.iolib.summary.Summary'>\n",
       "\"\"\"\n",
       "                            OLS Regression Results                            \n",
       "==============================================================================\n",
       "Dep. Variable:                    GDP   R-squared:                       0.381\n",
       "Model:                            OLS   Adj. R-squared:                  0.379\n",
       "Method:                 Least Squares   F-statistic:                     155.8\n",
       "Date:                Mon, 28 Aug 2017   Prob (F-statistic):           1.93e-53\n",
       "Time:                        16:58:55   Log-Likelihood:                -2182.3\n",
       "No. Observations:                 509   AIC:                             4371.\n",
       "Df Residuals:                     506   BIC:                             4383.\n",
       "Df Model:                           2                                         \n",
       "Covariance Type:            nonrobust                                         \n",
       "========================================================================================\n",
       "                           coef    std err          t      P>|t|      [0.025      0.975]\n",
       "----------------------------------------------------------------------------------------\n",
       "Intercept              -76.0992      7.435    -10.236      0.000     -90.705     -61.493\n",
       "EconomicFreedomIndex     9.8418      1.249      7.883      0.000       7.389      12.295\n",
       "DemocracyScore           4.0972      0.471      8.695      0.000       3.171       5.023\n",
       "==============================================================================\n",
       "Omnibus:                      207.274   Durbin-Watson:                   2.047\n",
       "Prob(Omnibus):                  0.000   Jarque-Bera (JB):              837.816\n",
       "Skew:                           1.841   Prob(JB):                    1.18e-182\n",
       "Kurtosis:                       8.094   Cond. No.                         89.7\n",
       "==============================================================================\n",
       "\n",
       "Warnings:\n",
       "[1] Standard Errors assume that the covariance matrix of the errors is correctly specified.\n",
       "\"\"\""
      ]
     },
     "execution_count": 92,
     "metadata": {},
     "output_type": "execute_result"
    }
   ],
   "source": [
    "df_ = df_viz1.rename(columns={\n",
    "    'Economic Freedom Index': 'EconomicFreedomIndex',\n",
    "    'Democracy Score': 'DemocracyScore'\n",
    "})\n",
    "\n",
    "lm = smf.ols(formula='GDP ~ EconomicFreedomIndex + DemocracyScore', data=df_).fit()\n",
    "\n",
    "lm.summary()"
   ]
  },
  {
   "cell_type": "markdown",
   "metadata": {
    "collapsed": true
   },
   "source": [
    "## Normalise dataset\n",
    "\n",
    "Divide by max"
   ]
  },
  {
   "cell_type": "code",
   "execution_count": 93,
   "metadata": {},
   "outputs": [
    {
     "data": {
      "text/html": [
       "<div>\n",
       "<style>\n",
       "    .dataframe thead tr:only-child th {\n",
       "        text-align: right;\n",
       "    }\n",
       "\n",
       "    .dataframe thead th {\n",
       "        text-align: left;\n",
       "    }\n",
       "\n",
       "    .dataframe tbody tr th {\n",
       "        vertical-align: top;\n",
       "    }\n",
       "</style>\n",
       "<table border=\"1\" class=\"dataframe\">\n",
       "  <thead>\n",
       "    <tr style=\"text-align: right;\">\n",
       "      <th></th>\n",
       "      <th>Country Name</th>\n",
       "      <th>Country Code</th>\n",
       "      <th>Year</th>\n",
       "      <th>GDP</th>\n",
       "      <th>Economic Freedom Index</th>\n",
       "      <th>Democracy Score</th>\n",
       "    </tr>\n",
       "  </thead>\n",
       "  <tbody>\n",
       "    <tr>\n",
       "      <th>0</th>\n",
       "      <td>Aruba</td>\n",
       "      <td>ABW</td>\n",
       "      <td>2011</td>\n",
       "      <td>25324.720363</td>\n",
       "      <td>NaN</td>\n",
       "      <td>NaN</td>\n",
       "    </tr>\n",
       "    <tr>\n",
       "      <th>1</th>\n",
       "      <td>Afghanistan</td>\n",
       "      <td>AFG</td>\n",
       "      <td>2011</td>\n",
       "      <td>603.537023</td>\n",
       "      <td>NaN</td>\n",
       "      <td>2.48</td>\n",
       "    </tr>\n",
       "    <tr>\n",
       "      <th>2</th>\n",
       "      <td>Angola</td>\n",
       "      <td>AGO</td>\n",
       "      <td>2011</td>\n",
       "      <td>4299.012889</td>\n",
       "      <td>5.13</td>\n",
       "      <td>3.32</td>\n",
       "    </tr>\n",
       "    <tr>\n",
       "      <th>3</th>\n",
       "      <td>Albania</td>\n",
       "      <td>ALB</td>\n",
       "      <td>2011</td>\n",
       "      <td>4437.178068</td>\n",
       "      <td>7.25</td>\n",
       "      <td>5.81</td>\n",
       "    </tr>\n",
       "    <tr>\n",
       "      <th>4</th>\n",
       "      <td>Andorra</td>\n",
       "      <td>AND</td>\n",
       "      <td>2011</td>\n",
       "      <td>40919.183279</td>\n",
       "      <td>NaN</td>\n",
       "      <td>NaN</td>\n",
       "    </tr>\n",
       "  </tbody>\n",
       "</table>\n",
       "</div>"
      ],
      "text/plain": [
       "  Country Name Country Code  Year           GDP  Economic Freedom Index  \\\n",
       "0        Aruba          ABW  2011  25324.720363                     NaN   \n",
       "1  Afghanistan          AFG  2011    603.537023                     NaN   \n",
       "2       Angola          AGO  2011   4299.012889                    5.13   \n",
       "3      Albania          ALB  2011   4437.178068                    7.25   \n",
       "4      Andorra          AND  2011  40919.183279                     NaN   \n",
       "\n",
       "   Democracy Score  \n",
       "0              NaN  \n",
       "1             2.48  \n",
       "2             3.32  \n",
       "3             5.81  \n",
       "4              NaN  "
      ]
     },
     "execution_count": 93,
     "metadata": {},
     "output_type": "execute_result"
    }
   ],
   "source": [
    "ds.head()"
   ]
  },
  {
   "cell_type": "code",
   "execution_count": 94,
   "metadata": {},
   "outputs": [
    {
     "data": {
      "text/plain": [
       "8.7100000000000009"
      ]
     },
     "execution_count": 94,
     "metadata": {},
     "output_type": "execute_result"
    }
   ],
   "source": [
    "max_freedom = ds['Economic Freedom Index'].dropna().values.max()\n",
    "\n",
    "max_freedom"
   ]
  },
  {
   "cell_type": "code",
   "execution_count": 95,
   "metadata": {},
   "outputs": [
    {
     "data": {
      "text/plain": [
       "9.9299999999999997"
      ]
     },
     "execution_count": 95,
     "metadata": {},
     "output_type": "execute_result"
    }
   ],
   "source": [
    "max_democracy = ds['Democracy Score'].dropna().values.max()\n",
    "\n",
    "max_democracy"
   ]
  },
  {
   "cell_type": "code",
   "execution_count": 96,
   "metadata": {},
   "outputs": [
    {
     "data": {
      "text/plain": [
       "179478.58482799999"
      ]
     },
     "execution_count": 96,
     "metadata": {},
     "output_type": "execute_result"
    }
   ],
   "source": [
    "max_gdp = ds['GDP'].dropna().values.max()\n",
    "\n",
    "max_gdp"
   ]
  },
  {
   "cell_type": "code",
   "execution_count": 97,
   "metadata": {
    "collapsed": true
   },
   "outputs": [],
   "source": [
    "ds['economic_freedom_ratio'] = ds['Economic Freedom Index'] / max_freedom"
   ]
  },
  {
   "cell_type": "code",
   "execution_count": 98,
   "metadata": {
    "collapsed": true
   },
   "outputs": [],
   "source": [
    "ds['democracy_ratio'] = ds['Democracy Score'] / max_democracy"
   ]
  },
  {
   "cell_type": "code",
   "execution_count": 99,
   "metadata": {
    "collapsed": true
   },
   "outputs": [],
   "source": [
    "ds['gdp_ratio'] = ds['GDP'] / max_gdp"
   ]
  },
  {
   "cell_type": "code",
   "execution_count": 100,
   "metadata": {},
   "outputs": [
    {
     "data": {
      "text/html": [
       "<div>\n",
       "<style>\n",
       "    .dataframe thead tr:only-child th {\n",
       "        text-align: right;\n",
       "    }\n",
       "\n",
       "    .dataframe thead th {\n",
       "        text-align: left;\n",
       "    }\n",
       "\n",
       "    .dataframe tbody tr th {\n",
       "        vertical-align: top;\n",
       "    }\n",
       "</style>\n",
       "<table border=\"1\" class=\"dataframe\">\n",
       "  <thead>\n",
       "    <tr style=\"text-align: right;\">\n",
       "      <th></th>\n",
       "      <th>Country Name</th>\n",
       "      <th>Country Code</th>\n",
       "      <th>Year</th>\n",
       "      <th>GDP</th>\n",
       "      <th>Economic Freedom Index</th>\n",
       "      <th>Democracy Score</th>\n",
       "      <th>economic_freedom_ratio</th>\n",
       "      <th>democracy_ratio</th>\n",
       "      <th>gdp_ratio</th>\n",
       "    </tr>\n",
       "  </thead>\n",
       "  <tbody>\n",
       "    <tr>\n",
       "      <th>0</th>\n",
       "      <td>Aruba</td>\n",
       "      <td>ABW</td>\n",
       "      <td>2011</td>\n",
       "      <td>25324.720363</td>\n",
       "      <td>NaN</td>\n",
       "      <td>NaN</td>\n",
       "      <td>NaN</td>\n",
       "      <td>NaN</td>\n",
       "      <td>0.141102</td>\n",
       "    </tr>\n",
       "    <tr>\n",
       "      <th>1</th>\n",
       "      <td>Afghanistan</td>\n",
       "      <td>AFG</td>\n",
       "      <td>2011</td>\n",
       "      <td>603.537023</td>\n",
       "      <td>NaN</td>\n",
       "      <td>2.48</td>\n",
       "      <td>NaN</td>\n",
       "      <td>0.249748</td>\n",
       "      <td>0.003363</td>\n",
       "    </tr>\n",
       "    <tr>\n",
       "      <th>2</th>\n",
       "      <td>Angola</td>\n",
       "      <td>AGO</td>\n",
       "      <td>2011</td>\n",
       "      <td>4299.012889</td>\n",
       "      <td>5.13</td>\n",
       "      <td>3.32</td>\n",
       "      <td>0.588978</td>\n",
       "      <td>0.334340</td>\n",
       "      <td>0.023953</td>\n",
       "    </tr>\n",
       "    <tr>\n",
       "      <th>3</th>\n",
       "      <td>Albania</td>\n",
       "      <td>ALB</td>\n",
       "      <td>2011</td>\n",
       "      <td>4437.178068</td>\n",
       "      <td>7.25</td>\n",
       "      <td>5.81</td>\n",
       "      <td>0.832377</td>\n",
       "      <td>0.585096</td>\n",
       "      <td>0.024723</td>\n",
       "    </tr>\n",
       "    <tr>\n",
       "      <th>4</th>\n",
       "      <td>Andorra</td>\n",
       "      <td>AND</td>\n",
       "      <td>2011</td>\n",
       "      <td>40919.183279</td>\n",
       "      <td>NaN</td>\n",
       "      <td>NaN</td>\n",
       "      <td>NaN</td>\n",
       "      <td>NaN</td>\n",
       "      <td>0.227989</td>\n",
       "    </tr>\n",
       "    <tr>\n",
       "      <th>5</th>\n",
       "      <td>United Arab Emirates</td>\n",
       "      <td>ARE</td>\n",
       "      <td>2011</td>\n",
       "      <td>40462.312090</td>\n",
       "      <td>NaN</td>\n",
       "      <td>2.58</td>\n",
       "      <td>NaN</td>\n",
       "      <td>0.259819</td>\n",
       "      <td>0.225444</td>\n",
       "    </tr>\n",
       "    <tr>\n",
       "      <th>6</th>\n",
       "      <td>Argentina</td>\n",
       "      <td>ARG</td>\n",
       "      <td>2011</td>\n",
       "      <td>12726.908359</td>\n",
       "      <td>5.67</td>\n",
       "      <td>6.84</td>\n",
       "      <td>0.650976</td>\n",
       "      <td>0.688822</td>\n",
       "      <td>0.070910</td>\n",
       "    </tr>\n",
       "    <tr>\n",
       "      <th>7</th>\n",
       "      <td>Armenia</td>\n",
       "      <td>ARM</td>\n",
       "      <td>2011</td>\n",
       "      <td>3526.978143</td>\n",
       "      <td>7.71</td>\n",
       "      <td>4.09</td>\n",
       "      <td>0.885189</td>\n",
       "      <td>0.411883</td>\n",
       "      <td>0.019651</td>\n",
       "    </tr>\n",
       "    <tr>\n",
       "      <th>8</th>\n",
       "      <td>American Samoa</td>\n",
       "      <td>ASM</td>\n",
       "      <td>2011</td>\n",
       "      <td>10375.994216</td>\n",
       "      <td>NaN</td>\n",
       "      <td>NaN</td>\n",
       "      <td>NaN</td>\n",
       "      <td>NaN</td>\n",
       "      <td>0.057812</td>\n",
       "    </tr>\n",
       "    <tr>\n",
       "      <th>9</th>\n",
       "      <td>Antigua and Barbuda</td>\n",
       "      <td>ATG</td>\n",
       "      <td>2011</td>\n",
       "      <td>11929.349914</td>\n",
       "      <td>NaN</td>\n",
       "      <td>NaN</td>\n",
       "      <td>NaN</td>\n",
       "      <td>NaN</td>\n",
       "      <td>0.066467</td>\n",
       "    </tr>\n",
       "  </tbody>\n",
       "</table>\n",
       "</div>"
      ],
      "text/plain": [
       "           Country Name Country Code  Year           GDP  \\\n",
       "0                 Aruba          ABW  2011  25324.720363   \n",
       "1           Afghanistan          AFG  2011    603.537023   \n",
       "2                Angola          AGO  2011   4299.012889   \n",
       "3               Albania          ALB  2011   4437.178068   \n",
       "4               Andorra          AND  2011  40919.183279   \n",
       "5  United Arab Emirates          ARE  2011  40462.312090   \n",
       "6             Argentina          ARG  2011  12726.908359   \n",
       "7               Armenia          ARM  2011   3526.978143   \n",
       "8        American Samoa          ASM  2011  10375.994216   \n",
       "9   Antigua and Barbuda          ATG  2011  11929.349914   \n",
       "\n",
       "   Economic Freedom Index  Democracy Score  economic_freedom_ratio  \\\n",
       "0                     NaN              NaN                     NaN   \n",
       "1                     NaN             2.48                     NaN   \n",
       "2                    5.13             3.32                0.588978   \n",
       "3                    7.25             5.81                0.832377   \n",
       "4                     NaN              NaN                     NaN   \n",
       "5                     NaN             2.58                     NaN   \n",
       "6                    5.67             6.84                0.650976   \n",
       "7                    7.71             4.09                0.885189   \n",
       "8                     NaN              NaN                     NaN   \n",
       "9                     NaN              NaN                     NaN   \n",
       "\n",
       "   democracy_ratio  gdp_ratio  \n",
       "0              NaN   0.141102  \n",
       "1         0.249748   0.003363  \n",
       "2         0.334340   0.023953  \n",
       "3         0.585096   0.024723  \n",
       "4              NaN   0.227989  \n",
       "5         0.259819   0.225444  \n",
       "6         0.688822   0.070910  \n",
       "7         0.411883   0.019651  \n",
       "8              NaN   0.057812  \n",
       "9              NaN   0.066467  "
      ]
     },
     "execution_count": 100,
     "metadata": {},
     "output_type": "execute_result"
    }
   ],
   "source": [
    "ds.head(10)"
   ]
  },
  {
   "cell_type": "markdown",
   "metadata": {},
   "source": [
    "Harmonic mean from\n",
    "<https://docs.scipy.org/doc/scipy-0.13.0/reference/generated/scipy.stats.hmean.html>"
   ]
  },
  {
   "cell_type": "code",
   "execution_count": 101,
   "metadata": {
    "collapsed": true
   },
   "outputs": [],
   "source": [
    "from scipy.stats import hmean"
   ]
  },
  {
   "cell_type": "code",
   "execution_count": 102,
   "metadata": {
    "collapsed": true
   },
   "outputs": [],
   "source": [
    "def mask_hmean(row):\n",
    "    er = row['economic_freedom_ratio']\n",
    "    dr = row['democracy_ratio']\n",
    "    if er > 0 and dr > 0:\n",
    "        return hmean([er, dr])\n",
    "    else:\n",
    "        return None"
   ]
  },
  {
   "cell_type": "code",
   "execution_count": 103,
   "metadata": {
    "collapsed": true
   },
   "outputs": [],
   "source": [
    "ds['freedoms_mean'] = ds.apply(mask_hmean, axis=1)"
   ]
  },
  {
   "cell_type": "code",
   "execution_count": 104,
   "metadata": {},
   "outputs": [
    {
     "data": {
      "text/html": [
       "<div>\n",
       "<style>\n",
       "    .dataframe thead tr:only-child th {\n",
       "        text-align: right;\n",
       "    }\n",
       "\n",
       "    .dataframe thead th {\n",
       "        text-align: left;\n",
       "    }\n",
       "\n",
       "    .dataframe tbody tr th {\n",
       "        vertical-align: top;\n",
       "    }\n",
       "</style>\n",
       "<table border=\"1\" class=\"dataframe\">\n",
       "  <thead>\n",
       "    <tr style=\"text-align: right;\">\n",
       "      <th></th>\n",
       "      <th>Country Name</th>\n",
       "      <th>Country Code</th>\n",
       "      <th>Year</th>\n",
       "      <th>GDP</th>\n",
       "      <th>Economic Freedom Index</th>\n",
       "      <th>Democracy Score</th>\n",
       "      <th>economic_freedom_ratio</th>\n",
       "      <th>democracy_ratio</th>\n",
       "      <th>gdp_ratio</th>\n",
       "      <th>freedoms_mean</th>\n",
       "    </tr>\n",
       "  </thead>\n",
       "  <tbody>\n",
       "    <tr>\n",
       "      <th>0</th>\n",
       "      <td>Aruba</td>\n",
       "      <td>ABW</td>\n",
       "      <td>2011</td>\n",
       "      <td>25324.720363</td>\n",
       "      <td>NaN</td>\n",
       "      <td>NaN</td>\n",
       "      <td>NaN</td>\n",
       "      <td>NaN</td>\n",
       "      <td>0.141102</td>\n",
       "      <td>NaN</td>\n",
       "    </tr>\n",
       "    <tr>\n",
       "      <th>1</th>\n",
       "      <td>Afghanistan</td>\n",
       "      <td>AFG</td>\n",
       "      <td>2011</td>\n",
       "      <td>603.537023</td>\n",
       "      <td>NaN</td>\n",
       "      <td>2.48</td>\n",
       "      <td>NaN</td>\n",
       "      <td>0.249748</td>\n",
       "      <td>0.003363</td>\n",
       "      <td>NaN</td>\n",
       "    </tr>\n",
       "    <tr>\n",
       "      <th>2</th>\n",
       "      <td>Angola</td>\n",
       "      <td>AGO</td>\n",
       "      <td>2011</td>\n",
       "      <td>4299.012889</td>\n",
       "      <td>5.13</td>\n",
       "      <td>3.32</td>\n",
       "      <td>0.588978</td>\n",
       "      <td>0.334340</td>\n",
       "      <td>0.023953</td>\n",
       "      <td>0.426547</td>\n",
       "    </tr>\n",
       "    <tr>\n",
       "      <th>3</th>\n",
       "      <td>Albania</td>\n",
       "      <td>ALB</td>\n",
       "      <td>2011</td>\n",
       "      <td>4437.178068</td>\n",
       "      <td>7.25</td>\n",
       "      <td>5.81</td>\n",
       "      <td>0.832377</td>\n",
       "      <td>0.585096</td>\n",
       "      <td>0.024723</td>\n",
       "      <td>0.687167</td>\n",
       "    </tr>\n",
       "  </tbody>\n",
       "</table>\n",
       "</div>"
      ],
      "text/plain": [
       "  Country Name Country Code  Year           GDP  Economic Freedom Index  \\\n",
       "0        Aruba          ABW  2011  25324.720363                     NaN   \n",
       "1  Afghanistan          AFG  2011    603.537023                     NaN   \n",
       "2       Angola          AGO  2011   4299.012889                    5.13   \n",
       "3      Albania          ALB  2011   4437.178068                    7.25   \n",
       "\n",
       "   Democracy Score  economic_freedom_ratio  democracy_ratio  gdp_ratio  \\\n",
       "0              NaN                     NaN              NaN   0.141102   \n",
       "1             2.48                     NaN         0.249748   0.003363   \n",
       "2             3.32                0.588978         0.334340   0.023953   \n",
       "3             5.81                0.832377         0.585096   0.024723   \n",
       "\n",
       "   freedoms_mean  \n",
       "0            NaN  \n",
       "1            NaN  \n",
       "2       0.426547  \n",
       "3       0.687167  "
      ]
     },
     "execution_count": 104,
     "metadata": {},
     "output_type": "execute_result"
    }
   ],
   "source": [
    "ds[0:4]"
   ]
  },
  {
   "cell_type": "code",
   "execution_count": 105,
   "metadata": {},
   "outputs": [
    {
     "data": {
      "text/plain": [
       "896"
      ]
     },
     "execution_count": 105,
     "metadata": {},
     "output_type": "execute_result"
    }
   ],
   "source": [
    "len(ds)"
   ]
  },
  {
   "cell_type": "code",
   "execution_count": 106,
   "metadata": {},
   "outputs": [
    {
     "data": {
      "text/plain": [
       "509"
      ]
     },
     "execution_count": 106,
     "metadata": {},
     "output_type": "execute_result"
    }
   ],
   "source": [
    "ds_wo_na = ds.dropna()\n",
    "\n",
    "len(ds_wo_na)"
   ]
  },
  {
   "cell_type": "code",
   "execution_count": 107,
   "metadata": {
    "scrolled": true
   },
   "outputs": [
    {
     "data": {
      "text/html": [
       "<div>\n",
       "<style>\n",
       "    .dataframe thead tr:only-child th {\n",
       "        text-align: right;\n",
       "    }\n",
       "\n",
       "    .dataframe thead th {\n",
       "        text-align: left;\n",
       "    }\n",
       "\n",
       "    .dataframe tbody tr th {\n",
       "        vertical-align: top;\n",
       "    }\n",
       "</style>\n",
       "<table border=\"1\" class=\"dataframe\">\n",
       "  <thead>\n",
       "    <tr style=\"text-align: right;\">\n",
       "      <th></th>\n",
       "      <th>Country Name</th>\n",
       "      <th>Country Code</th>\n",
       "      <th>Year</th>\n",
       "      <th>GDP</th>\n",
       "      <th>Economic Freedom Index</th>\n",
       "      <th>Democracy Score</th>\n",
       "      <th>economic_freedom_ratio</th>\n",
       "      <th>democracy_ratio</th>\n",
       "      <th>gdp_ratio</th>\n",
       "      <th>freedoms_mean</th>\n",
       "    </tr>\n",
       "  </thead>\n",
       "  <tbody>\n",
       "    <tr>\n",
       "      <th>2</th>\n",
       "      <td>Angola</td>\n",
       "      <td>AGO</td>\n",
       "      <td>2011</td>\n",
       "      <td>4299.012889</td>\n",
       "      <td>5.13</td>\n",
       "      <td>3.32</td>\n",
       "      <td>0.588978</td>\n",
       "      <td>0.334340</td>\n",
       "      <td>0.023953</td>\n",
       "      <td>0.426547</td>\n",
       "    </tr>\n",
       "    <tr>\n",
       "      <th>3</th>\n",
       "      <td>Albania</td>\n",
       "      <td>ALB</td>\n",
       "      <td>2011</td>\n",
       "      <td>4437.178068</td>\n",
       "      <td>7.25</td>\n",
       "      <td>5.81</td>\n",
       "      <td>0.832377</td>\n",
       "      <td>0.585096</td>\n",
       "      <td>0.024723</td>\n",
       "      <td>0.687167</td>\n",
       "    </tr>\n",
       "    <tr>\n",
       "      <th>6</th>\n",
       "      <td>Argentina</td>\n",
       "      <td>ARG</td>\n",
       "      <td>2011</td>\n",
       "      <td>12726.908359</td>\n",
       "      <td>5.67</td>\n",
       "      <td>6.84</td>\n",
       "      <td>0.650976</td>\n",
       "      <td>0.688822</td>\n",
       "      <td>0.070910</td>\n",
       "      <td>0.669364</td>\n",
       "    </tr>\n",
       "    <tr>\n",
       "      <th>7</th>\n",
       "      <td>Armenia</td>\n",
       "      <td>ARM</td>\n",
       "      <td>2011</td>\n",
       "      <td>3526.978143</td>\n",
       "      <td>7.71</td>\n",
       "      <td>4.09</td>\n",
       "      <td>0.885189</td>\n",
       "      <td>0.411883</td>\n",
       "      <td>0.019651</td>\n",
       "      <td>0.562181</td>\n",
       "    </tr>\n",
       "    <tr>\n",
       "      <th>10</th>\n",
       "      <td>Australia</td>\n",
       "      <td>AUS</td>\n",
       "      <td>2011</td>\n",
       "      <td>62245.100292</td>\n",
       "      <td>7.93</td>\n",
       "      <td>9.22</td>\n",
       "      <td>0.910448</td>\n",
       "      <td>0.928499</td>\n",
       "      <td>0.346811</td>\n",
       "      <td>0.919385</td>\n",
       "    </tr>\n",
       "  </tbody>\n",
       "</table>\n",
       "</div>"
      ],
      "text/plain": [
       "   Country Name Country Code  Year           GDP  Economic Freedom Index  \\\n",
       "2        Angola          AGO  2011   4299.012889                    5.13   \n",
       "3       Albania          ALB  2011   4437.178068                    7.25   \n",
       "6     Argentina          ARG  2011  12726.908359                    5.67   \n",
       "7       Armenia          ARM  2011   3526.978143                    7.71   \n",
       "10    Australia          AUS  2011  62245.100292                    7.93   \n",
       "\n",
       "    Democracy Score  economic_freedom_ratio  democracy_ratio  gdp_ratio  \\\n",
       "2              3.32                0.588978         0.334340   0.023953   \n",
       "3              5.81                0.832377         0.585096   0.024723   \n",
       "6              6.84                0.650976         0.688822   0.070910   \n",
       "7              4.09                0.885189         0.411883   0.019651   \n",
       "10             9.22                0.910448         0.928499   0.346811   \n",
       "\n",
       "    freedoms_mean  \n",
       "2        0.426547  \n",
       "3        0.687167  \n",
       "6        0.669364  \n",
       "7        0.562181  \n",
       "10       0.919385  "
      ]
     },
     "execution_count": 107,
     "metadata": {},
     "output_type": "execute_result"
    }
   ],
   "source": [
    "ds_wo_na.head()"
   ]
  },
  {
   "cell_type": "markdown",
   "metadata": {},
   "source": [
    "## Construct linear model from available data"
   ]
  },
  {
   "cell_type": "code",
   "execution_count": 108,
   "metadata": {
    "collapsed": true
   },
   "outputs": [],
   "source": [
    "import statsmodels.formula.api as smf"
   ]
  },
  {
   "cell_type": "markdown",
   "metadata": {},
   "source": [
    "### gdp &rarr; democracy &amp; gdp"
   ]
  },
  {
   "cell_type": "code",
   "execution_count": 109,
   "metadata": {
    "collapsed": true
   },
   "outputs": [],
   "source": [
    "lm1 = smf.ols(formula='gdp_ratio ~ democracy_ratio + economic_freedom_ratio', data=ds_wo_na).fit()"
   ]
  },
  {
   "cell_type": "code",
   "execution_count": 110,
   "metadata": {},
   "outputs": [
    {
     "data": {
      "text/html": [
       "<table class=\"simpletable\">\n",
       "<caption>OLS Regression Results</caption>\n",
       "<tr>\n",
       "  <th>Dep. Variable:</th>        <td>gdp_ratio</td>    <th>  R-squared:         </th> <td>   0.381</td>\n",
       "</tr>\n",
       "<tr>\n",
       "  <th>Model:</th>                   <td>OLS</td>       <th>  Adj. R-squared:    </th> <td>   0.379</td>\n",
       "</tr>\n",
       "<tr>\n",
       "  <th>Method:</th>             <td>Least Squares</td>  <th>  F-statistic:       </th> <td>   155.8</td>\n",
       "</tr>\n",
       "<tr>\n",
       "  <th>Date:</th>             <td>Mon, 28 Aug 2017</td> <th>  Prob (F-statistic):</th> <td>1.93e-53</td>\n",
       "</tr>\n",
       "<tr>\n",
       "  <th>Time:</th>                 <td>16:58:55</td>     <th>  Log-Likelihood:    </th> <td>  459.47</td>\n",
       "</tr>\n",
       "<tr>\n",
       "  <th>No. Observations:</th>      <td>   509</td>      <th>  AIC:               </th> <td>  -912.9</td>\n",
       "</tr>\n",
       "<tr>\n",
       "  <th>Df Residuals:</th>          <td>   506</td>      <th>  BIC:               </th> <td>  -900.3</td>\n",
       "</tr>\n",
       "<tr>\n",
       "  <th>Df Model:</th>              <td>     2</td>      <th>                     </th>     <td> </td>   \n",
       "</tr>\n",
       "<tr>\n",
       "  <th>Covariance Type:</th>      <td>nonrobust</td>    <th>                     </th>     <td> </td>   \n",
       "</tr>\n",
       "</table>\n",
       "<table class=\"simpletable\">\n",
       "<tr>\n",
       "             <td></td>               <th>coef</th>     <th>std err</th>      <th>t</th>      <th>P>|t|</th>  <th>[0.025</th>    <th>0.975]</th>  \n",
       "</tr>\n",
       "<tr>\n",
       "  <th>Intercept</th>              <td>   -0.4240</td> <td>    0.041</td> <td>  -10.236</td> <td> 0.000</td> <td>   -0.505</td> <td>   -0.343</td>\n",
       "</tr>\n",
       "<tr>\n",
       "  <th>democracy_ratio</th>        <td>    0.2267</td> <td>    0.026</td> <td>    8.695</td> <td> 0.000</td> <td>    0.175</td> <td>    0.278</td>\n",
       "</tr>\n",
       "<tr>\n",
       "  <th>economic_freedom_ratio</th> <td>    0.4776</td> <td>    0.061</td> <td>    7.883</td> <td> 0.000</td> <td>    0.359</td> <td>    0.597</td>\n",
       "</tr>\n",
       "</table>\n",
       "<table class=\"simpletable\">\n",
       "<tr>\n",
       "  <th>Omnibus:</th>       <td>207.274</td> <th>  Durbin-Watson:     </th> <td>   2.047</td> \n",
       "</tr>\n",
       "<tr>\n",
       "  <th>Prob(Omnibus):</th> <td> 0.000</td>  <th>  Jarque-Bera (JB):  </th> <td> 837.816</td> \n",
       "</tr>\n",
       "<tr>\n",
       "  <th>Skew:</th>          <td> 1.841</td>  <th>  Prob(JB):          </th> <td>1.18e-182</td>\n",
       "</tr>\n",
       "<tr>\n",
       "  <th>Kurtosis:</th>      <td> 8.094</td>  <th>  Cond. No.          </th> <td>    23.9</td> \n",
       "</tr>\n",
       "</table>"
      ],
      "text/plain": [
       "<class 'statsmodels.iolib.summary.Summary'>\n",
       "\"\"\"\n",
       "                            OLS Regression Results                            \n",
       "==============================================================================\n",
       "Dep. Variable:              gdp_ratio   R-squared:                       0.381\n",
       "Model:                            OLS   Adj. R-squared:                  0.379\n",
       "Method:                 Least Squares   F-statistic:                     155.8\n",
       "Date:                Mon, 28 Aug 2017   Prob (F-statistic):           1.93e-53\n",
       "Time:                        16:58:55   Log-Likelihood:                 459.47\n",
       "No. Observations:                 509   AIC:                            -912.9\n",
       "Df Residuals:                     506   BIC:                            -900.3\n",
       "Df Model:                           2                                         \n",
       "Covariance Type:            nonrobust                                         \n",
       "==========================================================================================\n",
       "                             coef    std err          t      P>|t|      [0.025      0.975]\n",
       "------------------------------------------------------------------------------------------\n",
       "Intercept                 -0.4240      0.041    -10.236      0.000      -0.505      -0.343\n",
       "democracy_ratio            0.2267      0.026      8.695      0.000       0.175       0.278\n",
       "economic_freedom_ratio     0.4776      0.061      7.883      0.000       0.359       0.597\n",
       "==============================================================================\n",
       "Omnibus:                      207.274   Durbin-Watson:                   2.047\n",
       "Prob(Omnibus):                  0.000   Jarque-Bera (JB):              837.816\n",
       "Skew:                           1.841   Prob(JB):                    1.18e-182\n",
       "Kurtosis:                       8.094   Cond. No.                         23.9\n",
       "==============================================================================\n",
       "\n",
       "Warnings:\n",
       "[1] Standard Errors assume that the covariance matrix of the errors is correctly specified.\n",
       "\"\"\""
      ]
     },
     "execution_count": 110,
     "metadata": {},
     "output_type": "execute_result"
    }
   ],
   "source": [
    "lm1.summary()"
   ]
  },
  {
   "cell_type": "code",
   "execution_count": 111,
   "metadata": {},
   "outputs": [
    {
     "data": {
      "text/html": [
       "<table class=\"simpletable\">\n",
       "<tr>\n",
       "        <td>Model:</td>               <td>OLS</td>         <td>Adj. R-squared:</td>     <td>0.379</td>  \n",
       "</tr>\n",
       "<tr>\n",
       "  <td>Dependent Variable:</td>     <td>gdp_ratio</td>           <td>AIC:</td>         <td>-912.9488</td>\n",
       "</tr>\n",
       "<tr>\n",
       "         <td>Date:</td>        <td>2017-08-28 16:58</td>        <td>BIC:</td>         <td>-900.2515</td>\n",
       "</tr>\n",
       "<tr>\n",
       "   <td>No. Observations:</td>         <td>509</td>         <td>Log-Likelihood:</td>    <td>459.47</td>  \n",
       "</tr>\n",
       "<tr>\n",
       "       <td>Df Model:</td>              <td>2</td>           <td>F-statistic:</td>       <td>155.8</td>  \n",
       "</tr>\n",
       "<tr>\n",
       "     <td>Df Residuals:</td>           <td>506</td>       <td>Prob (F-statistic):</td> <td>1.93e-53</td> \n",
       "</tr>\n",
       "<tr>\n",
       "      <td>R-squared:</td>            <td>0.381</td>            <td>Scale:</td>        <td>0.0096832</td>\n",
       "</tr>\n",
       "</table>\n",
       "<table class=\"simpletable\">\n",
       "<tr>\n",
       "             <td></td>             <th>Coef.</th>  <th>Std.Err.</th>     <th>t</th>     <th>P>|t|</th> <th>[0.025</th>  <th>0.975]</th> \n",
       "</tr>\n",
       "<tr>\n",
       "  <th>Intercept</th>              <td>-0.4240</td>  <td>0.0414</td>  <td>-10.2359</td> <td>0.0000</td> <td>-0.5054</td> <td>-0.3426</td>\n",
       "</tr>\n",
       "<tr>\n",
       "  <th>democracy_ratio</th>        <td>0.2267</td>   <td>0.0261</td>   <td>8.6946</td>  <td>0.0000</td> <td>0.1755</td>  <td>0.2779</td> \n",
       "</tr>\n",
       "<tr>\n",
       "  <th>economic_freedom_ratio</th> <td>0.4776</td>   <td>0.0606</td>   <td>7.8828</td>  <td>0.0000</td> <td>0.3586</td>  <td>0.5967</td> \n",
       "</tr>\n",
       "</table>\n",
       "<table class=\"simpletable\">\n",
       "<tr>\n",
       "     <td>Omnibus:</td>    <td>207.274</td>  <td>Durbin-Watson:</td>    <td>2.047</td> \n",
       "</tr>\n",
       "<tr>\n",
       "  <td>Prob(Omnibus):</td>  <td>0.000</td>  <td>Jarque-Bera (JB):</td> <td>837.816</td>\n",
       "</tr>\n",
       "<tr>\n",
       "       <td>Skew:</td>      <td>1.841</td>      <td>Prob(JB):</td>      <td>0.000</td> \n",
       "</tr>\n",
       "<tr>\n",
       "     <td>Kurtosis:</td>    <td>8.094</td>   <td>Condition No.:</td>     <td>24</td>   \n",
       "</tr>\n",
       "</table>"
      ],
      "text/plain": [
       "<class 'statsmodels.iolib.summary2.Summary'>\n",
       "\"\"\"\n",
       "                    Results: Ordinary least squares\n",
       "=======================================================================\n",
       "Model:                 OLS               Adj. R-squared:      0.379    \n",
       "Dependent Variable:    gdp_ratio         AIC:                 -912.9488\n",
       "Date:                  2017-08-28 16:58  BIC:                 -900.2515\n",
       "No. Observations:      509               Log-Likelihood:      459.47   \n",
       "Df Model:              2                 F-statistic:         155.8    \n",
       "Df Residuals:          506               Prob (F-statistic):  1.93e-53 \n",
       "R-squared:             0.381             Scale:               0.0096832\n",
       "-----------------------------------------------------------------------\n",
       "                        Coef.  Std.Err.    t     P>|t|   [0.025  0.975]\n",
       "-----------------------------------------------------------------------\n",
       "Intercept              -0.4240   0.0414 -10.2359 0.0000 -0.5054 -0.3426\n",
       "democracy_ratio         0.2267   0.0261   8.6946 0.0000  0.1755  0.2779\n",
       "economic_freedom_ratio  0.4776   0.0606   7.8828 0.0000  0.3586  0.5967\n",
       "-----------------------------------------------------------------------\n",
       "Omnibus:                207.274        Durbin-Watson:           2.047  \n",
       "Prob(Omnibus):          0.000          Jarque-Bera (JB):        837.816\n",
       "Skew:                   1.841          Prob(JB):                0.000  \n",
       "Kurtosis:               8.094          Condition No.:           24     \n",
       "=======================================================================\n",
       "\n",
       "\"\"\""
      ]
     },
     "execution_count": 111,
     "metadata": {},
     "output_type": "execute_result"
    }
   ],
   "source": [
    "lm1.summary2()"
   ]
  },
  {
   "cell_type": "markdown",
   "metadata": {},
   "source": [
    "### gdp &rarr; freedoms mean"
   ]
  },
  {
   "cell_type": "code",
   "execution_count": 112,
   "metadata": {
    "collapsed": true
   },
   "outputs": [],
   "source": [
    "lm2 = smf.ols(formula='gdp_ratio ~ freedoms_mean', data=ds_wo_na).fit()"
   ]
  },
  {
   "cell_type": "code",
   "execution_count": 113,
   "metadata": {},
   "outputs": [
    {
     "data": {
      "text/html": [
       "<table class=\"simpletable\">\n",
       "<caption>OLS Regression Results</caption>\n",
       "<tr>\n",
       "  <th>Dep. Variable:</th>        <td>gdp_ratio</td>    <th>  R-squared:         </th> <td>   0.284</td>\n",
       "</tr>\n",
       "<tr>\n",
       "  <th>Model:</th>                   <td>OLS</td>       <th>  Adj. R-squared:    </th> <td>   0.282</td>\n",
       "</tr>\n",
       "<tr>\n",
       "  <th>Method:</th>             <td>Least Squares</td>  <th>  F-statistic:       </th> <td>   200.8</td>\n",
       "</tr>\n",
       "<tr>\n",
       "  <th>Date:</th>             <td>Mon, 28 Aug 2017</td> <th>  Prob (F-statistic):</th> <td>1.21e-38</td>\n",
       "</tr>\n",
       "<tr>\n",
       "  <th>Time:</th>                 <td>16:58:56</td>     <th>  Log-Likelihood:    </th> <td>  422.30</td>\n",
       "</tr>\n",
       "<tr>\n",
       "  <th>No. Observations:</th>      <td>   509</td>      <th>  AIC:               </th> <td>  -840.6</td>\n",
       "</tr>\n",
       "<tr>\n",
       "  <th>Df Residuals:</th>          <td>   507</td>      <th>  BIC:               </th> <td>  -832.1</td>\n",
       "</tr>\n",
       "<tr>\n",
       "  <th>Df Model:</th>              <td>     1</td>      <th>                     </th>     <td> </td>   \n",
       "</tr>\n",
       "<tr>\n",
       "  <th>Covariance Type:</th>      <td>nonrobust</td>    <th>                     </th>     <td> </td>   \n",
       "</tr>\n",
       "</table>\n",
       "<table class=\"simpletable\">\n",
       "<tr>\n",
       "        <td></td>           <th>coef</th>     <th>std err</th>      <th>t</th>      <th>P>|t|</th>  <th>[0.025</th>    <th>0.975]</th>  \n",
       "</tr>\n",
       "<tr>\n",
       "  <th>Intercept</th>     <td>   -0.1885</td> <td>    0.020</td> <td>   -9.334</td> <td> 0.000</td> <td>   -0.228</td> <td>   -0.149</td>\n",
       "</tr>\n",
       "<tr>\n",
       "  <th>freedoms_mean</th> <td>    0.4164</td> <td>    0.029</td> <td>   14.172</td> <td> 0.000</td> <td>    0.359</td> <td>    0.474</td>\n",
       "</tr>\n",
       "</table>\n",
       "<table class=\"simpletable\">\n",
       "<tr>\n",
       "  <th>Omnibus:</th>       <td>229.015</td> <th>  Durbin-Watson:     </th> <td>   1.985</td> \n",
       "</tr>\n",
       "<tr>\n",
       "  <th>Prob(Omnibus):</th> <td> 0.000</td>  <th>  Jarque-Bera (JB):  </th> <td> 989.276</td> \n",
       "</tr>\n",
       "<tr>\n",
       "  <th>Skew:</th>          <td> 2.040</td>  <th>  Prob(JB):          </th> <td>1.52e-215</td>\n",
       "</tr>\n",
       "<tr>\n",
       "  <th>Kurtosis:</th>      <td> 8.477</td>  <th>  Cond. No.          </th> <td>    9.12</td> \n",
       "</tr>\n",
       "</table>"
      ],
      "text/plain": [
       "<class 'statsmodels.iolib.summary.Summary'>\n",
       "\"\"\"\n",
       "                            OLS Regression Results                            \n",
       "==============================================================================\n",
       "Dep. Variable:              gdp_ratio   R-squared:                       0.284\n",
       "Model:                            OLS   Adj. R-squared:                  0.282\n",
       "Method:                 Least Squares   F-statistic:                     200.8\n",
       "Date:                Mon, 28 Aug 2017   Prob (F-statistic):           1.21e-38\n",
       "Time:                        16:58:56   Log-Likelihood:                 422.30\n",
       "No. Observations:                 509   AIC:                            -840.6\n",
       "Df Residuals:                     507   BIC:                            -832.1\n",
       "Df Model:                           1                                         \n",
       "Covariance Type:            nonrobust                                         \n",
       "=================================================================================\n",
       "                    coef    std err          t      P>|t|      [0.025      0.975]\n",
       "---------------------------------------------------------------------------------\n",
       "Intercept        -0.1885      0.020     -9.334      0.000      -0.228      -0.149\n",
       "freedoms_mean     0.4164      0.029     14.172      0.000       0.359       0.474\n",
       "==============================================================================\n",
       "Omnibus:                      229.015   Durbin-Watson:                   1.985\n",
       "Prob(Omnibus):                  0.000   Jarque-Bera (JB):              989.276\n",
       "Skew:                           2.040   Prob(JB):                    1.52e-215\n",
       "Kurtosis:                       8.477   Cond. No.                         9.12\n",
       "==============================================================================\n",
       "\n",
       "Warnings:\n",
       "[1] Standard Errors assume that the covariance matrix of the errors is correctly specified.\n",
       "\"\"\""
      ]
     },
     "execution_count": 113,
     "metadata": {},
     "output_type": "execute_result"
    }
   ],
   "source": [
    "lm2.summary()"
   ]
  },
  {
   "cell_type": "code",
   "execution_count": 114,
   "metadata": {},
   "outputs": [
    {
     "data": {
      "text/html": [
       "<table class=\"simpletable\">\n",
       "<tr>\n",
       "        <td>Model:</td>               <td>OLS</td>         <td>Adj. R-squared:</td>     <td>0.282</td>  \n",
       "</tr>\n",
       "<tr>\n",
       "  <td>Dependent Variable:</td>     <td>gdp_ratio</td>           <td>AIC:</td>         <td>-840.6024</td>\n",
       "</tr>\n",
       "<tr>\n",
       "         <td>Date:</td>        <td>2017-08-28 16:58</td>        <td>BIC:</td>         <td>-832.1375</td>\n",
       "</tr>\n",
       "<tr>\n",
       "   <td>No. Observations:</td>         <td>509</td>         <td>Log-Likelihood:</td>    <td>422.30</td>  \n",
       "</tr>\n",
       "<tr>\n",
       "       <td>Df Model:</td>              <td>1</td>           <td>F-statistic:</td>       <td>200.8</td>  \n",
       "</tr>\n",
       "<tr>\n",
       "     <td>Df Residuals:</td>           <td>507</td>       <td>Prob (F-statistic):</td> <td>1.21e-38</td> \n",
       "</tr>\n",
       "<tr>\n",
       "      <td>R-squared:</td>            <td>0.284</td>            <td>Scale:</td>        <td>0.011184</td> \n",
       "</tr>\n",
       "</table>\n",
       "<table class=\"simpletable\">\n",
       "<tr>\n",
       "        <td></td>         <th>Coef.</th>  <th>Std.Err.</th>    <th>t</th>     <th>P>|t|</th> <th>[0.025</th>  <th>0.975]</th> \n",
       "</tr>\n",
       "<tr>\n",
       "  <th>Intercept</th>     <td>-0.1885</td>  <td>0.0202</td>  <td>-9.3340</td> <td>0.0000</td> <td>-0.2281</td> <td>-0.1488</td>\n",
       "</tr>\n",
       "<tr>\n",
       "  <th>freedoms_mean</th> <td>0.4164</td>   <td>0.0294</td>  <td>14.1716</td> <td>0.0000</td> <td>0.3587</td>  <td>0.4741</td> \n",
       "</tr>\n",
       "</table>\n",
       "<table class=\"simpletable\">\n",
       "<tr>\n",
       "     <td>Omnibus:</td>    <td>229.015</td>  <td>Durbin-Watson:</td>    <td>1.985</td> \n",
       "</tr>\n",
       "<tr>\n",
       "  <td>Prob(Omnibus):</td>  <td>0.000</td>  <td>Jarque-Bera (JB):</td> <td>989.276</td>\n",
       "</tr>\n",
       "<tr>\n",
       "       <td>Skew:</td>      <td>2.040</td>      <td>Prob(JB):</td>      <td>0.000</td> \n",
       "</tr>\n",
       "<tr>\n",
       "     <td>Kurtosis:</td>    <td>8.477</td>   <td>Condition No.:</td>      <td>9</td>   \n",
       "</tr>\n",
       "</table>"
      ],
      "text/plain": [
       "<class 'statsmodels.iolib.summary2.Summary'>\n",
       "\"\"\"\n",
       "                  Results: Ordinary least squares\n",
       "==================================================================\n",
       "Model:              OLS              Adj. R-squared:     0.282    \n",
       "Dependent Variable: gdp_ratio        AIC:                -840.6024\n",
       "Date:               2017-08-28 16:58 BIC:                -832.1375\n",
       "No. Observations:   509              Log-Likelihood:     422.30   \n",
       "Df Model:           1                F-statistic:        200.8    \n",
       "Df Residuals:       507              Prob (F-statistic): 1.21e-38 \n",
       "R-squared:          0.284            Scale:              0.011184 \n",
       "-------------------------------------------------------------------\n",
       "                Coef.   Std.Err.     t     P>|t|    [0.025   0.975]\n",
       "-------------------------------------------------------------------\n",
       "Intercept      -0.1885    0.0202  -9.3340  0.0000  -0.2281  -0.1488\n",
       "freedoms_mean   0.4164    0.0294  14.1716  0.0000   0.3587   0.4741\n",
       "------------------------------------------------------------------\n",
       "Omnibus:             229.015       Durbin-Watson:          1.985  \n",
       "Prob(Omnibus):       0.000         Jarque-Bera (JB):       989.276\n",
       "Skew:                2.040         Prob(JB):               0.000  \n",
       "Kurtosis:            8.477         Condition No.:          9      \n",
       "==================================================================\n",
       "\n",
       "\"\"\""
      ]
     },
     "execution_count": 114,
     "metadata": {},
     "output_type": "execute_result"
    }
   ],
   "source": [
    "lm2.summary2()"
   ]
  },
  {
   "cell_type": "code",
   "execution_count": 115,
   "metadata": {},
   "outputs": [
    {
     "data": {
      "text/plain": [
       "Intercept        3.185263e-19\n",
       "freedoms_mean    1.209310e-38\n",
       "dtype: float64"
      ]
     },
     "execution_count": 115,
     "metadata": {},
     "output_type": "execute_result"
    }
   ],
   "source": [
    "lm2.pvalues"
   ]
  },
  {
   "cell_type": "code",
   "execution_count": 116,
   "metadata": {
    "collapsed": true
   },
   "outputs": [],
   "source": [
    "#\n",
    "# Which countries ended up in the list?\n",
    "#\n",
    "examined_countries = ds_wo_na['Country Name'].unique()\n",
    "non_examined_countries = [x for x in ds[\"Country Name\"].unique() if x not in examined_countries]"
   ]
  },
  {
   "cell_type": "code",
   "execution_count": 117,
   "metadata": {
    "collapsed": true,
    "scrolled": true
   },
   "outputs": [],
   "source": [
    "which_countries_1 = pd.DataFrame({\"country\": examined_countries})\n",
    "which_countries_1[\"included\"] = \"yes\"\n",
    "\n",
    "which_countries_2 = pd.DataFrame({\"country\": non_examined_countries})\n",
    "which_countries_2[\"included\"] = \"no\"\n",
    "\n",
    "df_for_viz = which_countries_1.append(which_countries_2)\n",
    "\n",
    "# df_for_viz"
   ]
  },
  {
   "cell_type": "code",
   "execution_count": 118,
   "metadata": {
    "collapsed": true
   },
   "outputs": [],
   "source": [
    "df_for_viz.to_csv(\"countries_examined.csv\", index=False)"
   ]
  },
  {
   "attachments": {
    "included_countries.png": {
     "image/png": "[encoded data removed]"
    }
   },
   "cell_type": "markdown",
   "metadata": {},
   "source": [
    "In the map:\n",
    "\n",
    "\n",
    "![included_countries.png](attachment:included_countries.png)"
   ]
  },
  {
   "cell_type": "markdown",
   "metadata": {},
   "source": [
    "## Ridge and Lasso to see if results are different\n",
    "\n",
    "**Note**: Essentially import and application of concepts from lesson 7"
   ]
  },
  {
   "cell_type": "code",
   "execution_count": 119,
   "metadata": {
    "collapsed": true
   },
   "outputs": [],
   "source": [
    "from sklearn import linear_model, metrics"
   ]
  },
  {
   "cell_type": "code",
   "execution_count": 120,
   "metadata": {
    "collapsed": true
   },
   "outputs": [],
   "source": [
    "modeldata = ds_wo_na[['democracy_ratio', 'economic_freedom_ratio']]\n",
    "y = ds_wo_na.gdp_ratio"
   ]
  },
  {
   "cell_type": "code",
   "execution_count": 121,
   "metadata": {},
   "outputs": [
    {
     "name": "stdout",
     "output_type": "stream",
     "text": [
      "~~~ OLS ~~~\n",
      "OLS MSE:  0.00962609681617\n",
      "OLS R2: 0.381069544939\n",
      "~~~ Lasso ~~~\n",
      "Lasso MSE:  0.0155527923007\n",
      "Lasso R2: 0.0\n",
      "~~~ Ridge ~~~\n",
      "Ridge MSE:  0.00970052930703\n",
      "Ridge R2: 0.37628374896\n"
     ]
    }
   ],
   "source": [
    "lm = linear_model.LinearRegression().fit(modeldata, y)\n",
    "print \"~~~ OLS ~~~\"\n",
    "print 'OLS MSE: ', metrics.mean_squared_error(y, lm.predict(modeldata))\n",
    "print 'OLS R2:', lm.score(modeldata, y)\n",
    "\n",
    "lm = linear_model.Lasso().fit(modeldata, y)\n",
    "print \"~~~ Lasso ~~~\"\n",
    "print 'Lasso MSE: ', metrics.mean_squared_error(y, lm.predict(modeldata))\n",
    "print 'Lasso R2:', lm.score(modeldata, y)\n",
    "\n",
    "lm = linear_model.Ridge().fit(modeldata, y)\n",
    "print \"~~~ Ridge ~~~\"\n",
    "print 'Ridge MSE: ', metrics.mean_squared_error(y, lm.predict(modeldata))\n",
    "print 'Ridge R2:', lm.score(modeldata, y)"
   ]
  },
  {
   "cell_type": "code",
   "execution_count": 122,
   "metadata": {},
   "outputs": [],
   "source": [
    "#\n",
    "# Only model data needs to change\n",
    "#\n",
    "modeldata2 = ds_wo_na.freedoms_mean.values.reshape(-1, 1)"
   ]
  },
  {
   "cell_type": "code",
   "execution_count": 123,
   "metadata": {},
   "outputs": [
    {
     "name": "stdout",
     "output_type": "stream",
     "text": [
      "~~~ OLS ~~~\n",
      "OLS MSE:  0.0111399922173\n",
      "OLS R2: 0.283730406614\n",
      "~~~ Lasso ~~~\n",
      "Lasso MSE:  0.0155527923007\n",
      "Lasso R2: 0.0\n",
      "~~~ Ridge ~~~\n",
      "Ridge MSE:  0.0155527923007\n",
      "Ridge R2: 0.0\n"
     ]
    }
   ],
   "source": [
    "lm2 = linear_model.LinearRegression().fit(modeldata2, y)\n",
    "print \"~~~ OLS ~~~\"\n",
    "print 'OLS MSE: ', metrics.mean_squared_error(y, lm2.predict(modeldata2))\n",
    "print 'OLS R2:', lm2.score(modeldata2, y)\n",
    "\n",
    "lm2 = linear_model.Lasso().fit(modeldata2, y)\n",
    "print \"~~~ Lasso ~~~\"\n",
    "print 'Lasso MSE: ', metrics.mean_squared_error(y, lm2.predict(modeldata2))\n",
    "print 'Lasso R2:', lm2.score(modeldata2, y)\n",
    "\n",
    "lm = linear_model.Ridge().fit(modeldata2, y)\n",
    "print \"~~~ Ridge ~~~\"\n",
    "print 'Ridge MSE: ', metrics.mean_squared_error(y, lm2.predict(modeldata2))\n",
    "print 'Ridge R2:', lm2.score(modeldata2, y)"
   ]
  },
  {
   "cell_type": "markdown",
   "metadata": {},
   "source": [
    "### Some examples"
   ]
  },
  {
   "cell_type": "code",
   "execution_count": 124,
   "metadata": {
    "collapsed": true
   },
   "outputs": [],
   "source": [
    "lm = linear_model.LinearRegression().fit(modeldata, y)"
   ]
  },
  {
   "cell_type": "code",
   "execution_count": 125,
   "metadata": {
    "collapsed": true
   },
   "outputs": [],
   "source": [
    "def abs_actual_pct(a, b):\n",
    "    return abs(((a - b) * 100) / b)"
   ]
  },
  {
   "cell_type": "code",
   "execution_count": 126,
   "metadata": {},
   "outputs": [
    {
     "name": "stdout",
     "output_type": "stream",
     "text": [
      "34198.6624441\n",
      "-0.170749026868\n",
      "17.0749026868\n"
     ]
    },
    {
     "name": "stderr",
     "output_type": "stream",
     "text": [
      "/home/archon/anaconda2/lib/python2.7/site-packages/sklearn/utils/validation.py:395: DeprecationWarning: Passing 1d arrays as data is deprecated in 0.17 and will raise ValueError in 0.19. Reshape your data either using X.reshape(-1, 1) if your data has a single feature or X.reshape(1, -1) if it contains a single sample.\n",
      "  DeprecationWarning)\n"
     ]
    }
   ],
   "source": [
    "# UK 41240.4248559\n",
    "fr = 7.81 / max_freedom\n",
    "de = 8.16 / max_democracy\n",
    "\n",
    "pred = lm.predict([de, fr]) * max_gdp\n",
    "\n",
    "print(pred[0])\n",
    "print((pred[0] - 41240.4248559) / 41240.4248559)\n",
    "print(abs_actual_pct(pred[0], 41240.4248559))\n"
   ]
  },
  {
   "cell_type": "code",
   "execution_count": 127,
   "metadata": {},
   "outputs": [
    {
     "name": "stdout",
     "output_type": "stream",
     "text": [
      "-241.51087435\n",
      "-1.00982734135\n"
     ]
    },
    {
     "name": "stderr",
     "output_type": "stream",
     "text": [
      "/home/archon/anaconda2/lib/python2.7/site-packages/sklearn/utils/validation.py:395: DeprecationWarning: Passing 1d arrays as data is deprecated in 0.17 and will raise ValueError in 0.19. Reshape your data either using X.reshape(-1, 1) if your data has a single feature or X.reshape(1, -1) if it contains a single sample.\n",
      "  DeprecationWarning)\n"
     ]
    }
   ],
   "source": [
    "# Saudi Arabia 24575.4030374\n",
    "fr = 6.95 / max_freedom\n",
    "de = 1.82 / max_democracy\n",
    "\n",
    "pred = lm.predict([de, fr]) * max_gdp\n",
    "\n",
    "print(pred[0])\n",
    "print((pred[0] - 24575.4030374) / 24575.4030374)"
   ]
  },
  {
   "cell_type": "code",
   "execution_count": 128,
   "metadata": {},
   "outputs": [
    {
     "name": "stdout",
     "output_type": "stream",
     "text": [
      "34329.2983668\n",
      "-0.390633799262\n"
     ]
    },
    {
     "name": "stderr",
     "output_type": "stream",
     "text": [
      "/home/archon/anaconda2/lib/python2.7/site-packages/sklearn/utils/validation.py:395: DeprecationWarning: Passing 1d arrays as data is deprecated in 0.17 and will raise ValueError in 0.19. Reshape your data either using X.reshape(-1, 1) if your data has a single feature or X.reshape(1, -1) if it contains a single sample.\n",
      "  DeprecationWarning)\n"
     ]
    }
   ],
   "source": [
    "# Singapoore 56336.0723408\n",
    "fr = 8.71 / max_freedom\n",
    "de = 6.03 / max_democracy\n",
    "\n",
    "pred = lm.predict([de, fr]) * max_gdp\n",
    "\n",
    "print(pred[0])\n",
    "print((pred[0] - 56336.0723408) / 56336.0723408)"
   ]
  }
 ],
 "metadata": {
  "kernelspec": {
   "display_name": "Python 2",
   "language": "python",
   "name": "python2"
  },
  "language_info": {
   "codemirror_mode": {
    "name": "ipython",
    "version": 2
   },
   "file_extension": ".py",
   "mimetype": "text/x-python",
   "name": "python",
   "nbconvert_exporter": "python",
   "pygments_lexer": "ipython2",
   "version": "2.7.13"
  }
 },
 "nbformat": 4,
 "nbformat_minor": 2
}
