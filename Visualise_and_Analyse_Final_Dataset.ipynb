{
 "cells": [
  {
   "cell_type": "markdown",
   "metadata": {},
   "source": [
    "# Visualise and Analyse Final Dataset"
   ]
  },
  {
   "cell_type": "code",
   "execution_count": 1,
   "metadata": {
    "collapsed": true
   },
   "outputs": [],
   "source": [
    "%matplotlib inline"
   ]
  },
  {
   "cell_type": "code",
   "execution_count": 2,
   "metadata": {
    "collapsed": true
   },
   "outputs": [],
   "source": [
    "import pandas as pd\n",
    "import matplotlib.pyplot as plt\n",
    "import seaborn as sns\n",
    "import numpy as np\n",
    "from scipy.stats import mode\n",
    "\n",
    "import statsmodels.formula.api as smf"
   ]
  },
  {
   "cell_type": "markdown",
   "metadata": {},
   "source": [
    "The lastest year with most data available is **2014**. Whenever a year is to be chosen, analysis will be conducted for  this year. Will use a range if it is necessary to generalise, acquire more results, this is another reason that a variable is used instead of hard coding."
   ]
  },
  {
   "cell_type": "code",
   "execution_count": 3,
   "metadata": {
    "collapsed": true
   },
   "outputs": [],
   "source": [
    "magic_year = 2014"
   ]
  },
  {
   "cell_type": "code",
   "execution_count": 4,
   "metadata": {},
   "outputs": [
    {
     "data": {
      "text/html": [
       "<div>\n",
       "<style>\n",
       "    .dataframe thead tr:only-child th {\n",
       "        text-align: right;\n",
       "    }\n",
       "\n",
       "    .dataframe thead th {\n",
       "        text-align: left;\n",
       "    }\n",
       "\n",
       "    .dataframe tbody tr th {\n",
       "        vertical-align: top;\n",
       "    }\n",
       "</style>\n",
       "<table border=\"1\" class=\"dataframe\">\n",
       "  <thead>\n",
       "    <tr style=\"text-align: right;\">\n",
       "      <th></th>\n",
       "      <th>Country Name</th>\n",
       "      <th>Country Code</th>\n",
       "      <th>Year</th>\n",
       "      <th>GDP</th>\n",
       "      <th>Economic Freedom Index</th>\n",
       "      <th>Democracy Score</th>\n",
       "    </tr>\n",
       "  </thead>\n",
       "  <tbody>\n",
       "    <tr>\n",
       "      <th>0</th>\n",
       "      <td>Aruba</td>\n",
       "      <td>ABW</td>\n",
       "      <td>2011</td>\n",
       "      <td>25324.720363</td>\n",
       "      <td>NaN</td>\n",
       "      <td>NaN</td>\n",
       "    </tr>\n",
       "    <tr>\n",
       "      <th>1</th>\n",
       "      <td>Afghanistan</td>\n",
       "      <td>AFG</td>\n",
       "      <td>2011</td>\n",
       "      <td>603.537023</td>\n",
       "      <td>NaN</td>\n",
       "      <td>2.48</td>\n",
       "    </tr>\n",
       "    <tr>\n",
       "      <th>2</th>\n",
       "      <td>Angola</td>\n",
       "      <td>AGO</td>\n",
       "      <td>2011</td>\n",
       "      <td>4299.012889</td>\n",
       "      <td>5.13</td>\n",
       "      <td>3.32</td>\n",
       "    </tr>\n",
       "    <tr>\n",
       "      <th>3</th>\n",
       "      <td>Albania</td>\n",
       "      <td>ALB</td>\n",
       "      <td>2011</td>\n",
       "      <td>4437.178068</td>\n",
       "      <td>7.25</td>\n",
       "      <td>5.81</td>\n",
       "    </tr>\n",
       "    <tr>\n",
       "      <th>4</th>\n",
       "      <td>Andorra</td>\n",
       "      <td>AND</td>\n",
       "      <td>2011</td>\n",
       "      <td>40919.183279</td>\n",
       "      <td>NaN</td>\n",
       "      <td>NaN</td>\n",
       "    </tr>\n",
       "  </tbody>\n",
       "</table>\n",
       "</div>"
      ],
      "text/plain": [
       "  Country Name Country Code  Year           GDP  Economic Freedom Index  \\\n",
       "0        Aruba          ABW  2011  25324.720363                     NaN   \n",
       "1  Afghanistan          AFG  2011    603.537023                     NaN   \n",
       "2       Angola          AGO  2011   4299.012889                    5.13   \n",
       "3      Albania          ALB  2011   4437.178068                    7.25   \n",
       "4      Andorra          AND  2011  40919.183279                     NaN   \n",
       "\n",
       "   Democracy Score  \n",
       "0              NaN  \n",
       "1             2.48  \n",
       "2             3.32  \n",
       "3             5.81  \n",
       "4              NaN  "
      ]
     },
     "execution_count": 4,
     "metadata": {},
     "output_type": "execute_result"
    }
   ],
   "source": [
    "ds = pd.read_csv(\"project_data.csv\")\n",
    "\n",
    "ds.head()"
   ]
  },
  {
   "cell_type": "code",
   "execution_count": 5,
   "metadata": {},
   "outputs": [
    {
     "data": {
      "text/html": [
       "<div>\n",
       "<style>\n",
       "    .dataframe thead tr:only-child th {\n",
       "        text-align: right;\n",
       "    }\n",
       "\n",
       "    .dataframe thead th {\n",
       "        text-align: left;\n",
       "    }\n",
       "\n",
       "    .dataframe tbody tr th {\n",
       "        vertical-align: top;\n",
       "    }\n",
       "</style>\n",
       "<table border=\"1\" class=\"dataframe\">\n",
       "  <thead>\n",
       "    <tr style=\"text-align: right;\">\n",
       "      <th></th>\n",
       "      <th>Country Name</th>\n",
       "      <th>Country Code</th>\n",
       "      <th>Year</th>\n",
       "      <th>GDP</th>\n",
       "      <th>Economic Freedom Index</th>\n",
       "      <th>Democracy Score</th>\n",
       "    </tr>\n",
       "  </thead>\n",
       "  <tbody>\n",
       "  </tbody>\n",
       "</table>\n",
       "</div>"
      ],
      "text/plain": [
       "Empty DataFrame\n",
       "Columns: [Country Name, Country Code, Year, GDP, Economic Freedom Index, Democracy Score]\n",
       "Index: []"
      ]
     },
     "execution_count": 5,
     "metadata": {},
     "output_type": "execute_result"
    }
   ],
   "source": [
    "ds[ds['Country Name'] == 'OECD members']"
   ]
  },
  {
   "cell_type": "code",
   "execution_count": 6,
   "metadata": {},
   "outputs": [
    {
     "data": {
      "text/plain": [
       "Index([u'Country Name', u'Country Code', u'Year', u'GDP',\n",
       "       u'Economic Freedom Index', u'Democracy Score'],\n",
       "      dtype='object')"
      ]
     },
     "execution_count": 6,
     "metadata": {},
     "output_type": "execute_result"
    }
   ],
   "source": [
    "ds.columns"
   ]
  },
  {
   "cell_type": "markdown",
   "metadata": {},
   "source": [
    "Decided not to include 2015 and 2016"
   ]
  },
  {
   "cell_type": "code",
   "execution_count": 7,
   "metadata": {},
   "outputs": [
    {
     "name": "stdout",
     "output_type": "stream",
     "text": [
      "1392\n",
      "928\n"
     ]
    }
   ],
   "source": [
    "print(len(ds))\n",
    "ds = ds[ds.Year < 2015]\n",
    "print(len(ds))"
   ]
  },
  {
   "cell_type": "markdown",
   "metadata": {},
   "source": [
    "## Visualise and Describe Democracy, GDP, and a Financial Liberties values for a single year"
   ]
  },
  {
   "cell_type": "markdown",
   "metadata": {},
   "source": [
    "### GDP"
   ]
  },
  {
   "cell_type": "code",
   "execution_count": 8,
   "metadata": {},
   "outputs": [
    {
     "data": {
      "image/png": "[encoded data removed]",
      "text/plain": [
       "<matplotlib.figure.Figure at 0x7f65bb8c80d0>"
      ]
     },
     "metadata": {},
     "output_type": "display_data"
    }
   ],
   "source": [
    "gdp_data = ds[ds['Year'] == magic_year]['GDP'].dropna()\n",
    "\n",
    "# gdp_data\n",
    "\n",
    "plt.figure()\n",
    "plt.boxplot([gdp_data / 1000], 0, 'gD', 0, labels=[\"GDP pca\"])\n",
    "plt.title(\"GDP per capita in $1,000 for %s\" % magic_year)\n",
    "plt.show()"
   ]
  },
  {
   "cell_type": "code",
   "execution_count": 9,
   "metadata": {},
   "outputs": [
    {
     "data": {
      "text/plain": [
       "count       210.000000\n",
       "mean      15603.330164\n",
       "std       23682.648418\n",
       "min         312.748979\n",
       "25%        2011.630303\n",
       "50%        6350.454330\n",
       "75%       16360.190030\n",
       "max      179478.584828\n",
       "Name: GDP, dtype: float64"
      ]
     },
     "execution_count": 9,
     "metadata": {},
     "output_type": "execute_result"
    }
   ],
   "source": [
    "gdp_data.describe()"
   ]
  },
  {
   "cell_type": "code",
   "execution_count": 10,
   "metadata": {},
   "outputs": [
    {
     "data": {
      "text/plain": [
       "560867836.0772458"
      ]
     },
     "execution_count": 10,
     "metadata": {},
     "output_type": "execute_result"
    }
   ],
   "source": [
    "gdp_data.var()"
   ]
  },
  {
   "cell_type": "code",
   "execution_count": 11,
   "metadata": {},
   "outputs": [
    {
     "data": {
      "text/plain": [
       "ModeResult(mode=array([0]), count=array([26]))"
      ]
     },
     "execution_count": 11,
     "metadata": {},
     "output_type": "execute_result"
    }
   ],
   "source": [
    "kgdp = map(int, gdp_data / 1000)\n",
    "# print(kgdp)\n",
    "mode(kgdp)"
   ]
  },
  {
   "cell_type": "code",
   "execution_count": 12,
   "metadata": {},
   "outputs": [
    {
     "data": {
      "text/plain": [
       "<matplotlib.axes._subplots.AxesSubplot at 0x7f65bb8e7550>"
      ]
     },
     "execution_count": 12,
     "metadata": {},
     "output_type": "execute_result"
    },
    {
     "data": {
      "image/png": "[encoded data removed]",
      "text/plain": [
       "<matplotlib.figure.Figure at 0x7f65bb928350>"
      ]
     },
     "metadata": {},
     "output_type": "display_data"
    }
   ],
   "source": [
    "sns.stripplot(data=(gdp_data.values / 1000), jitter=True, color=\"g\")"
   ]
  },
  {
   "cell_type": "markdown",
   "metadata": {},
   "source": [
    "### Economic Freedom"
   ]
  },
  {
   "cell_type": "code",
   "execution_count": 13,
   "metadata": {},
   "outputs": [
    {
     "data": {
      "image/png": "[encoded data removed]",
      "text/plain": [
       "<matplotlib.figure.Figure at 0x7f65b847eed0>"
      ]
     },
     "metadata": {},
     "output_type": "display_data"
    }
   ],
   "source": [
    "economic_freedom = ds[ds['Year'] == magic_year]['Economic Freedom Index'].dropna()\n",
    "\n",
    "# econ_freedom_data\n",
    "\n",
    "plt.figure()\n",
    "plt.boxplot([economic_freedom], 0, 'cD', 0, labels=[\"Economic Freedom\"])\n",
    "plt.title(\"Economic Freedom Index for %s\" % magic_year)\n",
    "plt.show()"
   ]
  },
  {
   "cell_type": "code",
   "execution_count": 14,
   "metadata": {},
   "outputs": [
    {
     "data": {
      "text/plain": [
       "<matplotlib.axes._subplots.AxesSubplot at 0x7f65b83ebfd0>"
      ]
     },
     "execution_count": 14,
     "metadata": {},
     "output_type": "execute_result"
    },
    {
     "data": {
      "image/png": "[encoded data removed]",
      "text/plain": [
       "<matplotlib.figure.Figure at 0x7f65cb8c1f90>"
      ]
     },
     "metadata": {},
     "output_type": "display_data"
    }
   ],
   "source": [
    "sns.stripplot(data=economic_freedom.values, jitter=True, color=\"c\", marker=\"d\")"
   ]
  },
  {
   "cell_type": "code",
   "execution_count": 15,
   "metadata": {},
   "outputs": [
    {
     "data": {
      "text/plain": [
       "count    137.000000\n",
       "mean       6.889343\n",
       "std        0.783723\n",
       "min        4.580000\n",
       "25%        6.420000\n",
       "50%        7.040000\n",
       "75%        7.420000\n",
       "max        8.710000\n",
       "Name: Economic Freedom Index, dtype: float64"
      ]
     },
     "execution_count": 15,
     "metadata": {},
     "output_type": "execute_result"
    }
   ],
   "source": [
    "economic_freedom.describe()"
   ]
  },
  {
   "cell_type": "code",
   "execution_count": 16,
   "metadata": {},
   "outputs": [
    {
     "data": {
      "text/plain": [
       "0.6142223593817091"
      ]
     },
     "execution_count": 16,
     "metadata": {},
     "output_type": "execute_result"
    }
   ],
   "source": [
    "economic_freedom.var()"
   ]
  },
  {
   "cell_type": "code",
   "execution_count": 17,
   "metadata": {},
   "outputs": [
    {
     "data": {
      "text/plain": [
       "ModeResult(mode=array([7]), count=array([69]))"
      ]
     },
     "execution_count": 17,
     "metadata": {},
     "output_type": "execute_result"
    }
   ],
   "source": [
    "economic_freedom_ints = map(int, economic_freedom)\n",
    "# print(economic_freedom_ints)\n",
    "mode(economic_freedom_ints)"
   ]
  },
  {
   "cell_type": "markdown",
   "metadata": {},
   "source": [
    "## Civil Freedom"
   ]
  },
  {
   "cell_type": "code",
   "execution_count": 18,
   "metadata": {},
   "outputs": [
    {
     "data": {
      "image/png": "[encoded data removed]",
      "text/plain": [
       "<matplotlib.figure.Figure at 0x7f65b83b8290>"
      ]
     },
     "metadata": {},
     "output_type": "display_data"
    }
   ],
   "source": [
    "civil_freedom = ds[ds['Year'] == magic_year]['Democracy Score'].dropna()\n",
    "\n",
    "# civil_freedom_data\n",
    "\n",
    "plt.figure()\n",
    "plt.boxplot([civil_freedom], 0, 'bD', 0, labels=[\"Democracy Score\"])\n",
    "plt.title(\"Freedom Index for %s\" % magic_year)\n",
    "plt.show()"
   ]
  },
  {
   "cell_type": "code",
   "execution_count": 19,
   "metadata": {},
   "outputs": [
    {
     "data": {
      "text/plain": [
       "<matplotlib.axes._subplots.AxesSubplot at 0x7f65b82f5b90>"
      ]
     },
     "execution_count": 19,
     "metadata": {},
     "output_type": "execute_result"
    },
    {
     "data": {
      "image/png": "[encoded data removed]",
      "text/plain": [
       "<matplotlib.figure.Figure at 0x7f65b83423d0>"
      ]
     },
     "metadata": {},
     "output_type": "display_data"
    }
   ],
   "source": [
    "sns.stripplot(data=civil_freedom.values, jitter=True, color=\"b\", marker=\"v\")"
   ]
  },
  {
   "cell_type": "code",
   "execution_count": 20,
   "metadata": {},
   "outputs": [
    {
     "data": {
      "text/plain": [
       "count    147.000000\n",
       "mean       5.719728\n",
       "std        2.113611\n",
       "min        1.490000\n",
       "25%        3.790000\n",
       "50%        5.840000\n",
       "75%        7.460000\n",
       "max        9.930000\n",
       "Name: Democracy Score, dtype: float64"
      ]
     },
     "execution_count": 20,
     "metadata": {},
     "output_type": "execute_result"
    }
   ],
   "source": [
    "civil_freedom.describe()"
   ]
  },
  {
   "cell_type": "code",
   "execution_count": 21,
   "metadata": {},
   "outputs": [
    {
     "data": {
      "text/plain": [
       "4.467350610381141"
      ]
     },
     "execution_count": 21,
     "metadata": {},
     "output_type": "execute_result"
    }
   ],
   "source": [
    "civil_freedom.var()"
   ]
  },
  {
   "cell_type": "code",
   "execution_count": 22,
   "metadata": {},
   "outputs": [
    {
     "data": {
      "text/plain": [
       "ModeResult(mode=array([6]), count=array([27]))"
      ]
     },
     "execution_count": 22,
     "metadata": {},
     "output_type": "execute_result"
    }
   ],
   "source": [
    "civil_freedom_ints = map(int, civil_freedom)\n",
    "# print(civil_freedom_ints)\n",
    "mode(civil_freedom_ints)"
   ]
  },
  {
   "cell_type": "markdown",
   "metadata": {},
   "source": [
    "## Visualise relationships"
   ]
  },
  {
   "cell_type": "code",
   "execution_count": 23,
   "metadata": {},
   "outputs": [
    {
     "name": "stderr",
     "output_type": "stream",
     "text": [
      "/home/archon/anaconda2/lib/python2.7/site-packages/ipykernel_launcher.py:4: SettingWithCopyWarning: \n",
      "A value is trying to be set on a copy of a slice from a DataFrame.\n",
      "Try using .loc[row_indexer,col_indexer] = value instead\n",
      "\n",
      "See the caveats in the documentation: http://pandas.pydata.org/pandas-docs/stable/indexing.html#indexing-view-versus-copy\n",
      "  after removing the cwd from sys.path.\n"
     ]
    },
    {
     "data": {
      "text/html": [
       "<div>\n",
       "<style>\n",
       "    .dataframe thead tr:only-child th {\n",
       "        text-align: right;\n",
       "    }\n",
       "\n",
       "    .dataframe thead th {\n",
       "        text-align: left;\n",
       "    }\n",
       "\n",
       "    .dataframe tbody tr th {\n",
       "        vertical-align: top;\n",
       "    }\n",
       "</style>\n",
       "<table border=\"1\" class=\"dataframe\">\n",
       "  <thead>\n",
       "    <tr style=\"text-align: right;\">\n",
       "      <th></th>\n",
       "      <th>Country Name</th>\n",
       "      <th>Country Code</th>\n",
       "      <th>Year</th>\n",
       "      <th>GDP</th>\n",
       "      <th>Economic Freedom Index</th>\n",
       "      <th>Democracy Score</th>\n",
       "    </tr>\n",
       "  </thead>\n",
       "  <tbody>\n",
       "    <tr>\n",
       "      <th>2</th>\n",
       "      <td>Angola</td>\n",
       "      <td>AGO</td>\n",
       "      <td>2011</td>\n",
       "      <td>4.299013</td>\n",
       "      <td>5.13</td>\n",
       "      <td>3.32</td>\n",
       "    </tr>\n",
       "    <tr>\n",
       "      <th>3</th>\n",
       "      <td>Albania</td>\n",
       "      <td>ALB</td>\n",
       "      <td>2011</td>\n",
       "      <td>4.437178</td>\n",
       "      <td>7.25</td>\n",
       "      <td>5.81</td>\n",
       "    </tr>\n",
       "    <tr>\n",
       "      <th>7</th>\n",
       "      <td>Argentina</td>\n",
       "      <td>ARG</td>\n",
       "      <td>2011</td>\n",
       "      <td>12.726908</td>\n",
       "      <td>5.67</td>\n",
       "      <td>6.84</td>\n",
       "    </tr>\n",
       "    <tr>\n",
       "      <th>8</th>\n",
       "      <td>Armenia</td>\n",
       "      <td>ARM</td>\n",
       "      <td>2011</td>\n",
       "      <td>3.526978</td>\n",
       "      <td>7.71</td>\n",
       "      <td>4.09</td>\n",
       "    </tr>\n",
       "    <tr>\n",
       "      <th>11</th>\n",
       "      <td>Australia</td>\n",
       "      <td>AUS</td>\n",
       "      <td>2011</td>\n",
       "      <td>62.245100</td>\n",
       "      <td>7.93</td>\n",
       "      <td>9.22</td>\n",
       "    </tr>\n",
       "  </tbody>\n",
       "</table>\n",
       "</div>"
      ],
      "text/plain": [
       "   Country Name Country Code  Year        GDP  Economic Freedom Index  \\\n",
       "2        Angola          AGO  2011   4.299013                    5.13   \n",
       "3       Albania          ALB  2011   4.437178                    7.25   \n",
       "7     Argentina          ARG  2011  12.726908                    5.67   \n",
       "8       Armenia          ARM  2011   3.526978                    7.71   \n",
       "11    Australia          AUS  2011  62.245100                    7.93   \n",
       "\n",
       "    Democracy Score  \n",
       "2              3.32  \n",
       "3              5.81  \n",
       "7              6.84  \n",
       "8              4.09  \n",
       "11             9.22  "
      ]
     },
     "execution_count": 23,
     "metadata": {},
     "output_type": "execute_result"
    }
   ],
   "source": [
    "df_viz1 = ds.dropna()\n",
    "\n",
    "# Per usual divide GDP w. 1000\n",
    "df_viz1['GDP'] = df_viz1['GDP'] / 1000\n",
    "\n",
    "df_viz1.head()"
   ]
  },
  {
   "cell_type": "code",
   "execution_count": 24,
   "metadata": {},
   "outputs": [
    {
     "name": "stderr",
     "output_type": "stream",
     "text": [
      "/home/archon/anaconda2/lib/python2.7/site-packages/ipykernel_launcher.py:1: SettingWithCopyWarning: \n",
      "A value is trying to be set on a copy of a slice from a DataFrame.\n",
      "Try using .loc[row_indexer,col_indexer] = value instead\n",
      "\n",
      "See the caveats in the documentation: http://pandas.pydata.org/pandas-docs/stable/indexing.html#indexing-view-versus-copy\n",
      "  \"\"\"Entry point for launching an IPython kernel.\n"
     ]
    },
    {
     "data": {
      "text/plain": [
       "<seaborn.axisgrid.FacetGrid at 0x7f65b8369910>"
      ]
     },
     "execution_count": 24,
     "metadata": {},
     "output_type": "execute_result"
    },
    {
     "data": {
      "image/png": "[encoded data removed]",
      "text/plain": [
       "<matplotlib.figure.Figure at 0x7f65b8397d10>"
      ]
     },
     "metadata": {},
     "output_type": "display_data"
    }
   ],
   "source": [
    "df_viz1['color'] = 'cyan'\n",
    "\n",
    "sns.lmplot('GDP', 'Economic Freedom Index', df_viz1, line_kws={'color': 'cyan'}, markers=[\"d\"],\n",
    "           hue=\"color\", palette=dict(cyan=\"cyan\"))"
   ]
  },
  {
   "cell_type": "code",
   "execution_count": 25,
   "metadata": {},
   "outputs": [
    {
     "name": "stderr",
     "output_type": "stream",
     "text": [
      "/home/archon/anaconda2/lib/python2.7/site-packages/ipykernel_launcher.py:1: SettingWithCopyWarning: \n",
      "A value is trying to be set on a copy of a slice from a DataFrame.\n",
      "Try using .loc[row_indexer,col_indexer] = value instead\n",
      "\n",
      "See the caveats in the documentation: http://pandas.pydata.org/pandas-docs/stable/indexing.html#indexing-view-versus-copy\n",
      "  \"\"\"Entry point for launching an IPython kernel.\n"
     ]
    },
    {
     "data": {
      "text/plain": [
       "<seaborn.axisgrid.FacetGrid at 0x7f65b827fd50>"
      ]
     },
     "execution_count": 25,
     "metadata": {},
     "output_type": "execute_result"
    },
    {
     "data": {
      "image/png": "[encoded data removed]",
      "text/plain": [
       "<matplotlib.figure.Figure at 0x7f65b84c5e50>"
      ]
     },
     "metadata": {},
     "output_type": "display_data"
    }
   ],
   "source": [
    "df_viz1['color'] = 'blue'\n",
    "\n",
    "sns.lmplot('GDP', 'Democracy Score', df_viz1,\n",
    "           line_kws={'color': 'blue'}, markers=[\"v\"],\n",
    "           hue=\"color\", palette=dict(blue=\"blue\"))"
   ]
  },
  {
   "cell_type": "code",
   "execution_count": 26,
   "metadata": {},
   "outputs": [
    {
     "data": {
      "text/plain": [
       "<seaborn.axisgrid.FacetGrid at 0x7f65b7dc1c10>"
      ]
     },
     "execution_count": 26,
     "metadata": {},
     "output_type": "execute_result"
    },
    {
     "data": {
      "image/png": "[encoded data removed]",
      "text/plain": [
       "<matplotlib.figure.Figure at 0x7f65b7e27e50>"
      ]
     },
     "metadata": {},
     "output_type": "display_data"
    }
   ],
   "source": [
    "sns.lmplot('Economic Freedom Index', 'Democracy Score', df_viz1)"
   ]
  },
  {
   "cell_type": "markdown",
   "metadata": {},
   "source": [
    "### Correlation Heatmap"
   ]
  },
  {
   "cell_type": "code",
   "execution_count": 27,
   "metadata": {},
   "outputs": [
    {
     "data": {
      "text/plain": [
       "<matplotlib.axes._subplots.AxesSubplot at 0x7f65b7d341d0>"
      ]
     },
     "execution_count": 27,
     "metadata": {},
     "output_type": "execute_result"
    },
    {
     "data": {
      "image/png": "[encoded data removed]",
      "text/plain": [
       "<matplotlib.figure.Figure at 0x7f65b8575210>"
      ]
     },
     "metadata": {},
     "output_type": "display_data"
    }
   ],
   "source": [
    "correlations = df_viz1[['GDP', 'Economic Freedom Index', 'Democracy Score']].corr()\n",
    "sns.heatmap(correlations)"
   ]
  },
  {
   "cell_type": "markdown",
   "metadata": {},
   "source": [
    "## Relationships summaries"
   ]
  },
  {
   "cell_type": "code",
   "execution_count": 28,
   "metadata": {},
   "outputs": [
    {
     "data": {
      "text/html": [
       "<table class=\"simpletable\">\n",
       "<caption>OLS Regression Results</caption>\n",
       "<tr>\n",
       "  <th>Dep. Variable:</th>           <td>GDP</td>       <th>  R-squared:         </th> <td>   0.381</td>\n",
       "</tr>\n",
       "<tr>\n",
       "  <th>Model:</th>                   <td>OLS</td>       <th>  Adj. R-squared:    </th> <td>   0.379</td>\n",
       "</tr>\n",
       "<tr>\n",
       "  <th>Method:</th>             <td>Least Squares</td>  <th>  F-statistic:       </th> <td>   155.8</td>\n",
       "</tr>\n",
       "<tr>\n",
       "  <th>Date:</th>             <td>Mon, 28 Aug 2017</td> <th>  Prob (F-statistic):</th> <td>1.93e-53</td>\n",
       "</tr>\n",
       "<tr>\n",
       "  <th>Time:</th>                 <td>10:50:40</td>     <th>  Log-Likelihood:    </th> <td> -2182.3</td>\n",
       "</tr>\n",
       "<tr>\n",
       "  <th>No. Observations:</th>      <td>   509</td>      <th>  AIC:               </th> <td>   4371.</td>\n",
       "</tr>\n",
       "<tr>\n",
       "  <th>Df Residuals:</th>          <td>   506</td>      <th>  BIC:               </th> <td>   4383.</td>\n",
       "</tr>\n",
       "<tr>\n",
       "  <th>Df Model:</th>              <td>     2</td>      <th>                     </th>     <td> </td>   \n",
       "</tr>\n",
       "<tr>\n",
       "  <th>Covariance Type:</th>      <td>nonrobust</td>    <th>                     </th>     <td> </td>   \n",
       "</tr>\n",
       "</table>\n",
       "<table class=\"simpletable\">\n",
       "<tr>\n",
       "            <td></td>              <th>coef</th>     <th>std err</th>      <th>t</th>      <th>P>|t|</th>  <th>[0.025</th>    <th>0.975]</th>  \n",
       "</tr>\n",
       "<tr>\n",
       "  <th>Intercept</th>            <td>  -76.0992</td> <td>    7.435</td> <td>  -10.236</td> <td> 0.000</td> <td>  -90.705</td> <td>  -61.493</td>\n",
       "</tr>\n",
       "<tr>\n",
       "  <th>EconomicFreedomIndex</th> <td>    9.8418</td> <td>    1.249</td> <td>    7.883</td> <td> 0.000</td> <td>    7.389</td> <td>   12.295</td>\n",
       "</tr>\n",
       "<tr>\n",
       "  <th>DemocracyScore</th>       <td>    4.0972</td> <td>    0.471</td> <td>    8.695</td> <td> 0.000</td> <td>    3.171</td> <td>    5.023</td>\n",
       "</tr>\n",
       "</table>\n",
       "<table class=\"simpletable\">\n",
       "<tr>\n",
       "  <th>Omnibus:</th>       <td>207.274</td> <th>  Durbin-Watson:     </th> <td>   2.047</td> \n",
       "</tr>\n",
       "<tr>\n",
       "  <th>Prob(Omnibus):</th> <td> 0.000</td>  <th>  Jarque-Bera (JB):  </th> <td> 837.816</td> \n",
       "</tr>\n",
       "<tr>\n",
       "  <th>Skew:</th>          <td> 1.841</td>  <th>  Prob(JB):          </th> <td>1.18e-182</td>\n",
       "</tr>\n",
       "<tr>\n",
       "  <th>Kurtosis:</th>      <td> 8.094</td>  <th>  Cond. No.          </th> <td>    89.7</td> \n",
       "</tr>\n",
       "</table>"
      ],
      "text/plain": [
       "<class 'statsmodels.iolib.summary.Summary'>\n",
       "\"\"\"\n",
       "                            OLS Regression Results                            \n",
       "==============================================================================\n",
       "Dep. Variable:                    GDP   R-squared:                       0.381\n",
       "Model:                            OLS   Adj. R-squared:                  0.379\n",
       "Method:                 Least Squares   F-statistic:                     155.8\n",
       "Date:                Mon, 28 Aug 2017   Prob (F-statistic):           1.93e-53\n",
       "Time:                        10:50:40   Log-Likelihood:                -2182.3\n",
       "No. Observations:                 509   AIC:                             4371.\n",
       "Df Residuals:                     506   BIC:                             4383.\n",
       "Df Model:                           2                                         \n",
       "Covariance Type:            nonrobust                                         \n",
       "========================================================================================\n",
       "                           coef    std err          t      P>|t|      [0.025      0.975]\n",
       "----------------------------------------------------------------------------------------\n",
       "Intercept              -76.0992      7.435    -10.236      0.000     -90.705     -61.493\n",
       "EconomicFreedomIndex     9.8418      1.249      7.883      0.000       7.389      12.295\n",
       "DemocracyScore           4.0972      0.471      8.695      0.000       3.171       5.023\n",
       "==============================================================================\n",
       "Omnibus:                      207.274   Durbin-Watson:                   2.047\n",
       "Prob(Omnibus):                  0.000   Jarque-Bera (JB):              837.816\n",
       "Skew:                           1.841   Prob(JB):                    1.18e-182\n",
       "Kurtosis:                       8.094   Cond. No.                         89.7\n",
       "==============================================================================\n",
       "\n",
       "Warnings:\n",
       "[1] Standard Errors assume that the covariance matrix of the errors is correctly specified.\n",
       "\"\"\""
      ]
     },
     "execution_count": 28,
     "metadata": {},
     "output_type": "execute_result"
    }
   ],
   "source": [
    "df_ = df_viz1.rename(columns={\n",
    "    'Economic Freedom Index': 'EconomicFreedomIndex',\n",
    "    'Democracy Score': 'DemocracyScore'\n",
    "})\n",
    "\n",
    "lm = smf.ols(formula='GDP ~ EconomicFreedomIndex + DemocracyScore', data=df_).fit()\n",
    "\n",
    "lm.summary()"
   ]
  },
  {
   "cell_type": "markdown",
   "metadata": {
    "collapsed": true
   },
   "source": [
    "## Normalise dataset\n",
    "\n",
    "Divide by max"
   ]
  },
  {
   "cell_type": "code",
   "execution_count": 29,
   "metadata": {},
   "outputs": [
    {
     "data": {
      "text/html": [
       "<div>\n",
       "<style>\n",
       "    .dataframe thead tr:only-child th {\n",
       "        text-align: right;\n",
       "    }\n",
       "\n",
       "    .dataframe thead th {\n",
       "        text-align: left;\n",
       "    }\n",
       "\n",
       "    .dataframe tbody tr th {\n",
       "        vertical-align: top;\n",
       "    }\n",
       "</style>\n",
       "<table border=\"1\" class=\"dataframe\">\n",
       "  <thead>\n",
       "    <tr style=\"text-align: right;\">\n",
       "      <th></th>\n",
       "      <th>Country Name</th>\n",
       "      <th>Country Code</th>\n",
       "      <th>Year</th>\n",
       "      <th>GDP</th>\n",
       "      <th>Economic Freedom Index</th>\n",
       "      <th>Democracy Score</th>\n",
       "    </tr>\n",
       "  </thead>\n",
       "  <tbody>\n",
       "    <tr>\n",
       "      <th>0</th>\n",
       "      <td>Aruba</td>\n",
       "      <td>ABW</td>\n",
       "      <td>2011</td>\n",
       "      <td>25324.720363</td>\n",
       "      <td>NaN</td>\n",
       "      <td>NaN</td>\n",
       "    </tr>\n",
       "    <tr>\n",
       "      <th>1</th>\n",
       "      <td>Afghanistan</td>\n",
       "      <td>AFG</td>\n",
       "      <td>2011</td>\n",
       "      <td>603.537023</td>\n",
       "      <td>NaN</td>\n",
       "      <td>2.48</td>\n",
       "    </tr>\n",
       "    <tr>\n",
       "      <th>2</th>\n",
       "      <td>Angola</td>\n",
       "      <td>AGO</td>\n",
       "      <td>2011</td>\n",
       "      <td>4299.012889</td>\n",
       "      <td>5.13</td>\n",
       "      <td>3.32</td>\n",
       "    </tr>\n",
       "    <tr>\n",
       "      <th>3</th>\n",
       "      <td>Albania</td>\n",
       "      <td>ALB</td>\n",
       "      <td>2011</td>\n",
       "      <td>4437.178068</td>\n",
       "      <td>7.25</td>\n",
       "      <td>5.81</td>\n",
       "    </tr>\n",
       "    <tr>\n",
       "      <th>4</th>\n",
       "      <td>Andorra</td>\n",
       "      <td>AND</td>\n",
       "      <td>2011</td>\n",
       "      <td>40919.183279</td>\n",
       "      <td>NaN</td>\n",
       "      <td>NaN</td>\n",
       "    </tr>\n",
       "  </tbody>\n",
       "</table>\n",
       "</div>"
      ],
      "text/plain": [
       "  Country Name Country Code  Year           GDP  Economic Freedom Index  \\\n",
       "0        Aruba          ABW  2011  25324.720363                     NaN   \n",
       "1  Afghanistan          AFG  2011    603.537023                     NaN   \n",
       "2       Angola          AGO  2011   4299.012889                    5.13   \n",
       "3      Albania          ALB  2011   4437.178068                    7.25   \n",
       "4      Andorra          AND  2011  40919.183279                     NaN   \n",
       "\n",
       "   Democracy Score  \n",
       "0              NaN  \n",
       "1             2.48  \n",
       "2             3.32  \n",
       "3             5.81  \n",
       "4              NaN  "
      ]
     },
     "execution_count": 29,
     "metadata": {},
     "output_type": "execute_result"
    }
   ],
   "source": [
    "ds.head()"
   ]
  },
  {
   "cell_type": "code",
   "execution_count": 30,
   "metadata": {},
   "outputs": [
    {
     "data": {
      "text/plain": [
       "8.7100000000000009"
      ]
     },
     "execution_count": 30,
     "metadata": {},
     "output_type": "execute_result"
    }
   ],
   "source": [
    "max_freedom = ds['Economic Freedom Index'].dropna().values.max()\n",
    "\n",
    "max_freedom"
   ]
  },
  {
   "cell_type": "code",
   "execution_count": 31,
   "metadata": {},
   "outputs": [
    {
     "data": {
      "text/plain": [
       "9.9299999999999997"
      ]
     },
     "execution_count": 31,
     "metadata": {},
     "output_type": "execute_result"
    }
   ],
   "source": [
    "max_democracy = ds['Democracy Score'].dropna().values.max()\n",
    "\n",
    "max_democracy"
   ]
  },
  {
   "cell_type": "code",
   "execution_count": 32,
   "metadata": {},
   "outputs": [
    {
     "data": {
      "text/plain": [
       "179478.58482799999"
      ]
     },
     "execution_count": 32,
     "metadata": {},
     "output_type": "execute_result"
    }
   ],
   "source": [
    "max_gdp = ds['GDP'].dropna().values.max()\n",
    "\n",
    "max_gdp"
   ]
  },
  {
   "cell_type": "code",
   "execution_count": 33,
   "metadata": {
    "collapsed": true
   },
   "outputs": [],
   "source": [
    "ds['economic_freedom_ratio'] = ds['Economic Freedom Index'] / max_freedom"
   ]
  },
  {
   "cell_type": "code",
   "execution_count": 34,
   "metadata": {
    "collapsed": true
   },
   "outputs": [],
   "source": [
    "ds['democracy_ratio'] = ds['Democracy Score'] / max_democracy"
   ]
  },
  {
   "cell_type": "code",
   "execution_count": 35,
   "metadata": {
    "collapsed": true
   },
   "outputs": [],
   "source": [
    "ds['gdp_ratio'] = ds['GDP'] / max_gdp"
   ]
  },
  {
   "cell_type": "code",
   "execution_count": 36,
   "metadata": {},
   "outputs": [
    {
     "data": {
      "text/html": [
       "<div>\n",
       "<style>\n",
       "    .dataframe thead tr:only-child th {\n",
       "        text-align: right;\n",
       "    }\n",
       "\n",
       "    .dataframe thead th {\n",
       "        text-align: left;\n",
       "    }\n",
       "\n",
       "    .dataframe tbody tr th {\n",
       "        vertical-align: top;\n",
       "    }\n",
       "</style>\n",
       "<table border=\"1\" class=\"dataframe\">\n",
       "  <thead>\n",
       "    <tr style=\"text-align: right;\">\n",
       "      <th></th>\n",
       "      <th>Country Name</th>\n",
       "      <th>Country Code</th>\n",
       "      <th>Year</th>\n",
       "      <th>GDP</th>\n",
       "      <th>Economic Freedom Index</th>\n",
       "      <th>Democracy Score</th>\n",
       "      <th>economic_freedom_ratio</th>\n",
       "      <th>democracy_ratio</th>\n",
       "      <th>gdp_ratio</th>\n",
       "    </tr>\n",
       "  </thead>\n",
       "  <tbody>\n",
       "    <tr>\n",
       "      <th>0</th>\n",
       "      <td>Aruba</td>\n",
       "      <td>ABW</td>\n",
       "      <td>2011</td>\n",
       "      <td>25324.720363</td>\n",
       "      <td>NaN</td>\n",
       "      <td>NaN</td>\n",
       "      <td>NaN</td>\n",
       "      <td>NaN</td>\n",
       "      <td>0.141102</td>\n",
       "    </tr>\n",
       "    <tr>\n",
       "      <th>1</th>\n",
       "      <td>Afghanistan</td>\n",
       "      <td>AFG</td>\n",
       "      <td>2011</td>\n",
       "      <td>603.537023</td>\n",
       "      <td>NaN</td>\n",
       "      <td>2.48</td>\n",
       "      <td>NaN</td>\n",
       "      <td>0.249748</td>\n",
       "      <td>0.003363</td>\n",
       "    </tr>\n",
       "    <tr>\n",
       "      <th>2</th>\n",
       "      <td>Angola</td>\n",
       "      <td>AGO</td>\n",
       "      <td>2011</td>\n",
       "      <td>4299.012889</td>\n",
       "      <td>5.13</td>\n",
       "      <td>3.32</td>\n",
       "      <td>0.588978</td>\n",
       "      <td>0.334340</td>\n",
       "      <td>0.023953</td>\n",
       "    </tr>\n",
       "    <tr>\n",
       "      <th>3</th>\n",
       "      <td>Albania</td>\n",
       "      <td>ALB</td>\n",
       "      <td>2011</td>\n",
       "      <td>4437.178068</td>\n",
       "      <td>7.25</td>\n",
       "      <td>5.81</td>\n",
       "      <td>0.832377</td>\n",
       "      <td>0.585096</td>\n",
       "      <td>0.024723</td>\n",
       "    </tr>\n",
       "    <tr>\n",
       "      <th>4</th>\n",
       "      <td>Andorra</td>\n",
       "      <td>AND</td>\n",
       "      <td>2011</td>\n",
       "      <td>40919.183279</td>\n",
       "      <td>NaN</td>\n",
       "      <td>NaN</td>\n",
       "      <td>NaN</td>\n",
       "      <td>NaN</td>\n",
       "      <td>0.227989</td>\n",
       "    </tr>\n",
       "    <tr>\n",
       "      <th>5</th>\n",
       "      <td>Arab World</td>\n",
       "      <td>ARB</td>\n",
       "      <td>2011</td>\n",
       "      <td>6856.593678</td>\n",
       "      <td>NaN</td>\n",
       "      <td>NaN</td>\n",
       "      <td>NaN</td>\n",
       "      <td>NaN</td>\n",
       "      <td>0.038203</td>\n",
       "    </tr>\n",
       "    <tr>\n",
       "      <th>6</th>\n",
       "      <td>United Arab Emirates</td>\n",
       "      <td>ARE</td>\n",
       "      <td>2011</td>\n",
       "      <td>40462.312090</td>\n",
       "      <td>NaN</td>\n",
       "      <td>2.58</td>\n",
       "      <td>NaN</td>\n",
       "      <td>0.259819</td>\n",
       "      <td>0.225444</td>\n",
       "    </tr>\n",
       "    <tr>\n",
       "      <th>7</th>\n",
       "      <td>Argentina</td>\n",
       "      <td>ARG</td>\n",
       "      <td>2011</td>\n",
       "      <td>12726.908359</td>\n",
       "      <td>5.67</td>\n",
       "      <td>6.84</td>\n",
       "      <td>0.650976</td>\n",
       "      <td>0.688822</td>\n",
       "      <td>0.070910</td>\n",
       "    </tr>\n",
       "    <tr>\n",
       "      <th>8</th>\n",
       "      <td>Armenia</td>\n",
       "      <td>ARM</td>\n",
       "      <td>2011</td>\n",
       "      <td>3526.978143</td>\n",
       "      <td>7.71</td>\n",
       "      <td>4.09</td>\n",
       "      <td>0.885189</td>\n",
       "      <td>0.411883</td>\n",
       "      <td>0.019651</td>\n",
       "    </tr>\n",
       "    <tr>\n",
       "      <th>9</th>\n",
       "      <td>American Samoa</td>\n",
       "      <td>ASM</td>\n",
       "      <td>2011</td>\n",
       "      <td>10375.994216</td>\n",
       "      <td>NaN</td>\n",
       "      <td>NaN</td>\n",
       "      <td>NaN</td>\n",
       "      <td>NaN</td>\n",
       "      <td>0.057812</td>\n",
       "    </tr>\n",
       "  </tbody>\n",
       "</table>\n",
       "</div>"
      ],
      "text/plain": [
       "           Country Name Country Code  Year           GDP  \\\n",
       "0                 Aruba          ABW  2011  25324.720363   \n",
       "1           Afghanistan          AFG  2011    603.537023   \n",
       "2                Angola          AGO  2011   4299.012889   \n",
       "3               Albania          ALB  2011   4437.178068   \n",
       "4               Andorra          AND  2011  40919.183279   \n",
       "5            Arab World          ARB  2011   6856.593678   \n",
       "6  United Arab Emirates          ARE  2011  40462.312090   \n",
       "7             Argentina          ARG  2011  12726.908359   \n",
       "8               Armenia          ARM  2011   3526.978143   \n",
       "9        American Samoa          ASM  2011  10375.994216   \n",
       "\n",
       "   Economic Freedom Index  Democracy Score  economic_freedom_ratio  \\\n",
       "0                     NaN              NaN                     NaN   \n",
       "1                     NaN             2.48                     NaN   \n",
       "2                    5.13             3.32                0.588978   \n",
       "3                    7.25             5.81                0.832377   \n",
       "4                     NaN              NaN                     NaN   \n",
       "5                     NaN              NaN                     NaN   \n",
       "6                     NaN             2.58                     NaN   \n",
       "7                    5.67             6.84                0.650976   \n",
       "8                    7.71             4.09                0.885189   \n",
       "9                     NaN              NaN                     NaN   \n",
       "\n",
       "   democracy_ratio  gdp_ratio  \n",
       "0              NaN   0.141102  \n",
       "1         0.249748   0.003363  \n",
       "2         0.334340   0.023953  \n",
       "3         0.585096   0.024723  \n",
       "4              NaN   0.227989  \n",
       "5              NaN   0.038203  \n",
       "6         0.259819   0.225444  \n",
       "7         0.688822   0.070910  \n",
       "8         0.411883   0.019651  \n",
       "9              NaN   0.057812  "
      ]
     },
     "execution_count": 36,
     "metadata": {},
     "output_type": "execute_result"
    }
   ],
   "source": [
    "ds.head(10)"
   ]
  },
  {
   "cell_type": "markdown",
   "metadata": {},
   "source": [
    "Harmonic mean from\n",
    "<https://docs.scipy.org/doc/scipy-0.13.0/reference/generated/scipy.stats.hmean.html>"
   ]
  },
  {
   "cell_type": "code",
   "execution_count": 37,
   "metadata": {
    "collapsed": true
   },
   "outputs": [],
   "source": [
    "from scipy.stats import hmean"
   ]
  },
  {
   "cell_type": "code",
   "execution_count": 38,
   "metadata": {
    "collapsed": true
   },
   "outputs": [],
   "source": [
    "def mask_hmean(row):\n",
    "    er = row['economic_freedom_ratio']\n",
    "    dr = row['democracy_ratio']\n",
    "    if er > 0 and dr > 0:\n",
    "        return hmean([er, dr])\n",
    "    else:\n",
    "        return None"
   ]
  },
  {
   "cell_type": "code",
   "execution_count": 39,
   "metadata": {
    "collapsed": true
   },
   "outputs": [],
   "source": [
    "ds['freedoms_mean'] = ds.apply(mask_hmean, axis=1)"
   ]
  },
  {
   "cell_type": "code",
   "execution_count": 40,
   "metadata": {},
   "outputs": [
    {
     "data": {
      "text/html": [
       "<div>\n",
       "<style>\n",
       "    .dataframe thead tr:only-child th {\n",
       "        text-align: right;\n",
       "    }\n",
       "\n",
       "    .dataframe thead th {\n",
       "        text-align: left;\n",
       "    }\n",
       "\n",
       "    .dataframe tbody tr th {\n",
       "        vertical-align: top;\n",
       "    }\n",
       "</style>\n",
       "<table border=\"1\" class=\"dataframe\">\n",
       "  <thead>\n",
       "    <tr style=\"text-align: right;\">\n",
       "      <th></th>\n",
       "      <th>Country Name</th>\n",
       "      <th>Country Code</th>\n",
       "      <th>Year</th>\n",
       "      <th>GDP</th>\n",
       "      <th>Economic Freedom Index</th>\n",
       "      <th>Democracy Score</th>\n",
       "      <th>economic_freedom_ratio</th>\n",
       "      <th>democracy_ratio</th>\n",
       "      <th>gdp_ratio</th>\n",
       "      <th>freedoms_mean</th>\n",
       "    </tr>\n",
       "  </thead>\n",
       "  <tbody>\n",
       "    <tr>\n",
       "      <th>0</th>\n",
       "      <td>Aruba</td>\n",
       "      <td>ABW</td>\n",
       "      <td>2011</td>\n",
       "      <td>25324.720363</td>\n",
       "      <td>NaN</td>\n",
       "      <td>NaN</td>\n",
       "      <td>NaN</td>\n",
       "      <td>NaN</td>\n",
       "      <td>0.141102</td>\n",
       "      <td>NaN</td>\n",
       "    </tr>\n",
       "    <tr>\n",
       "      <th>1</th>\n",
       "      <td>Afghanistan</td>\n",
       "      <td>AFG</td>\n",
       "      <td>2011</td>\n",
       "      <td>603.537023</td>\n",
       "      <td>NaN</td>\n",
       "      <td>2.48</td>\n",
       "      <td>NaN</td>\n",
       "      <td>0.249748</td>\n",
       "      <td>0.003363</td>\n",
       "      <td>NaN</td>\n",
       "    </tr>\n",
       "    <tr>\n",
       "      <th>2</th>\n",
       "      <td>Angola</td>\n",
       "      <td>AGO</td>\n",
       "      <td>2011</td>\n",
       "      <td>4299.012889</td>\n",
       "      <td>5.13</td>\n",
       "      <td>3.32</td>\n",
       "      <td>0.588978</td>\n",
       "      <td>0.334340</td>\n",
       "      <td>0.023953</td>\n",
       "      <td>0.426547</td>\n",
       "    </tr>\n",
       "    <tr>\n",
       "      <th>3</th>\n",
       "      <td>Albania</td>\n",
       "      <td>ALB</td>\n",
       "      <td>2011</td>\n",
       "      <td>4437.178068</td>\n",
       "      <td>7.25</td>\n",
       "      <td>5.81</td>\n",
       "      <td>0.832377</td>\n",
       "      <td>0.585096</td>\n",
       "      <td>0.024723</td>\n",
       "      <td>0.687167</td>\n",
       "    </tr>\n",
       "  </tbody>\n",
       "</table>\n",
       "</div>"
      ],
      "text/plain": [
       "  Country Name Country Code  Year           GDP  Economic Freedom Index  \\\n",
       "0        Aruba          ABW  2011  25324.720363                     NaN   \n",
       "1  Afghanistan          AFG  2011    603.537023                     NaN   \n",
       "2       Angola          AGO  2011   4299.012889                    5.13   \n",
       "3      Albania          ALB  2011   4437.178068                    7.25   \n",
       "\n",
       "   Democracy Score  economic_freedom_ratio  democracy_ratio  gdp_ratio  \\\n",
       "0              NaN                     NaN              NaN   0.141102   \n",
       "1             2.48                     NaN         0.249748   0.003363   \n",
       "2             3.32                0.588978         0.334340   0.023953   \n",
       "3             5.81                0.832377         0.585096   0.024723   \n",
       "\n",
       "   freedoms_mean  \n",
       "0            NaN  \n",
       "1            NaN  \n",
       "2       0.426547  \n",
       "3       0.687167  "
      ]
     },
     "execution_count": 40,
     "metadata": {},
     "output_type": "execute_result"
    }
   ],
   "source": [
    "ds[0:4]"
   ]
  },
  {
   "cell_type": "code",
   "execution_count": 41,
   "metadata": {},
   "outputs": [
    {
     "data": {
      "text/plain": [
       "928"
      ]
     },
     "execution_count": 41,
     "metadata": {},
     "output_type": "execute_result"
    }
   ],
   "source": [
    "len(ds)"
   ]
  },
  {
   "cell_type": "code",
   "execution_count": 43,
   "metadata": {},
   "outputs": [
    {
     "data": {
      "text/plain": [
       "509"
      ]
     },
     "execution_count": 43,
     "metadata": {},
     "output_type": "execute_result"
    }
   ],
   "source": [
    "ds_wo_na = ds.dropna()\n",
    "\n",
    "len(ds_wo_na)"
   ]
  },
  {
   "cell_type": "code",
   "execution_count": 44,
   "metadata": {
    "scrolled": true
   },
   "outputs": [
    {
     "data": {
      "text/html": [
       "<div>\n",
       "<style>\n",
       "    .dataframe thead tr:only-child th {\n",
       "        text-align: right;\n",
       "    }\n",
       "\n",
       "    .dataframe thead th {\n",
       "        text-align: left;\n",
       "    }\n",
       "\n",
       "    .dataframe tbody tr th {\n",
       "        vertical-align: top;\n",
       "    }\n",
       "</style>\n",
       "<table border=\"1\" class=\"dataframe\">\n",
       "  <thead>\n",
       "    <tr style=\"text-align: right;\">\n",
       "      <th></th>\n",
       "      <th>Country Name</th>\n",
       "      <th>Country Code</th>\n",
       "      <th>Year</th>\n",
       "      <th>GDP</th>\n",
       "      <th>Economic Freedom Index</th>\n",
       "      <th>Democracy Score</th>\n",
       "      <th>economic_freedom_ratio</th>\n",
       "      <th>democracy_ratio</th>\n",
       "      <th>gdp_ratio</th>\n",
       "      <th>freedoms_mean</th>\n",
       "    </tr>\n",
       "  </thead>\n",
       "  <tbody>\n",
       "    <tr>\n",
       "      <th>2</th>\n",
       "      <td>Angola</td>\n",
       "      <td>AGO</td>\n",
       "      <td>2011</td>\n",
       "      <td>4299.012889</td>\n",
       "      <td>5.13</td>\n",
       "      <td>3.32</td>\n",
       "      <td>0.588978</td>\n",
       "      <td>0.334340</td>\n",
       "      <td>0.023953</td>\n",
       "      <td>0.426547</td>\n",
       "    </tr>\n",
       "    <tr>\n",
       "      <th>3</th>\n",
       "      <td>Albania</td>\n",
       "      <td>ALB</td>\n",
       "      <td>2011</td>\n",
       "      <td>4437.178068</td>\n",
       "      <td>7.25</td>\n",
       "      <td>5.81</td>\n",
       "      <td>0.832377</td>\n",
       "      <td>0.585096</td>\n",
       "      <td>0.024723</td>\n",
       "      <td>0.687167</td>\n",
       "    </tr>\n",
       "    <tr>\n",
       "      <th>7</th>\n",
       "      <td>Argentina</td>\n",
       "      <td>ARG</td>\n",
       "      <td>2011</td>\n",
       "      <td>12726.908359</td>\n",
       "      <td>5.67</td>\n",
       "      <td>6.84</td>\n",
       "      <td>0.650976</td>\n",
       "      <td>0.688822</td>\n",
       "      <td>0.070910</td>\n",
       "      <td>0.669364</td>\n",
       "    </tr>\n",
       "    <tr>\n",
       "      <th>8</th>\n",
       "      <td>Armenia</td>\n",
       "      <td>ARM</td>\n",
       "      <td>2011</td>\n",
       "      <td>3526.978143</td>\n",
       "      <td>7.71</td>\n",
       "      <td>4.09</td>\n",
       "      <td>0.885189</td>\n",
       "      <td>0.411883</td>\n",
       "      <td>0.019651</td>\n",
       "      <td>0.562181</td>\n",
       "    </tr>\n",
       "    <tr>\n",
       "      <th>11</th>\n",
       "      <td>Australia</td>\n",
       "      <td>AUS</td>\n",
       "      <td>2011</td>\n",
       "      <td>62245.100292</td>\n",
       "      <td>7.93</td>\n",
       "      <td>9.22</td>\n",
       "      <td>0.910448</td>\n",
       "      <td>0.928499</td>\n",
       "      <td>0.346811</td>\n",
       "      <td>0.919385</td>\n",
       "    </tr>\n",
       "  </tbody>\n",
       "</table>\n",
       "</div>"
      ],
      "text/plain": [
       "   Country Name Country Code  Year           GDP  Economic Freedom Index  \\\n",
       "2        Angola          AGO  2011   4299.012889                    5.13   \n",
       "3       Albania          ALB  2011   4437.178068                    7.25   \n",
       "7     Argentina          ARG  2011  12726.908359                    5.67   \n",
       "8       Armenia          ARM  2011   3526.978143                    7.71   \n",
       "11    Australia          AUS  2011  62245.100292                    7.93   \n",
       "\n",
       "    Democracy Score  economic_freedom_ratio  democracy_ratio  gdp_ratio  \\\n",
       "2              3.32                0.588978         0.334340   0.023953   \n",
       "3              5.81                0.832377         0.585096   0.024723   \n",
       "7              6.84                0.650976         0.688822   0.070910   \n",
       "8              4.09                0.885189         0.411883   0.019651   \n",
       "11             9.22                0.910448         0.928499   0.346811   \n",
       "\n",
       "    freedoms_mean  \n",
       "2        0.426547  \n",
       "3        0.687167  \n",
       "7        0.669364  \n",
       "8        0.562181  \n",
       "11       0.919385  "
      ]
     },
     "execution_count": 44,
     "metadata": {},
     "output_type": "execute_result"
    }
   ],
   "source": [
    "ds_wo_na.head()"
   ]
  },
  {
   "cell_type": "markdown",
   "metadata": {},
   "source": [
    "## Construct linear model from available data"
   ]
  },
  {
   "cell_type": "code",
   "execution_count": 45,
   "metadata": {
    "collapsed": true
   },
   "outputs": [],
   "source": [
    "import statsmodels.formula.api as smf"
   ]
  },
  {
   "cell_type": "markdown",
   "metadata": {},
   "source": [
    "### gdp &rarr; democracy &amp; gdp"
   ]
  },
  {
   "cell_type": "code",
   "execution_count": 47,
   "metadata": {},
   "outputs": [],
   "source": [
    "lm1 = smf.ols(formula='gdp_ratio ~ democracy_ratio + economic_freedom_ratio', data=ds_wo_na).fit()"
   ]
  },
  {
   "cell_type": "code",
   "execution_count": 48,
   "metadata": {},
   "outputs": [
    {
     "data": {
      "text/html": [
       "<table class=\"simpletable\">\n",
       "<caption>OLS Regression Results</caption>\n",
       "<tr>\n",
       "  <th>Dep. Variable:</th>        <td>gdp_ratio</td>    <th>  R-squared:         </th> <td>   0.381</td>\n",
       "</tr>\n",
       "<tr>\n",
       "  <th>Model:</th>                   <td>OLS</td>       <th>  Adj. R-squared:    </th> <td>   0.379</td>\n",
       "</tr>\n",
       "<tr>\n",
       "  <th>Method:</th>             <td>Least Squares</td>  <th>  F-statistic:       </th> <td>   155.8</td>\n",
       "</tr>\n",
       "<tr>\n",
       "  <th>Date:</th>             <td>Mon, 28 Aug 2017</td> <th>  Prob (F-statistic):</th> <td>1.93e-53</td>\n",
       "</tr>\n",
       "<tr>\n",
       "  <th>Time:</th>                 <td>11:02:11</td>     <th>  Log-Likelihood:    </th> <td>  459.47</td>\n",
       "</tr>\n",
       "<tr>\n",
       "  <th>No. Observations:</th>      <td>   509</td>      <th>  AIC:               </th> <td>  -912.9</td>\n",
       "</tr>\n",
       "<tr>\n",
       "  <th>Df Residuals:</th>          <td>   506</td>      <th>  BIC:               </th> <td>  -900.3</td>\n",
       "</tr>\n",
       "<tr>\n",
       "  <th>Df Model:</th>              <td>     2</td>      <th>                     </th>     <td> </td>   \n",
       "</tr>\n",
       "<tr>\n",
       "  <th>Covariance Type:</th>      <td>nonrobust</td>    <th>                     </th>     <td> </td>   \n",
       "</tr>\n",
       "</table>\n",
       "<table class=\"simpletable\">\n",
       "<tr>\n",
       "             <td></td>               <th>coef</th>     <th>std err</th>      <th>t</th>      <th>P>|t|</th>  <th>[0.025</th>    <th>0.975]</th>  \n",
       "</tr>\n",
       "<tr>\n",
       "  <th>Intercept</th>              <td>   -0.4240</td> <td>    0.041</td> <td>  -10.236</td> <td> 0.000</td> <td>   -0.505</td> <td>   -0.343</td>\n",
       "</tr>\n",
       "<tr>\n",
       "  <th>democracy_ratio</th>        <td>    0.2267</td> <td>    0.026</td> <td>    8.695</td> <td> 0.000</td> <td>    0.175</td> <td>    0.278</td>\n",
       "</tr>\n",
       "<tr>\n",
       "  <th>economic_freedom_ratio</th> <td>    0.4776</td> <td>    0.061</td> <td>    7.883</td> <td> 0.000</td> <td>    0.359</td> <td>    0.597</td>\n",
       "</tr>\n",
       "</table>\n",
       "<table class=\"simpletable\">\n",
       "<tr>\n",
       "  <th>Omnibus:</th>       <td>207.274</td> <th>  Durbin-Watson:     </th> <td>   2.047</td> \n",
       "</tr>\n",
       "<tr>\n",
       "  <th>Prob(Omnibus):</th> <td> 0.000</td>  <th>  Jarque-Bera (JB):  </th> <td> 837.816</td> \n",
       "</tr>\n",
       "<tr>\n",
       "  <th>Skew:</th>          <td> 1.841</td>  <th>  Prob(JB):          </th> <td>1.18e-182</td>\n",
       "</tr>\n",
       "<tr>\n",
       "  <th>Kurtosis:</th>      <td> 8.094</td>  <th>  Cond. No.          </th> <td>    23.9</td> \n",
       "</tr>\n",
       "</table>"
      ],
      "text/plain": [
       "<class 'statsmodels.iolib.summary.Summary'>\n",
       "\"\"\"\n",
       "                            OLS Regression Results                            \n",
       "==============================================================================\n",
       "Dep. Variable:              gdp_ratio   R-squared:                       0.381\n",
       "Model:                            OLS   Adj. R-squared:                  0.379\n",
       "Method:                 Least Squares   F-statistic:                     155.8\n",
       "Date:                Mon, 28 Aug 2017   Prob (F-statistic):           1.93e-53\n",
       "Time:                        11:02:11   Log-Likelihood:                 459.47\n",
       "No. Observations:                 509   AIC:                            -912.9\n",
       "Df Residuals:                     506   BIC:                            -900.3\n",
       "Df Model:                           2                                         \n",
       "Covariance Type:            nonrobust                                         \n",
       "==========================================================================================\n",
       "                             coef    std err          t      P>|t|      [0.025      0.975]\n",
       "------------------------------------------------------------------------------------------\n",
       "Intercept                 -0.4240      0.041    -10.236      0.000      -0.505      -0.343\n",
       "democracy_ratio            0.2267      0.026      8.695      0.000       0.175       0.278\n",
       "economic_freedom_ratio     0.4776      0.061      7.883      0.000       0.359       0.597\n",
       "==============================================================================\n",
       "Omnibus:                      207.274   Durbin-Watson:                   2.047\n",
       "Prob(Omnibus):                  0.000   Jarque-Bera (JB):              837.816\n",
       "Skew:                           1.841   Prob(JB):                    1.18e-182\n",
       "Kurtosis:                       8.094   Cond. No.                         23.9\n",
       "==============================================================================\n",
       "\n",
       "Warnings:\n",
       "[1] Standard Errors assume that the covariance matrix of the errors is correctly specified.\n",
       "\"\"\""
      ]
     },
     "execution_count": 48,
     "metadata": {},
     "output_type": "execute_result"
    }
   ],
   "source": [
    "lm1.summary()"
   ]
  },
  {
   "cell_type": "code",
   "execution_count": 49,
   "metadata": {},
   "outputs": [
    {
     "data": {
      "text/html": [
       "<table class=\"simpletable\">\n",
       "<tr>\n",
       "        <td>Model:</td>               <td>OLS</td>         <td>Adj. R-squared:</td>     <td>0.379</td>  \n",
       "</tr>\n",
       "<tr>\n",
       "  <td>Dependent Variable:</td>     <td>gdp_ratio</td>           <td>AIC:</td>         <td>-912.9488</td>\n",
       "</tr>\n",
       "<tr>\n",
       "         <td>Date:</td>        <td>2017-08-28 11:02</td>        <td>BIC:</td>         <td>-900.2515</td>\n",
       "</tr>\n",
       "<tr>\n",
       "   <td>No. Observations:</td>         <td>509</td>         <td>Log-Likelihood:</td>    <td>459.47</td>  \n",
       "</tr>\n",
       "<tr>\n",
       "       <td>Df Model:</td>              <td>2</td>           <td>F-statistic:</td>       <td>155.8</td>  \n",
       "</tr>\n",
       "<tr>\n",
       "     <td>Df Residuals:</td>           <td>506</td>       <td>Prob (F-statistic):</td> <td>1.93e-53</td> \n",
       "</tr>\n",
       "<tr>\n",
       "      <td>R-squared:</td>            <td>0.381</td>            <td>Scale:</td>        <td>0.0096832</td>\n",
       "</tr>\n",
       "</table>\n",
       "<table class=\"simpletable\">\n",
       "<tr>\n",
       "             <td></td>             <th>Coef.</th>  <th>Std.Err.</th>     <th>t</th>     <th>P>|t|</th> <th>[0.025</th>  <th>0.975]</th> \n",
       "</tr>\n",
       "<tr>\n",
       "  <th>Intercept</th>              <td>-0.4240</td>  <td>0.0414</td>  <td>-10.2359</td> <td>0.0000</td> <td>-0.5054</td> <td>-0.3426</td>\n",
       "</tr>\n",
       "<tr>\n",
       "  <th>democracy_ratio</th>        <td>0.2267</td>   <td>0.0261</td>   <td>8.6946</td>  <td>0.0000</td> <td>0.1755</td>  <td>0.2779</td> \n",
       "</tr>\n",
       "<tr>\n",
       "  <th>economic_freedom_ratio</th> <td>0.4776</td>   <td>0.0606</td>   <td>7.8828</td>  <td>0.0000</td> <td>0.3586</td>  <td>0.5967</td> \n",
       "</tr>\n",
       "</table>\n",
       "<table class=\"simpletable\">\n",
       "<tr>\n",
       "     <td>Omnibus:</td>    <td>207.274</td>  <td>Durbin-Watson:</td>    <td>2.047</td> \n",
       "</tr>\n",
       "<tr>\n",
       "  <td>Prob(Omnibus):</td>  <td>0.000</td>  <td>Jarque-Bera (JB):</td> <td>837.816</td>\n",
       "</tr>\n",
       "<tr>\n",
       "       <td>Skew:</td>      <td>1.841</td>      <td>Prob(JB):</td>      <td>0.000</td> \n",
       "</tr>\n",
       "<tr>\n",
       "     <td>Kurtosis:</td>    <td>8.094</td>   <td>Condition No.:</td>     <td>24</td>   \n",
       "</tr>\n",
       "</table>"
      ],
      "text/plain": [
       "<class 'statsmodels.iolib.summary2.Summary'>\n",
       "\"\"\"\n",
       "                    Results: Ordinary least squares\n",
       "=======================================================================\n",
       "Model:                 OLS               Adj. R-squared:      0.379    \n",
       "Dependent Variable:    gdp_ratio         AIC:                 -912.9488\n",
       "Date:                  2017-08-28 11:02  BIC:                 -900.2515\n",
       "No. Observations:      509               Log-Likelihood:      459.47   \n",
       "Df Model:              2                 F-statistic:         155.8    \n",
       "Df Residuals:          506               Prob (F-statistic):  1.93e-53 \n",
       "R-squared:             0.381             Scale:               0.0096832\n",
       "-----------------------------------------------------------------------\n",
       "                        Coef.  Std.Err.    t     P>|t|   [0.025  0.975]\n",
       "-----------------------------------------------------------------------\n",
       "Intercept              -0.4240   0.0414 -10.2359 0.0000 -0.5054 -0.3426\n",
       "democracy_ratio         0.2267   0.0261   8.6946 0.0000  0.1755  0.2779\n",
       "economic_freedom_ratio  0.4776   0.0606   7.8828 0.0000  0.3586  0.5967\n",
       "-----------------------------------------------------------------------\n",
       "Omnibus:                207.274        Durbin-Watson:           2.047  \n",
       "Prob(Omnibus):          0.000          Jarque-Bera (JB):        837.816\n",
       "Skew:                   1.841          Prob(JB):                0.000  \n",
       "Kurtosis:               8.094          Condition No.:           24     \n",
       "=======================================================================\n",
       "\n",
       "\"\"\""
      ]
     },
     "execution_count": 49,
     "metadata": {},
     "output_type": "execute_result"
    }
   ],
   "source": [
    "lm1.summary2()"
   ]
  },
  {
   "cell_type": "markdown",
   "metadata": {},
   "source": [
    "### gdp &rarr; freedoms mean"
   ]
  },
  {
   "cell_type": "code",
   "execution_count": 50,
   "metadata": {
    "collapsed": true
   },
   "outputs": [],
   "source": [
    "lm2 = smf.ols(formula='gdp_ratio ~ freedoms_mean', data=ds_wo_na).fit()"
   ]
  },
  {
   "cell_type": "code",
   "execution_count": 51,
   "metadata": {},
   "outputs": [
    {
     "data": {
      "text/html": [
       "<table class=\"simpletable\">\n",
       "<caption>OLS Regression Results</caption>\n",
       "<tr>\n",
       "  <th>Dep. Variable:</th>        <td>gdp_ratio</td>    <th>  R-squared:         </th> <td>   0.284</td>\n",
       "</tr>\n",
       "<tr>\n",
       "  <th>Model:</th>                   <td>OLS</td>       <th>  Adj. R-squared:    </th> <td>   0.282</td>\n",
       "</tr>\n",
       "<tr>\n",
       "  <th>Method:</th>             <td>Least Squares</td>  <th>  F-statistic:       </th> <td>   200.8</td>\n",
       "</tr>\n",
       "<tr>\n",
       "  <th>Date:</th>             <td>Mon, 28 Aug 2017</td> <th>  Prob (F-statistic):</th> <td>1.21e-38</td>\n",
       "</tr>\n",
       "<tr>\n",
       "  <th>Time:</th>                 <td>11:09:15</td>     <th>  Log-Likelihood:    </th> <td>  422.30</td>\n",
       "</tr>\n",
       "<tr>\n",
       "  <th>No. Observations:</th>      <td>   509</td>      <th>  AIC:               </th> <td>  -840.6</td>\n",
       "</tr>\n",
       "<tr>\n",
       "  <th>Df Residuals:</th>          <td>   507</td>      <th>  BIC:               </th> <td>  -832.1</td>\n",
       "</tr>\n",
       "<tr>\n",
       "  <th>Df Model:</th>              <td>     1</td>      <th>                     </th>     <td> </td>   \n",
       "</tr>\n",
       "<tr>\n",
       "  <th>Covariance Type:</th>      <td>nonrobust</td>    <th>                     </th>     <td> </td>   \n",
       "</tr>\n",
       "</table>\n",
       "<table class=\"simpletable\">\n",
       "<tr>\n",
       "        <td></td>           <th>coef</th>     <th>std err</th>      <th>t</th>      <th>P>|t|</th>  <th>[0.025</th>    <th>0.975]</th>  \n",
       "</tr>\n",
       "<tr>\n",
       "  <th>Intercept</th>     <td>   -0.1885</td> <td>    0.020</td> <td>   -9.334</td> <td> 0.000</td> <td>   -0.228</td> <td>   -0.149</td>\n",
       "</tr>\n",
       "<tr>\n",
       "  <th>freedoms_mean</th> <td>    0.4164</td> <td>    0.029</td> <td>   14.172</td> <td> 0.000</td> <td>    0.359</td> <td>    0.474</td>\n",
       "</tr>\n",
       "</table>\n",
       "<table class=\"simpletable\">\n",
       "<tr>\n",
       "  <th>Omnibus:</th>       <td>229.015</td> <th>  Durbin-Watson:     </th> <td>   1.985</td> \n",
       "</tr>\n",
       "<tr>\n",
       "  <th>Prob(Omnibus):</th> <td> 0.000</td>  <th>  Jarque-Bera (JB):  </th> <td> 989.276</td> \n",
       "</tr>\n",
       "<tr>\n",
       "  <th>Skew:</th>          <td> 2.040</td>  <th>  Prob(JB):          </th> <td>1.52e-215</td>\n",
       "</tr>\n",
       "<tr>\n",
       "  <th>Kurtosis:</th>      <td> 8.477</td>  <th>  Cond. No.          </th> <td>    9.12</td> \n",
       "</tr>\n",
       "</table>"
      ],
      "text/plain": [
       "<class 'statsmodels.iolib.summary.Summary'>\n",
       "\"\"\"\n",
       "                            OLS Regression Results                            \n",
       "==============================================================================\n",
       "Dep. Variable:              gdp_ratio   R-squared:                       0.284\n",
       "Model:                            OLS   Adj. R-squared:                  0.282\n",
       "Method:                 Least Squares   F-statistic:                     200.8\n",
       "Date:                Mon, 28 Aug 2017   Prob (F-statistic):           1.21e-38\n",
       "Time:                        11:09:15   Log-Likelihood:                 422.30\n",
       "No. Observations:                 509   AIC:                            -840.6\n",
       "Df Residuals:                     507   BIC:                            -832.1\n",
       "Df Model:                           1                                         \n",
       "Covariance Type:            nonrobust                                         \n",
       "=================================================================================\n",
       "                    coef    std err          t      P>|t|      [0.025      0.975]\n",
       "---------------------------------------------------------------------------------\n",
       "Intercept        -0.1885      0.020     -9.334      0.000      -0.228      -0.149\n",
       "freedoms_mean     0.4164      0.029     14.172      0.000       0.359       0.474\n",
       "==============================================================================\n",
       "Omnibus:                      229.015   Durbin-Watson:                   1.985\n",
       "Prob(Omnibus):                  0.000   Jarque-Bera (JB):              989.276\n",
       "Skew:                           2.040   Prob(JB):                    1.52e-215\n",
       "Kurtosis:                       8.477   Cond. No.                         9.12\n",
       "==============================================================================\n",
       "\n",
       "Warnings:\n",
       "[1] Standard Errors assume that the covariance matrix of the errors is correctly specified.\n",
       "\"\"\""
      ]
     },
     "execution_count": 51,
     "metadata": {},
     "output_type": "execute_result"
    }
   ],
   "source": [
    "lm2.summary()"
   ]
  },
  {
   "cell_type": "code",
   "execution_count": 52,
   "metadata": {},
   "outputs": [
    {
     "data": {
      "text/html": [
       "<table class=\"simpletable\">\n",
       "<tr>\n",
       "        <td>Model:</td>               <td>OLS</td>         <td>Adj. R-squared:</td>     <td>0.282</td>  \n",
       "</tr>\n",
       "<tr>\n",
       "  <td>Dependent Variable:</td>     <td>gdp_ratio</td>           <td>AIC:</td>         <td>-840.6024</td>\n",
       "</tr>\n",
       "<tr>\n",
       "         <td>Date:</td>        <td>2017-08-28 11:09</td>        <td>BIC:</td>         <td>-832.1375</td>\n",
       "</tr>\n",
       "<tr>\n",
       "   <td>No. Observations:</td>         <td>509</td>         <td>Log-Likelihood:</td>    <td>422.30</td>  \n",
       "</tr>\n",
       "<tr>\n",
       "       <td>Df Model:</td>              <td>1</td>           <td>F-statistic:</td>       <td>200.8</td>  \n",
       "</tr>\n",
       "<tr>\n",
       "     <td>Df Residuals:</td>           <td>507</td>       <td>Prob (F-statistic):</td> <td>1.21e-38</td> \n",
       "</tr>\n",
       "<tr>\n",
       "      <td>R-squared:</td>            <td>0.284</td>            <td>Scale:</td>        <td>0.011184</td> \n",
       "</tr>\n",
       "</table>\n",
       "<table class=\"simpletable\">\n",
       "<tr>\n",
       "        <td></td>         <th>Coef.</th>  <th>Std.Err.</th>    <th>t</th>     <th>P>|t|</th> <th>[0.025</th>  <th>0.975]</th> \n",
       "</tr>\n",
       "<tr>\n",
       "  <th>Intercept</th>     <td>-0.1885</td>  <td>0.0202</td>  <td>-9.3340</td> <td>0.0000</td> <td>-0.2281</td> <td>-0.1488</td>\n",
       "</tr>\n",
       "<tr>\n",
       "  <th>freedoms_mean</th> <td>0.4164</td>   <td>0.0294</td>  <td>14.1716</td> <td>0.0000</td> <td>0.3587</td>  <td>0.4741</td> \n",
       "</tr>\n",
       "</table>\n",
       "<table class=\"simpletable\">\n",
       "<tr>\n",
       "     <td>Omnibus:</td>    <td>229.015</td>  <td>Durbin-Watson:</td>    <td>1.985</td> \n",
       "</tr>\n",
       "<tr>\n",
       "  <td>Prob(Omnibus):</td>  <td>0.000</td>  <td>Jarque-Bera (JB):</td> <td>989.276</td>\n",
       "</tr>\n",
       "<tr>\n",
       "       <td>Skew:</td>      <td>2.040</td>      <td>Prob(JB):</td>      <td>0.000</td> \n",
       "</tr>\n",
       "<tr>\n",
       "     <td>Kurtosis:</td>    <td>8.477</td>   <td>Condition No.:</td>      <td>9</td>   \n",
       "</tr>\n",
       "</table>"
      ],
      "text/plain": [
       "<class 'statsmodels.iolib.summary2.Summary'>\n",
       "\"\"\"\n",
       "                  Results: Ordinary least squares\n",
       "==================================================================\n",
       "Model:              OLS              Adj. R-squared:     0.282    \n",
       "Dependent Variable: gdp_ratio        AIC:                -840.6024\n",
       "Date:               2017-08-28 11:09 BIC:                -832.1375\n",
       "No. Observations:   509              Log-Likelihood:     422.30   \n",
       "Df Model:           1                F-statistic:        200.8    \n",
       "Df Residuals:       507              Prob (F-statistic): 1.21e-38 \n",
       "R-squared:          0.284            Scale:              0.011184 \n",
       "-------------------------------------------------------------------\n",
       "                Coef.   Std.Err.     t     P>|t|    [0.025   0.975]\n",
       "-------------------------------------------------------------------\n",
       "Intercept      -0.1885    0.0202  -9.3340  0.0000  -0.2281  -0.1488\n",
       "freedoms_mean   0.4164    0.0294  14.1716  0.0000   0.3587   0.4741\n",
       "------------------------------------------------------------------\n",
       "Omnibus:             229.015       Durbin-Watson:          1.985  \n",
       "Prob(Omnibus):       0.000         Jarque-Bera (JB):       989.276\n",
       "Skew:                2.040         Prob(JB):               0.000  \n",
       "Kurtosis:            8.477         Condition No.:          9      \n",
       "==================================================================\n",
       "\n",
       "\"\"\""
      ]
     },
     "execution_count": 52,
     "metadata": {},
     "output_type": "execute_result"
    }
   ],
   "source": [
    "lm2.summary2()"
   ]
  },
  {
   "cell_type": "code",
   "execution_count": 79,
   "metadata": {},
   "outputs": [],
   "source": [
    "#\n",
    "# Which countries ended up in the list?\n",
    "#\n",
    "examined_countries = ds_wo_na['Country Name'].unique()\n",
    "non_examined_countries = [x for x in ds[\"Country Name\"].unique() if x not in examined_countries]"
   ]
  },
  {
   "cell_type": "code",
   "execution_count": 88,
   "metadata": {
    "scrolled": true
   },
   "outputs": [
    {
     "data": {
      "text/html": [
       "<div>\n",
       "<style>\n",
       "    .dataframe thead tr:only-child th {\n",
       "        text-align: right;\n",
       "    }\n",
       "\n",
       "    .dataframe thead th {\n",
       "        text-align: left;\n",
       "    }\n",
       "\n",
       "    .dataframe tbody tr th {\n",
       "        vertical-align: top;\n",
       "    }\n",
       "</style>\n",
       "<table border=\"1\" class=\"dataframe\">\n",
       "  <thead>\n",
       "    <tr style=\"text-align: right;\">\n",
       "      <th></th>\n",
       "      <th>country</th>\n",
       "      <th>included</th>\n",
       "    </tr>\n",
       "  </thead>\n",
       "  <tbody>\n",
       "    <tr>\n",
       "      <th>0</th>\n",
       "      <td>Angola</td>\n",
       "      <td>yes</td>\n",
       "    </tr>\n",
       "    <tr>\n",
       "      <th>1</th>\n",
       "      <td>Albania</td>\n",
       "      <td>yes</td>\n",
       "    </tr>\n",
       "    <tr>\n",
       "      <th>2</th>\n",
       "      <td>Argentina</td>\n",
       "      <td>yes</td>\n",
       "    </tr>\n",
       "    <tr>\n",
       "      <th>3</th>\n",
       "      <td>Armenia</td>\n",
       "      <td>yes</td>\n",
       "    </tr>\n",
       "    <tr>\n",
       "      <th>4</th>\n",
       "      <td>Australia</td>\n",
       "      <td>yes</td>\n",
       "    </tr>\n",
       "    <tr>\n",
       "      <th>5</th>\n",
       "      <td>Austria</td>\n",
       "      <td>yes</td>\n",
       "    </tr>\n",
       "    <tr>\n",
       "      <th>6</th>\n",
       "      <td>Azerbaijan</td>\n",
       "      <td>yes</td>\n",
       "    </tr>\n",
       "    <tr>\n",
       "      <th>7</th>\n",
       "      <td>Burundi</td>\n",
       "      <td>yes</td>\n",
       "    </tr>\n",
       "    <tr>\n",
       "      <th>8</th>\n",
       "      <td>Belgium</td>\n",
       "      <td>yes</td>\n",
       "    </tr>\n",
       "    <tr>\n",
       "      <th>9</th>\n",
       "      <td>Benin</td>\n",
       "      <td>yes</td>\n",
       "    </tr>\n",
       "    <tr>\n",
       "      <th>10</th>\n",
       "      <td>Burkina Faso</td>\n",
       "      <td>yes</td>\n",
       "    </tr>\n",
       "    <tr>\n",
       "      <th>11</th>\n",
       "      <td>Bangladesh</td>\n",
       "      <td>yes</td>\n",
       "    </tr>\n",
       "    <tr>\n",
       "      <th>12</th>\n",
       "      <td>Bulgaria</td>\n",
       "      <td>yes</td>\n",
       "    </tr>\n",
       "    <tr>\n",
       "      <th>13</th>\n",
       "      <td>Bahrain</td>\n",
       "      <td>yes</td>\n",
       "    </tr>\n",
       "    <tr>\n",
       "      <th>14</th>\n",
       "      <td>Bolivia</td>\n",
       "      <td>yes</td>\n",
       "    </tr>\n",
       "    <tr>\n",
       "      <th>15</th>\n",
       "      <td>Brazil</td>\n",
       "      <td>yes</td>\n",
       "    </tr>\n",
       "    <tr>\n",
       "      <th>16</th>\n",
       "      <td>Botswana</td>\n",
       "      <td>yes</td>\n",
       "    </tr>\n",
       "    <tr>\n",
       "      <th>17</th>\n",
       "      <td>Canada</td>\n",
       "      <td>yes</td>\n",
       "    </tr>\n",
       "    <tr>\n",
       "      <th>18</th>\n",
       "      <td>Switzerland</td>\n",
       "      <td>yes</td>\n",
       "    </tr>\n",
       "    <tr>\n",
       "      <th>19</th>\n",
       "      <td>Chile</td>\n",
       "      <td>yes</td>\n",
       "    </tr>\n",
       "    <tr>\n",
       "      <th>20</th>\n",
       "      <td>China</td>\n",
       "      <td>yes</td>\n",
       "    </tr>\n",
       "    <tr>\n",
       "      <th>21</th>\n",
       "      <td>Cameroon</td>\n",
       "      <td>yes</td>\n",
       "    </tr>\n",
       "    <tr>\n",
       "      <th>22</th>\n",
       "      <td>Colombia</td>\n",
       "      <td>yes</td>\n",
       "    </tr>\n",
       "    <tr>\n",
       "      <th>23</th>\n",
       "      <td>Costa Rica</td>\n",
       "      <td>yes</td>\n",
       "    </tr>\n",
       "    <tr>\n",
       "      <th>24</th>\n",
       "      <td>Cyprus</td>\n",
       "      <td>yes</td>\n",
       "    </tr>\n",
       "    <tr>\n",
       "      <th>25</th>\n",
       "      <td>Germany</td>\n",
       "      <td>yes</td>\n",
       "    </tr>\n",
       "    <tr>\n",
       "      <th>26</th>\n",
       "      <td>Denmark</td>\n",
       "      <td>yes</td>\n",
       "    </tr>\n",
       "    <tr>\n",
       "      <th>27</th>\n",
       "      <td>Algeria</td>\n",
       "      <td>yes</td>\n",
       "    </tr>\n",
       "    <tr>\n",
       "      <th>28</th>\n",
       "      <td>Ecuador</td>\n",
       "      <td>yes</td>\n",
       "    </tr>\n",
       "    <tr>\n",
       "      <th>29</th>\n",
       "      <td>Spain</td>\n",
       "      <td>yes</td>\n",
       "    </tr>\n",
       "    <tr>\n",
       "      <th>...</th>\n",
       "      <td>...</td>\n",
       "      <td>...</td>\n",
       "    </tr>\n",
       "    <tr>\n",
       "      <th>73</th>\n",
       "      <td>Russian Federation</td>\n",
       "      <td>no</td>\n",
       "    </tr>\n",
       "    <tr>\n",
       "      <th>74</th>\n",
       "      <td>South Asia</td>\n",
       "      <td>no</td>\n",
       "    </tr>\n",
       "    <tr>\n",
       "      <th>75</th>\n",
       "      <td>Sudan</td>\n",
       "      <td>no</td>\n",
       "    </tr>\n",
       "    <tr>\n",
       "      <th>76</th>\n",
       "      <td>Solomon Islands</td>\n",
       "      <td>no</td>\n",
       "    </tr>\n",
       "    <tr>\n",
       "      <th>77</th>\n",
       "      <td>San Marino</td>\n",
       "      <td>no</td>\n",
       "    </tr>\n",
       "    <tr>\n",
       "      <th>78</th>\n",
       "      <td>Somalia</td>\n",
       "      <td>no</td>\n",
       "    </tr>\n",
       "    <tr>\n",
       "      <th>79</th>\n",
       "      <td>South Sudan</td>\n",
       "      <td>no</td>\n",
       "    </tr>\n",
       "    <tr>\n",
       "      <th>80</th>\n",
       "      <td>Sub-Saharan Africa</td>\n",
       "      <td>no</td>\n",
       "    </tr>\n",
       "    <tr>\n",
       "      <th>81</th>\n",
       "      <td>Small states</td>\n",
       "      <td>no</td>\n",
       "    </tr>\n",
       "    <tr>\n",
       "      <th>82</th>\n",
       "      <td>Sao Tome and Principe</td>\n",
       "      <td>no</td>\n",
       "    </tr>\n",
       "    <tr>\n",
       "      <th>83</th>\n",
       "      <td>Slovak Republic</td>\n",
       "      <td>no</td>\n",
       "    </tr>\n",
       "    <tr>\n",
       "      <th>84</th>\n",
       "      <td>Sint Maarten (Dutch part)</td>\n",
       "      <td>no</td>\n",
       "    </tr>\n",
       "    <tr>\n",
       "      <th>85</th>\n",
       "      <td>Seychelles</td>\n",
       "      <td>no</td>\n",
       "    </tr>\n",
       "    <tr>\n",
       "      <th>86</th>\n",
       "      <td>Syrian Arab Republic</td>\n",
       "      <td>no</td>\n",
       "    </tr>\n",
       "    <tr>\n",
       "      <th>87</th>\n",
       "      <td>Turks and Caicos Islands</td>\n",
       "      <td>no</td>\n",
       "    </tr>\n",
       "    <tr>\n",
       "      <th>88</th>\n",
       "      <td>Turkmenistan</td>\n",
       "      <td>no</td>\n",
       "    </tr>\n",
       "    <tr>\n",
       "      <th>89</th>\n",
       "      <td>Tonga</td>\n",
       "      <td>no</td>\n",
       "    </tr>\n",
       "    <tr>\n",
       "      <th>90</th>\n",
       "      <td>Trinidad and Tobago</td>\n",
       "      <td>no</td>\n",
       "    </tr>\n",
       "    <tr>\n",
       "      <th>91</th>\n",
       "      <td>Tuvalu</td>\n",
       "      <td>no</td>\n",
       "    </tr>\n",
       "    <tr>\n",
       "      <th>92</th>\n",
       "      <td>Upper middle income</td>\n",
       "      <td>no</td>\n",
       "    </tr>\n",
       "    <tr>\n",
       "      <th>93</th>\n",
       "      <td>Uzbekistan</td>\n",
       "      <td>no</td>\n",
       "    </tr>\n",
       "    <tr>\n",
       "      <th>94</th>\n",
       "      <td>St. Vincent and the Grenadines</td>\n",
       "      <td>no</td>\n",
       "    </tr>\n",
       "    <tr>\n",
       "      <th>95</th>\n",
       "      <td>Venezuela, RB</td>\n",
       "      <td>no</td>\n",
       "    </tr>\n",
       "    <tr>\n",
       "      <th>96</th>\n",
       "      <td>British Virgin Islands</td>\n",
       "      <td>no</td>\n",
       "    </tr>\n",
       "    <tr>\n",
       "      <th>97</th>\n",
       "      <td>Virgin Islands (U.S.)</td>\n",
       "      <td>no</td>\n",
       "    </tr>\n",
       "    <tr>\n",
       "      <th>98</th>\n",
       "      <td>Vanuatu</td>\n",
       "      <td>no</td>\n",
       "    </tr>\n",
       "    <tr>\n",
       "      <th>99</th>\n",
       "      <td>World</td>\n",
       "      <td>no</td>\n",
       "    </tr>\n",
       "    <tr>\n",
       "      <th>100</th>\n",
       "      <td>Samoa</td>\n",
       "      <td>no</td>\n",
       "    </tr>\n",
       "    <tr>\n",
       "      <th>101</th>\n",
       "      <td>Kosovo</td>\n",
       "      <td>no</td>\n",
       "    </tr>\n",
       "    <tr>\n",
       "      <th>102</th>\n",
       "      <td>Yemen, Rep.</td>\n",
       "      <td>no</td>\n",
       "    </tr>\n",
       "  </tbody>\n",
       "</table>\n",
       "<p>232 rows × 2 columns</p>\n",
       "</div>"
      ],
      "text/plain": [
       "                            country included\n",
       "0                            Angola      yes\n",
       "1                           Albania      yes\n",
       "2                         Argentina      yes\n",
       "3                           Armenia      yes\n",
       "4                         Australia      yes\n",
       "5                           Austria      yes\n",
       "6                        Azerbaijan      yes\n",
       "7                           Burundi      yes\n",
       "8                           Belgium      yes\n",
       "9                             Benin      yes\n",
       "10                     Burkina Faso      yes\n",
       "11                       Bangladesh      yes\n",
       "12                         Bulgaria      yes\n",
       "13                          Bahrain      yes\n",
       "14                          Bolivia      yes\n",
       "15                           Brazil      yes\n",
       "16                         Botswana      yes\n",
       "17                           Canada      yes\n",
       "18                      Switzerland      yes\n",
       "19                            Chile      yes\n",
       "20                            China      yes\n",
       "21                         Cameroon      yes\n",
       "22                         Colombia      yes\n",
       "23                       Costa Rica      yes\n",
       "24                           Cyprus      yes\n",
       "25                          Germany      yes\n",
       "26                          Denmark      yes\n",
       "27                          Algeria      yes\n",
       "28                          Ecuador      yes\n",
       "29                            Spain      yes\n",
       "..                              ...      ...\n",
       "73               Russian Federation       no\n",
       "74                       South Asia       no\n",
       "75                            Sudan       no\n",
       "76                  Solomon Islands       no\n",
       "77                       San Marino       no\n",
       "78                          Somalia       no\n",
       "79                      South Sudan       no\n",
       "80               Sub-Saharan Africa       no\n",
       "81                     Small states       no\n",
       "82            Sao Tome and Principe       no\n",
       "83                  Slovak Republic       no\n",
       "84        Sint Maarten (Dutch part)       no\n",
       "85                       Seychelles       no\n",
       "86             Syrian Arab Republic       no\n",
       "87         Turks and Caicos Islands       no\n",
       "88                     Turkmenistan       no\n",
       "89                            Tonga       no\n",
       "90              Trinidad and Tobago       no\n",
       "91                           Tuvalu       no\n",
       "92              Upper middle income       no\n",
       "93                       Uzbekistan       no\n",
       "94   St. Vincent and the Grenadines       no\n",
       "95                    Venezuela, RB       no\n",
       "96           British Virgin Islands       no\n",
       "97            Virgin Islands (U.S.)       no\n",
       "98                          Vanuatu       no\n",
       "99                            World       no\n",
       "100                           Samoa       no\n",
       "101                          Kosovo       no\n",
       "102                     Yemen, Rep.       no\n",
       "\n",
       "[232 rows x 2 columns]"
      ]
     },
     "execution_count": 88,
     "metadata": {},
     "output_type": "execute_result"
    }
   ],
   "source": [
    "which_countries_1 = pd.DataFrame({\"country\": examined_countries})\n",
    "which_countries_1[\"included\"] = \"yes\"\n",
    "\n",
    "which_countries_2 = pd.DataFrame({\"country\": non_examined_countries})\n",
    "which_countries_2[\"included\"] = \"no\"\n",
    "\n",
    "df_for_viz = which_countries_1.append(which_countries_2)\n",
    "\n",
    "df_for_viz"
   ]
  },
  {
   "cell_type": "code",
   "execution_count": 90,
   "metadata": {
    "collapsed": true
   },
   "outputs": [],
   "source": [
    "df_for_viz.to_csv(\"countries_examined.csv\", index=False)"
   ]
  },
  {
   "cell_type": "code",
   "execution_count": null,
   "metadata": {
    "collapsed": true
   },
   "outputs": [],
   "source": []
  }
 ],
 "metadata": {
  "kernelspec": {
   "display_name": "Python 2",
   "language": "python",
   "name": "python2"
  },
  "language_info": {
   "codemirror_mode": {
    "name": "ipython",
    "version": 2
   },
   "file_extension": ".py",
   "mimetype": "text/x-python",
   "name": "python",
   "nbconvert_exporter": "python",
   "pygments_lexer": "ipython2",
   "version": "2.7.13"
  }
 },
 "nbformat": 4,
 "nbformat_minor": 2
}
