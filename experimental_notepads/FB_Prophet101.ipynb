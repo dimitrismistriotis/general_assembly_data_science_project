{
 "cells": [
  {
   "cell_type": "markdown",
   "metadata": {},
   "source": [
    "# Experimenting w. FaceBook's forecasting tool Prophet\n",
    "\n",
    "Links:\n",
    "- [Quick Start](https://facebookincubator.github.io/prophet/docs/quick_start.html)\n",
    "- [Installation](https://facebookincubator.github.io/prophet/docs/installation.html)\n",
    "\n",
    "Quick install:\n",
    "\n",
    "```bash\n",
    "conda install -c conda-forge fbprophet.\n",
    "```"
   ]
  },
  {
   "cell_type": "code",
   "execution_count": 27,
   "metadata": {
    "collapsed": true
   },
   "outputs": [],
   "source": [
    "%matplotlib inline"
   ]
  },
  {
   "cell_type": "code",
   "execution_count": 1,
   "metadata": {
    "collapsed": true
   },
   "outputs": [],
   "source": [
    "import pandas as pd\n",
    "import numpy as np\n",
    "from fbprophet import Prophet"
   ]
  },
  {
   "cell_type": "code",
   "execution_count": 4,
   "metadata": {
    "collapsed": true
   },
   "outputs": [],
   "source": [
    "import datetime"
   ]
  },
  {
   "cell_type": "code",
   "execution_count": 11,
   "metadata": {},
   "outputs": [
    {
     "data": {
      "text/html": [
       "<div>\n",
       "<style>\n",
       "    .dataframe thead tr:only-child th {\n",
       "        text-align: right;\n",
       "    }\n",
       "\n",
       "    .dataframe thead th {\n",
       "        text-align: left;\n",
       "    }\n",
       "\n",
       "    .dataframe tbody tr th {\n",
       "        vertical-align: top;\n",
       "    }\n",
       "</style>\n",
       "<table border=\"1\" class=\"dataframe\">\n",
       "  <thead>\n",
       "    <tr style=\"text-align: right;\">\n",
       "      <th></th>\n",
       "      <th>ds</th>\n",
       "      <th>y</th>\n",
       "    </tr>\n",
       "  </thead>\n",
       "  <tbody>\n",
       "    <tr>\n",
       "      <th>0</th>\n",
       "      <td>2006-01-01</td>\n",
       "      <td>0</td>\n",
       "    </tr>\n",
       "    <tr>\n",
       "      <th>1</th>\n",
       "      <td>2007-01-01</td>\n",
       "      <td>1</td>\n",
       "    </tr>\n",
       "    <tr>\n",
       "      <th>2</th>\n",
       "      <td>2008-01-01</td>\n",
       "      <td>2</td>\n",
       "    </tr>\n",
       "    <tr>\n",
       "      <th>3</th>\n",
       "      <td>2009-01-01</td>\n",
       "      <td>3</td>\n",
       "    </tr>\n",
       "    <tr>\n",
       "      <th>4</th>\n",
       "      <td>2010-01-01</td>\n",
       "      <td>4</td>\n",
       "    </tr>\n",
       "    <tr>\n",
       "      <th>5</th>\n",
       "      <td>2011-01-01</td>\n",
       "      <td>5</td>\n",
       "    </tr>\n",
       "    <tr>\n",
       "      <th>6</th>\n",
       "      <td>2012-01-01</td>\n",
       "      <td>6</td>\n",
       "    </tr>\n",
       "    <tr>\n",
       "      <th>7</th>\n",
       "      <td>2013-01-01</td>\n",
       "      <td>7</td>\n",
       "    </tr>\n",
       "    <tr>\n",
       "      <th>8</th>\n",
       "      <td>2014-01-01</td>\n",
       "      <td>8</td>\n",
       "    </tr>\n",
       "    <tr>\n",
       "      <th>9</th>\n",
       "      <td>2015-01-01</td>\n",
       "      <td>9</td>\n",
       "    </tr>\n",
       "    <tr>\n",
       "      <th>10</th>\n",
       "      <td>2016-01-01</td>\n",
       "      <td>10</td>\n",
       "    </tr>\n",
       "  </tbody>\n",
       "</table>\n",
       "</div>"
      ],
      "text/plain": [
       "            ds   y\n",
       "0   2006-01-01   0\n",
       "1   2007-01-01   1\n",
       "2   2008-01-01   2\n",
       "3   2009-01-01   3\n",
       "4   2010-01-01   4\n",
       "5   2011-01-01   5\n",
       "6   2012-01-01   6\n",
       "7   2013-01-01   7\n",
       "8   2014-01-01   8\n",
       "9   2015-01-01   9\n",
       "10  2016-01-01  10"
      ]
     },
     "execution_count": 11,
     "metadata": {},
     "output_type": "execute_result"
    }
   ],
   "source": [
    "df = pd.DataFrame({\n",
    "    \"ds\": map(lambda x: x + \"-01-01\" ,map(str, range(2006, 2017))),\n",
    "    \"y\": range(0, 11)\n",
    "})\n",
    "\n",
    "df"
   ]
  },
  {
   "cell_type": "code",
   "execution_count": 12,
   "metadata": {
    "collapsed": true
   },
   "outputs": [],
   "source": [
    "m = Prophet()"
   ]
  },
  {
   "cell_type": "code",
   "execution_count": 13,
   "metadata": {},
   "outputs": [
    {
     "name": "stdout",
     "output_type": "stream",
     "text": [
      "Disabling weekly seasonality. Run prophet with weekly_seasonality=True to override this.\n"
     ]
    }
   ],
   "source": [
    "m.fit(df);"
   ]
  },
  {
   "cell_type": "code",
   "execution_count": 18,
   "metadata": {
    "collapsed": true
   },
   "outputs": [],
   "source": [
    "future = map(lambda x: x + \"-01-01\" ,map(str, range(2017, 2019))),"
   ]
  },
  {
   "cell_type": "code",
   "execution_count": 29,
   "metadata": {
    "collapsed": true
   },
   "outputs": [],
   "source": [
    "future = m.make_future_dataframe(periods=365*3)"
   ]
  },
  {
   "cell_type": "code",
   "execution_count": 31,
   "metadata": {},
   "outputs": [
    {
     "data": {
      "text/html": [
       "<div>\n",
       "<style>\n",
       "    .dataframe thead tr:only-child th {\n",
       "        text-align: right;\n",
       "    }\n",
       "\n",
       "    .dataframe thead th {\n",
       "        text-align: left;\n",
       "    }\n",
       "\n",
       "    .dataframe tbody tr th {\n",
       "        vertical-align: top;\n",
       "    }\n",
       "</style>\n",
       "<table border=\"1\" class=\"dataframe\">\n",
       "  <thead>\n",
       "    <tr style=\"text-align: right;\">\n",
       "      <th></th>\n",
       "      <th>ds</th>\n",
       "    </tr>\n",
       "  </thead>\n",
       "  <tbody>\n",
       "    <tr>\n",
       "      <th>1102</th>\n",
       "      <td>2018-12-28</td>\n",
       "    </tr>\n",
       "    <tr>\n",
       "      <th>1103</th>\n",
       "      <td>2018-12-29</td>\n",
       "    </tr>\n",
       "    <tr>\n",
       "      <th>1104</th>\n",
       "      <td>2018-12-30</td>\n",
       "    </tr>\n",
       "    <tr>\n",
       "      <th>1105</th>\n",
       "      <td>2018-12-31</td>\n",
       "    </tr>\n",
       "  </tbody>\n",
       "</table>\n",
       "</div>"
      ],
      "text/plain": [
       "             ds\n",
       "1102 2018-12-28\n",
       "1103 2018-12-29\n",
       "1104 2018-12-30\n",
       "1105 2018-12-31"
      ]
     },
     "execution_count": 31,
     "metadata": {},
     "output_type": "execute_result"
    }
   ],
   "source": [
    "future.tail(4)"
   ]
  },
  {
   "cell_type": "code",
   "execution_count": 32,
   "metadata": {
    "collapsed": true
   },
   "outputs": [],
   "source": [
    "forecast = m.predict(future)"
   ]
  },
  {
   "cell_type": "code",
   "execution_count": 33,
   "metadata": {},
   "outputs": [
    {
     "data": {
      "text/html": [
       "<div>\n",
       "<style>\n",
       "    .dataframe thead tr:only-child th {\n",
       "        text-align: right;\n",
       "    }\n",
       "\n",
       "    .dataframe thead th {\n",
       "        text-align: left;\n",
       "    }\n",
       "\n",
       "    .dataframe tbody tr th {\n",
       "        vertical-align: top;\n",
       "    }\n",
       "</style>\n",
       "<table border=\"1\" class=\"dataframe\">\n",
       "  <thead>\n",
       "    <tr style=\"text-align: right;\">\n",
       "      <th></th>\n",
       "      <th>ds</th>\n",
       "      <th>t</th>\n",
       "      <th>trend</th>\n",
       "      <th>seasonal_lower</th>\n",
       "      <th>seasonal_upper</th>\n",
       "      <th>trend_lower</th>\n",
       "      <th>trend_upper</th>\n",
       "      <th>yhat_lower</th>\n",
       "      <th>yhat_upper</th>\n",
       "      <th>yearly</th>\n",
       "      <th>yearly_lower</th>\n",
       "      <th>yearly_upper</th>\n",
       "      <th>seasonal</th>\n",
       "      <th>yhat</th>\n",
       "    </tr>\n",
       "  </thead>\n",
       "  <tbody>\n",
       "    <tr>\n",
       "      <th>1101</th>\n",
       "      <td>2018-12-27</td>\n",
       "      <td>1.298740</td>\n",
       "      <td>12.985467</td>\n",
       "      <td>0.013121</td>\n",
       "      <td>0.013121</td>\n",
       "      <td>12.982248</td>\n",
       "      <td>12.988360</td>\n",
       "      <td>12.995161</td>\n",
       "      <td>13.001838</td>\n",
       "      <td>0.013121</td>\n",
       "      <td>0.013121</td>\n",
       "      <td>0.013121</td>\n",
       "      <td>0.013121</td>\n",
       "      <td>12.998588</td>\n",
       "    </tr>\n",
       "    <tr>\n",
       "      <th>1102</th>\n",
       "      <td>2018-12-28</td>\n",
       "      <td>1.299014</td>\n",
       "      <td>12.988205</td>\n",
       "      <td>0.011022</td>\n",
       "      <td>0.011022</td>\n",
       "      <td>12.984980</td>\n",
       "      <td>12.991104</td>\n",
       "      <td>12.995739</td>\n",
       "      <td>13.002555</td>\n",
       "      <td>0.011022</td>\n",
       "      <td>0.011022</td>\n",
       "      <td>0.011022</td>\n",
       "      <td>0.011022</td>\n",
       "      <td>12.999227</td>\n",
       "    </tr>\n",
       "    <tr>\n",
       "      <th>1103</th>\n",
       "      <td>2018-12-29</td>\n",
       "      <td>1.299288</td>\n",
       "      <td>12.990943</td>\n",
       "      <td>0.008699</td>\n",
       "      <td>0.008699</td>\n",
       "      <td>12.987712</td>\n",
       "      <td>12.993847</td>\n",
       "      <td>12.995998</td>\n",
       "      <td>13.003056</td>\n",
       "      <td>0.008699</td>\n",
       "      <td>0.008699</td>\n",
       "      <td>0.008699</td>\n",
       "      <td>0.008699</td>\n",
       "      <td>12.999642</td>\n",
       "    </tr>\n",
       "    <tr>\n",
       "      <th>1104</th>\n",
       "      <td>2018-12-30</td>\n",
       "      <td>1.299562</td>\n",
       "      <td>12.993681</td>\n",
       "      <td>0.006196</td>\n",
       "      <td>0.006196</td>\n",
       "      <td>12.990444</td>\n",
       "      <td>12.996590</td>\n",
       "      <td>12.996450</td>\n",
       "      <td>13.003300</td>\n",
       "      <td>0.006196</td>\n",
       "      <td>0.006196</td>\n",
       "      <td>0.006196</td>\n",
       "      <td>0.006196</td>\n",
       "      <td>12.999877</td>\n",
       "    </tr>\n",
       "    <tr>\n",
       "      <th>1105</th>\n",
       "      <td>2018-12-31</td>\n",
       "      <td>1.299836</td>\n",
       "      <td>12.996419</td>\n",
       "      <td>0.003561</td>\n",
       "      <td>0.003561</td>\n",
       "      <td>12.993179</td>\n",
       "      <td>12.999334</td>\n",
       "      <td>12.996535</td>\n",
       "      <td>13.003324</td>\n",
       "      <td>0.003561</td>\n",
       "      <td>0.003561</td>\n",
       "      <td>0.003561</td>\n",
       "      <td>0.003561</td>\n",
       "      <td>12.999980</td>\n",
       "    </tr>\n",
       "  </tbody>\n",
       "</table>\n",
       "</div>"
      ],
      "text/plain": [
       "             ds         t      trend  seasonal_lower  seasonal_upper  \\\n",
       "1101 2018-12-27  1.298740  12.985467        0.013121        0.013121   \n",
       "1102 2018-12-28  1.299014  12.988205        0.011022        0.011022   \n",
       "1103 2018-12-29  1.299288  12.990943        0.008699        0.008699   \n",
       "1104 2018-12-30  1.299562  12.993681        0.006196        0.006196   \n",
       "1105 2018-12-31  1.299836  12.996419        0.003561        0.003561   \n",
       "\n",
       "      trend_lower  trend_upper  yhat_lower  yhat_upper    yearly  \\\n",
       "1101    12.982248    12.988360   12.995161   13.001838  0.013121   \n",
       "1102    12.984980    12.991104   12.995739   13.002555  0.011022   \n",
       "1103    12.987712    12.993847   12.995998   13.003056  0.008699   \n",
       "1104    12.990444    12.996590   12.996450   13.003300  0.006196   \n",
       "1105    12.993179    12.999334   12.996535   13.003324  0.003561   \n",
       "\n",
       "      yearly_lower  yearly_upper  seasonal       yhat  \n",
       "1101      0.013121      0.013121  0.013121  12.998588  \n",
       "1102      0.011022      0.011022  0.011022  12.999227  \n",
       "1103      0.008699      0.008699  0.008699  12.999642  \n",
       "1104      0.006196      0.006196  0.006196  12.999877  \n",
       "1105      0.003561      0.003561  0.003561  12.999980  "
      ]
     },
     "execution_count": 33,
     "metadata": {},
     "output_type": "execute_result"
    }
   ],
   "source": [
    "forecast.tail()"
   ]
  },
  {
   "cell_type": "code",
   "execution_count": 34,
   "metadata": {},
   "outputs": [
    {
     "data": {
      "image/png": "[encoded data removed]",
      "text/plain": [
       "<matplotlib.figure.Figure at 0x7ff20491b5d0>"
      ]
     },
     "metadata": {},
     "output_type": "display_data"
    }
   ],
   "source": [
    "m.plot(forecast);"
   ]
  },
  {
   "cell_type": "code",
   "execution_count": null,
   "metadata": {
    "collapsed": true
   },
   "outputs": [],
   "source": []
  }
 ],
 "metadata": {
  "kernelspec": {
   "display_name": "Python 2",
   "language": "python",
   "name": "python2"
  },
  "language_info": {
   "codemirror_mode": {
    "name": "ipython",
    "version": 2
   },
   "file_extension": ".py",
   "mimetype": "text/x-python",
   "name": "python",
   "nbconvert_exporter": "python",
   "pygments_lexer": "ipython2",
   "version": "2.7.13"
  }
 },
 "nbformat": 4,
 "nbformat_minor": 2
}
